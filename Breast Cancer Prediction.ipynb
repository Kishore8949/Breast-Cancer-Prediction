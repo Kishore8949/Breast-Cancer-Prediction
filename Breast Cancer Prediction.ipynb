{
 "cells": [
  {
   "cell_type": "code",
   "execution_count": 944,
   "id": "33abcabb",
   "metadata": {},
   "outputs": [],
   "source": [
    "!pip install pycaret\n",
    "import pandas as pd  #for data frames\n",
    "import numpy as np\n",
    "import warnings\n",
    "warnings.filterwarnings('ignore')"
   ]
  },
  {
   "cell_type": "code",
   "execution_count": 945,
   "id": "8f09d749",
   "metadata": {},
   "outputs": [],
   "source": [
    "data = pd.read_excel('Train.xlsx')#Train Data\n",
    "test_data = pd.read_excel('Test.xlsx')#Test Data "
   ]
  },
  {
   "cell_type": "code",
   "execution_count": 946,
   "id": "ea589c5e",
   "metadata": {},
   "outputs": [],
   "source": [
    "#import modules\n",
    "import matplotlib.pyplot as plt # for plotting graphs\n",
    "import seaborn as sns # for plotting graphs\n",
    "%matplotlib inline"
   ]
  },
  {
   "cell_type": "code",
   "execution_count": 947,
   "id": "35c406a9",
   "metadata": {},
   "outputs": [
    {
     "data": {
      "text/plain": [
       "Index            0\n",
       "BI_RADS          0\n",
       "Age             12\n",
       "Shape            1\n",
       "Margin           1\n",
       "Mass_Density     0\n",
       "Severity         0\n",
       "dtype: int64"
      ]
     },
     "execution_count": 947,
     "metadata": {},
     "output_type": "execute_result"
    }
   ],
   "source": [
    "test_data.isna().sum()# There are null values in test data"
   ]
  },
  {
   "cell_type": "code",
   "execution_count": 948,
   "id": "74095b3a",
   "metadata": {},
   "outputs": [
    {
     "name": "stdout",
     "output_type": "stream",
     "text": [
      "<class 'pandas.core.frame.DataFrame'>\n",
      "RangeIndex: 811 entries, 0 to 810\n",
      "Data columns (total 7 columns):\n",
      " #   Column        Non-Null Count  Dtype  \n",
      "---  ------        --------------  -----  \n",
      " 0   Index         811 non-null    int64  \n",
      " 1   BI_RADS       809 non-null    float64\n",
      " 2   Age           723 non-null    float64\n",
      " 3   Shape         781 non-null    object \n",
      " 4   Margin        764 non-null    object \n",
      " 5   Mass_Density  735 non-null    object \n",
      " 6   Severity      811 non-null    int64  \n",
      "dtypes: float64(2), int64(2), object(3)\n",
      "memory usage: 44.5+ KB\n"
     ]
    }
   ],
   "source": [
    "data.info()"
   ]
  },
  {
   "cell_type": "code",
   "execution_count": 949,
   "id": "6ca0d6d3",
   "metadata": {},
   "outputs": [
    {
     "data": {
      "text/plain": [
       "Index            0\n",
       "BI_RADS          2\n",
       "Age             88\n",
       "Shape           30\n",
       "Margin          47\n",
       "Mass_Density    76\n",
       "Severity         0\n",
       "dtype: int64"
      ]
     },
     "execution_count": 949,
     "metadata": {},
     "output_type": "execute_result"
    }
   ],
   "source": [
    "data.isna().sum() #There are null values for the features"
   ]
  },
  {
   "cell_type": "code",
   "execution_count": 950,
   "id": "8a8f0f27",
   "metadata": {},
   "outputs": [
    {
     "data": {
      "text/plain": [
       "count    809.000000\n",
       "mean       4.379481\n",
       "std        1.914800\n",
       "min        0.000000\n",
       "25%        4.000000\n",
       "50%        4.000000\n",
       "75%        5.000000\n",
       "max       55.000000\n",
       "Name: BI_RADS, dtype: float64"
      ]
     },
     "execution_count": 950,
     "metadata": {},
     "output_type": "execute_result"
    }
   ],
   "source": [
    "data['BI_RADS'].describe() #Individual feature Analysis"
   ]
  },
  {
   "cell_type": "code",
   "execution_count": 951,
   "id": "47abea00",
   "metadata": {},
   "outputs": [
    {
     "data": {
      "text/html": [
       "<div>\n",
       "<style scoped>\n",
       "    .dataframe tbody tr th:only-of-type {\n",
       "        vertical-align: middle;\n",
       "    }\n",
       "\n",
       "    .dataframe tbody tr th {\n",
       "        vertical-align: top;\n",
       "    }\n",
       "\n",
       "    .dataframe thead th {\n",
       "        text-align: right;\n",
       "    }\n",
       "</style>\n",
       "<table border=\"1\" class=\"dataframe\">\n",
       "  <thead>\n",
       "    <tr style=\"text-align: right;\">\n",
       "      <th></th>\n",
       "      <th>Index</th>\n",
       "      <th>BI_RADS</th>\n",
       "      <th>Age</th>\n",
       "      <th>Shape</th>\n",
       "      <th>Margin</th>\n",
       "      <th>Mass_Density</th>\n",
       "      <th>Severity</th>\n",
       "    </tr>\n",
       "  </thead>\n",
       "  <tbody>\n",
       "    <tr>\n",
       "      <th>20</th>\n",
       "      <td>21</td>\n",
       "      <td>NaN</td>\n",
       "      <td>66.0</td>\n",
       "      <td>NaN</td>\n",
       "      <td>NaN</td>\n",
       "      <td>high</td>\n",
       "      <td>1</td>\n",
       "    </tr>\n",
       "    <tr>\n",
       "      <th>208</th>\n",
       "      <td>209</td>\n",
       "      <td>NaN</td>\n",
       "      <td>52.0</td>\n",
       "      <td>irregular</td>\n",
       "      <td>ill-defined</td>\n",
       "      <td>low</td>\n",
       "      <td>0</td>\n",
       "    </tr>\n",
       "  </tbody>\n",
       "</table>\n",
       "</div>"
      ],
      "text/plain": [
       "     Index  BI_RADS   Age      Shape       Margin Mass_Density  Severity\n",
       "20      21      NaN  66.0        NaN          NaN         high         1\n",
       "208    209      NaN  52.0  irregular  ill-defined          low         0"
      ]
     },
     "execution_count": 951,
     "metadata": {},
     "output_type": "execute_result"
    }
   ],
   "source": [
    "data[data['BI_RADS'].isnull()] "
   ]
  },
  {
   "cell_type": "code",
   "execution_count": 952,
   "id": "8340bf8d",
   "metadata": {},
   "outputs": [
    {
     "data": {
      "text/plain": [
       "Index       407.140845\n",
       "BI_RADS       4.602837\n",
       "Age          62.574803\n",
       "Severity      0.753521\n",
       "dtype: float64"
      ]
     },
     "execution_count": 952,
     "metadata": {},
     "output_type": "execute_result"
    }
   ],
   "source": [
    "#replacing the null value with the mean of similar feature values present in the dataset\n",
    "data.loc[(data['Shape'] == 'irregular') & (data['Margin'] == 'ill-defined') & (data['Mass_Density'] == 'low')].mean()"
   ]
  },
  {
   "cell_type": "code",
   "execution_count": 953,
   "id": "698999b0",
   "metadata": {},
   "outputs": [],
   "source": [
    "data.loc[208, 'BI_RADS'] = 5 #got a mean 4.6 replaced with the ceil of the value"
   ]
  },
  {
   "cell_type": "code",
   "execution_count": 954,
   "id": "2de4757a",
   "metadata": {},
   "outputs": [],
   "source": [
    "data['BI_RADS'].fillna(data['BI_RADS'].mode()[0], inplace = True) #replaced other value with the mode"
   ]
  },
  {
   "cell_type": "code",
   "execution_count": 955,
   "id": "49ddeefd",
   "metadata": {},
   "outputs": [
    {
     "data": {
      "text/html": [
       "<div>\n",
       "<style scoped>\n",
       "    .dataframe tbody tr th:only-of-type {\n",
       "        vertical-align: middle;\n",
       "    }\n",
       "\n",
       "    .dataframe tbody tr th {\n",
       "        vertical-align: top;\n",
       "    }\n",
       "\n",
       "    .dataframe thead th {\n",
       "        text-align: right;\n",
       "    }\n",
       "</style>\n",
       "<table border=\"1\" class=\"dataframe\">\n",
       "  <thead>\n",
       "    <tr style=\"text-align: right;\">\n",
       "      <th></th>\n",
       "      <th>Index</th>\n",
       "      <th>BI_RADS</th>\n",
       "      <th>Age</th>\n",
       "      <th>Shape</th>\n",
       "      <th>Margin</th>\n",
       "      <th>Mass_Density</th>\n",
       "      <th>Severity</th>\n",
       "    </tr>\n",
       "  </thead>\n",
       "  <tbody>\n",
       "    <tr>\n",
       "      <th>340</th>\n",
       "      <td>341</td>\n",
       "      <td>55.0</td>\n",
       "      <td>46.0</td>\n",
       "      <td>irregular</td>\n",
       "      <td>obscured</td>\n",
       "      <td>low</td>\n",
       "      <td>1</td>\n",
       "    </tr>\n",
       "    <tr>\n",
       "      <th>456</th>\n",
       "      <td>457</td>\n",
       "      <td>0.0</td>\n",
       "      <td>69.0</td>\n",
       "      <td>irregular</td>\n",
       "      <td>spiculated</td>\n",
       "      <td>low</td>\n",
       "      <td>1</td>\n",
       "    </tr>\n",
       "    <tr>\n",
       "      <th>533</th>\n",
       "      <td>534</td>\n",
       "      <td>0.0</td>\n",
       "      <td>NaN</td>\n",
       "      <td>irregular</td>\n",
       "      <td>ill-defined</td>\n",
       "      <td>low</td>\n",
       "      <td>0</td>\n",
       "    </tr>\n",
       "    <tr>\n",
       "      <th>550</th>\n",
       "      <td>551</td>\n",
       "      <td>6.0</td>\n",
       "      <td>80.0</td>\n",
       "      <td>irregular</td>\n",
       "      <td>spiculated</td>\n",
       "      <td>low</td>\n",
       "      <td>1</td>\n",
       "    </tr>\n",
       "    <tr>\n",
       "      <th>664</th>\n",
       "      <td>665</td>\n",
       "      <td>6.0</td>\n",
       "      <td>60.0</td>\n",
       "      <td>lobular</td>\n",
       "      <td>spiculated</td>\n",
       "      <td>low</td>\n",
       "      <td>1</td>\n",
       "    </tr>\n",
       "    <tr>\n",
       "      <th>692</th>\n",
       "      <td>693</td>\n",
       "      <td>6.0</td>\n",
       "      <td>51.0</td>\n",
       "      <td>irregular</td>\n",
       "      <td>ill-defined</td>\n",
       "      <td>low</td>\n",
       "      <td>1</td>\n",
       "    </tr>\n",
       "    <tr>\n",
       "      <th>707</th>\n",
       "      <td>708</td>\n",
       "      <td>6.0</td>\n",
       "      <td>41.0</td>\n",
       "      <td>oval</td>\n",
       "      <td>circumscribed</td>\n",
       "      <td>low</td>\n",
       "      <td>0</td>\n",
       "    </tr>\n",
       "    <tr>\n",
       "      <th>717</th>\n",
       "      <td>718</td>\n",
       "      <td>6.0</td>\n",
       "      <td>71.0</td>\n",
       "      <td>irregular</td>\n",
       "      <td>ill-defined</td>\n",
       "      <td>low</td>\n",
       "      <td>1</td>\n",
       "    </tr>\n",
       "    <tr>\n",
       "      <th>718</th>\n",
       "      <td>719</td>\n",
       "      <td>6.0</td>\n",
       "      <td>68.0</td>\n",
       "      <td>irregular</td>\n",
       "      <td>obscured</td>\n",
       "      <td>low</td>\n",
       "      <td>1</td>\n",
       "    </tr>\n",
       "    <tr>\n",
       "      <th>745</th>\n",
       "      <td>746</td>\n",
       "      <td>6.0</td>\n",
       "      <td>76.0</td>\n",
       "      <td>lobular</td>\n",
       "      <td>NaN</td>\n",
       "      <td>low</td>\n",
       "      <td>0</td>\n",
       "    </tr>\n",
       "    <tr>\n",
       "      <th>784</th>\n",
       "      <td>785</td>\n",
       "      <td>6.0</td>\n",
       "      <td>63.0</td>\n",
       "      <td>round</td>\n",
       "      <td>circumscribed</td>\n",
       "      <td>low</td>\n",
       "      <td>0</td>\n",
       "    </tr>\n",
       "    <tr>\n",
       "      <th>799</th>\n",
       "      <td>800</td>\n",
       "      <td>0.0</td>\n",
       "      <td>72.0</td>\n",
       "      <td>irregular</td>\n",
       "      <td>obscured</td>\n",
       "      <td>low</td>\n",
       "      <td>1</td>\n",
       "    </tr>\n",
       "  </tbody>\n",
       "</table>\n",
       "</div>"
      ],
      "text/plain": [
       "     Index  BI_RADS   Age      Shape         Margin Mass_Density  Severity\n",
       "340    341     55.0  46.0  irregular       obscured          low         1\n",
       "456    457      0.0  69.0  irregular     spiculated          low         1\n",
       "533    534      0.0   NaN  irregular    ill-defined          low         0\n",
       "550    551      6.0  80.0  irregular     spiculated          low         1\n",
       "664    665      6.0  60.0    lobular     spiculated          low         1\n",
       "692    693      6.0  51.0  irregular    ill-defined          low         1\n",
       "707    708      6.0  41.0       oval  circumscribed          low         0\n",
       "717    718      6.0  71.0  irregular    ill-defined          low         1\n",
       "718    719      6.0  68.0  irregular       obscured          low         1\n",
       "745    746      6.0  76.0    lobular            NaN          low         0\n",
       "784    785      6.0  63.0      round  circumscribed          low         0\n",
       "799    800      0.0  72.0  irregular       obscured          low         1"
      ]
     },
     "execution_count": 955,
     "metadata": {},
     "output_type": "execute_result"
    }
   ],
   "source": [
    "data.loc[(data['BI_RADS'] > 5) | (data['BI_RADS'] == 0)] #As BI_RADS range is [1,5]"
   ]
  },
  {
   "cell_type": "code",
   "execution_count": 956,
   "id": "587a6c36",
   "metadata": {},
   "outputs": [],
   "source": [
    "data['BI_RADS'] = data['BI_RADS'].apply(lambda x : 5 if x > 5 else x) #replacing greater than 5 values to 5"
   ]
  },
  {
   "cell_type": "code",
   "execution_count": 957,
   "id": "eac05c12",
   "metadata": {},
   "outputs": [],
   "source": [
    "data['BI_RADS'] = data['BI_RADS'].apply(lambda x : 1 if x == 0 else x) #replacing zero values to 1"
   ]
  },
  {
   "cell_type": "code",
   "execution_count": 958,
   "id": "92c9a4fa",
   "metadata": {},
   "outputs": [
    {
     "data": {
      "text/plain": [
       "count    811.000000\n",
       "mean       4.311961\n",
       "std        0.663022\n",
       "min        1.000000\n",
       "25%        4.000000\n",
       "50%        4.000000\n",
       "75%        5.000000\n",
       "max        5.000000\n",
       "Name: BI_RADS, dtype: float64"
      ]
     },
     "execution_count": 958,
     "metadata": {},
     "output_type": "execute_result"
    }
   ],
   "source": [
    "data['BI_RADS'].describe()"
   ]
  },
  {
   "cell_type": "code",
   "execution_count": 959,
   "id": "5b5cba25",
   "metadata": {},
   "outputs": [
    {
     "data": {
      "text/plain": [
       "count    723.000000\n",
       "mean      55.887967\n",
       "std       16.886616\n",
       "min        5.000000\n",
       "25%       45.000000\n",
       "50%       56.000000\n",
       "75%       66.000000\n",
       "max      130.000000\n",
       "Name: Age, dtype: float64"
      ]
     },
     "execution_count": 959,
     "metadata": {},
     "output_type": "execute_result"
    }
   ],
   "source": [
    "data['Age'].describe() #Individual feature Analysis"
   ]
  },
  {
   "cell_type": "code",
   "execution_count": 960,
   "id": "28a8e68c",
   "metadata": {},
   "outputs": [
    {
     "data": {
      "text/html": [
       "<div>\n",
       "<style scoped>\n",
       "    .dataframe tbody tr th:only-of-type {\n",
       "        vertical-align: middle;\n",
       "    }\n",
       "\n",
       "    .dataframe tbody tr th {\n",
       "        vertical-align: top;\n",
       "    }\n",
       "\n",
       "    .dataframe thead th {\n",
       "        text-align: right;\n",
       "    }\n",
       "</style>\n",
       "<table border=\"1\" class=\"dataframe\">\n",
       "  <thead>\n",
       "    <tr style=\"text-align: right;\">\n",
       "      <th></th>\n",
       "      <th>Index</th>\n",
       "      <th>BI_RADS</th>\n",
       "      <th>Age</th>\n",
       "      <th>Shape</th>\n",
       "      <th>Margin</th>\n",
       "      <th>Mass_Density</th>\n",
       "      <th>Severity</th>\n",
       "    </tr>\n",
       "  </thead>\n",
       "  <tbody>\n",
       "    <tr>\n",
       "      <th>25</th>\n",
       "      <td>26</td>\n",
       "      <td>5.0</td>\n",
       "      <td>NaN</td>\n",
       "      <td>irregular</td>\n",
       "      <td>spiculated</td>\n",
       "      <td>low</td>\n",
       "      <td>1</td>\n",
       "    </tr>\n",
       "    <tr>\n",
       "      <th>27</th>\n",
       "      <td>28</td>\n",
       "      <td>5.0</td>\n",
       "      <td>NaN</td>\n",
       "      <td>lobular</td>\n",
       "      <td>NaN</td>\n",
       "      <td>low</td>\n",
       "      <td>0</td>\n",
       "    </tr>\n",
       "    <tr>\n",
       "      <th>50</th>\n",
       "      <td>51</td>\n",
       "      <td>4.0</td>\n",
       "      <td>NaN</td>\n",
       "      <td>oval</td>\n",
       "      <td>circumscribed</td>\n",
       "      <td>iso</td>\n",
       "      <td>0</td>\n",
       "    </tr>\n",
       "    <tr>\n",
       "      <th>71</th>\n",
       "      <td>72</td>\n",
       "      <td>5.0</td>\n",
       "      <td>NaN</td>\n",
       "      <td>irregular</td>\n",
       "      <td>obscured</td>\n",
       "      <td>low</td>\n",
       "      <td>1</td>\n",
       "    </tr>\n",
       "    <tr>\n",
       "      <th>72</th>\n",
       "      <td>73</td>\n",
       "      <td>5.0</td>\n",
       "      <td>NaN</td>\n",
       "      <td>irregular</td>\n",
       "      <td>spiculated</td>\n",
       "      <td>low</td>\n",
       "      <td>0</td>\n",
       "    </tr>\n",
       "    <tr>\n",
       "      <th>...</th>\n",
       "      <td>...</td>\n",
       "      <td>...</td>\n",
       "      <td>...</td>\n",
       "      <td>...</td>\n",
       "      <td>...</td>\n",
       "      <td>...</td>\n",
       "      <td>...</td>\n",
       "    </tr>\n",
       "    <tr>\n",
       "      <th>768</th>\n",
       "      <td>769</td>\n",
       "      <td>4.0</td>\n",
       "      <td>NaN</td>\n",
       "      <td>irregular</td>\n",
       "      <td>spiculated</td>\n",
       "      <td>low</td>\n",
       "      <td>0</td>\n",
       "    </tr>\n",
       "    <tr>\n",
       "      <th>769</th>\n",
       "      <td>770</td>\n",
       "      <td>5.0</td>\n",
       "      <td>NaN</td>\n",
       "      <td>oval</td>\n",
       "      <td>ill-defined</td>\n",
       "      <td>low</td>\n",
       "      <td>1</td>\n",
       "    </tr>\n",
       "    <tr>\n",
       "      <th>797</th>\n",
       "      <td>798</td>\n",
       "      <td>5.0</td>\n",
       "      <td>NaN</td>\n",
       "      <td>irregular</td>\n",
       "      <td>ill-defined</td>\n",
       "      <td>low</td>\n",
       "      <td>1</td>\n",
       "    </tr>\n",
       "    <tr>\n",
       "      <th>803</th>\n",
       "      <td>804</td>\n",
       "      <td>4.0</td>\n",
       "      <td>NaN</td>\n",
       "      <td>oval</td>\n",
       "      <td>circumscribed</td>\n",
       "      <td>low</td>\n",
       "      <td>0</td>\n",
       "    </tr>\n",
       "    <tr>\n",
       "      <th>809</th>\n",
       "      <td>810</td>\n",
       "      <td>4.0</td>\n",
       "      <td>NaN</td>\n",
       "      <td>round</td>\n",
       "      <td>ill-defined</td>\n",
       "      <td>low</td>\n",
       "      <td>0</td>\n",
       "    </tr>\n",
       "  </tbody>\n",
       "</table>\n",
       "<p>88 rows × 7 columns</p>\n",
       "</div>"
      ],
      "text/plain": [
       "     Index  BI_RADS  Age      Shape         Margin Mass_Density  Severity\n",
       "25      26      5.0  NaN  irregular     spiculated          low         1\n",
       "27      28      5.0  NaN    lobular            NaN          low         0\n",
       "50      51      4.0  NaN       oval  circumscribed          iso         0\n",
       "71      72      5.0  NaN  irregular       obscured          low         1\n",
       "72      73      5.0  NaN  irregular     spiculated          low         0\n",
       "..     ...      ...  ...        ...            ...          ...       ...\n",
       "768    769      4.0  NaN  irregular     spiculated          low         0\n",
       "769    770      5.0  NaN       oval    ill-defined          low         1\n",
       "797    798      5.0  NaN  irregular    ill-defined          low         1\n",
       "803    804      4.0  NaN       oval  circumscribed          low         0\n",
       "809    810      4.0  NaN      round    ill-defined          low         0\n",
       "\n",
       "[88 rows x 7 columns]"
      ]
     },
     "execution_count": 960,
     "metadata": {},
     "output_type": "execute_result"
    }
   ],
   "source": [
    "data[data['Age'].isnull()] #There are null values"
   ]
  },
  {
   "cell_type": "code",
   "execution_count": 961,
   "id": "59fe57d5",
   "metadata": {},
   "outputs": [
    {
     "data": {
      "text/html": [
       "<div>\n",
       "<style scoped>\n",
       "    .dataframe tbody tr th:only-of-type {\n",
       "        vertical-align: middle;\n",
       "    }\n",
       "\n",
       "    .dataframe tbody tr th {\n",
       "        vertical-align: top;\n",
       "    }\n",
       "\n",
       "    .dataframe thead th {\n",
       "        text-align: right;\n",
       "    }\n",
       "</style>\n",
       "<table border=\"1\" class=\"dataframe\">\n",
       "  <thead>\n",
       "    <tr style=\"text-align: right;\">\n",
       "      <th></th>\n",
       "      <th>Index</th>\n",
       "      <th>BI_RADS</th>\n",
       "      <th>Age</th>\n",
       "      <th>Shape</th>\n",
       "      <th>Margin</th>\n",
       "      <th>Mass_Density</th>\n",
       "      <th>Severity</th>\n",
       "    </tr>\n",
       "  </thead>\n",
       "  <tbody>\n",
       "    <tr>\n",
       "      <th>119</th>\n",
       "      <td>120</td>\n",
       "      <td>5.0</td>\n",
       "      <td>130.0</td>\n",
       "      <td>irregular</td>\n",
       "      <td>spiculated</td>\n",
       "      <td>low</td>\n",
       "      <td>0</td>\n",
       "    </tr>\n",
       "    <tr>\n",
       "      <th>132</th>\n",
       "      <td>133</td>\n",
       "      <td>5.0</td>\n",
       "      <td>130.0</td>\n",
       "      <td>irregular</td>\n",
       "      <td>ill-defined</td>\n",
       "      <td>low</td>\n",
       "      <td>0</td>\n",
       "    </tr>\n",
       "    <tr>\n",
       "      <th>169</th>\n",
       "      <td>170</td>\n",
       "      <td>5.0</td>\n",
       "      <td>130.0</td>\n",
       "      <td>irregular</td>\n",
       "      <td>spiculated</td>\n",
       "      <td>low</td>\n",
       "      <td>1</td>\n",
       "    </tr>\n",
       "    <tr>\n",
       "      <th>195</th>\n",
       "      <td>196</td>\n",
       "      <td>5.0</td>\n",
       "      <td>130.0</td>\n",
       "      <td>irregular</td>\n",
       "      <td>ill-defined</td>\n",
       "      <td>low</td>\n",
       "      <td>1</td>\n",
       "    </tr>\n",
       "    <tr>\n",
       "      <th>330</th>\n",
       "      <td>331</td>\n",
       "      <td>5.0</td>\n",
       "      <td>130.0</td>\n",
       "      <td>lobular</td>\n",
       "      <td>spiculated</td>\n",
       "      <td>low</td>\n",
       "      <td>1</td>\n",
       "    </tr>\n",
       "    <tr>\n",
       "      <th>466</th>\n",
       "      <td>467</td>\n",
       "      <td>5.0</td>\n",
       "      <td>130.0</td>\n",
       "      <td>irregular</td>\n",
       "      <td>spiculated</td>\n",
       "      <td>low</td>\n",
       "      <td>1</td>\n",
       "    </tr>\n",
       "    <tr>\n",
       "      <th>578</th>\n",
       "      <td>579</td>\n",
       "      <td>5.0</td>\n",
       "      <td>130.0</td>\n",
       "      <td>lobular</td>\n",
       "      <td>microlobulated</td>\n",
       "      <td>low</td>\n",
       "      <td>1</td>\n",
       "    </tr>\n",
       "    <tr>\n",
       "      <th>596</th>\n",
       "      <td>597</td>\n",
       "      <td>5.0</td>\n",
       "      <td>130.0</td>\n",
       "      <td>irregular</td>\n",
       "      <td>obscured</td>\n",
       "      <td>low</td>\n",
       "      <td>1</td>\n",
       "    </tr>\n",
       "    <tr>\n",
       "      <th>609</th>\n",
       "      <td>610</td>\n",
       "      <td>5.0</td>\n",
       "      <td>130.0</td>\n",
       "      <td>lobular</td>\n",
       "      <td>ill-defined</td>\n",
       "      <td>low</td>\n",
       "      <td>1</td>\n",
       "    </tr>\n",
       "    <tr>\n",
       "      <th>616</th>\n",
       "      <td>617</td>\n",
       "      <td>5.0</td>\n",
       "      <td>93.0</td>\n",
       "      <td>round</td>\n",
       "      <td>spiculated</td>\n",
       "      <td>low</td>\n",
       "      <td>1</td>\n",
       "    </tr>\n",
       "    <tr>\n",
       "      <th>726</th>\n",
       "      <td>727</td>\n",
       "      <td>5.0</td>\n",
       "      <td>96.0</td>\n",
       "      <td>lobular</td>\n",
       "      <td>ill-defined</td>\n",
       "      <td>low</td>\n",
       "      <td>1</td>\n",
       "    </tr>\n",
       "  </tbody>\n",
       "</table>\n",
       "</div>"
      ],
      "text/plain": [
       "     Index  BI_RADS    Age      Shape          Margin Mass_Density  Severity\n",
       "119    120      5.0  130.0  irregular      spiculated          low         0\n",
       "132    133      5.0  130.0  irregular     ill-defined          low         0\n",
       "169    170      5.0  130.0  irregular      spiculated          low         1\n",
       "195    196      5.0  130.0  irregular     ill-defined          low         1\n",
       "330    331      5.0  130.0    lobular      spiculated          low         1\n",
       "466    467      5.0  130.0  irregular      spiculated          low         1\n",
       "578    579      5.0  130.0    lobular  microlobulated          low         1\n",
       "596    597      5.0  130.0  irregular        obscured          low         1\n",
       "609    610      5.0  130.0    lobular     ill-defined          low         1\n",
       "616    617      5.0   93.0      round      spiculated          low         1\n",
       "726    727      5.0   96.0    lobular     ill-defined          low         1"
      ]
     },
     "execution_count": 961,
     "metadata": {},
     "output_type": "execute_result"
    }
   ],
   "source": [
    "data[data['Age'] > 90] # There are People with age 130 "
   ]
  },
  {
   "cell_type": "code",
   "execution_count": 962,
   "id": "a8e85bb2",
   "metadata": {},
   "outputs": [],
   "source": [
    "data['Age'] = data['Age'].apply(lambda x : 96.0 if x == 130 else x) #replacing 130 people age with max age value"
   ]
  },
  {
   "cell_type": "code",
   "execution_count": 963,
   "id": "5187c222",
   "metadata": {},
   "outputs": [],
   "source": [
    "data['Age'] = data['Age'].replace(np.NaN, data['Age'].mean()) #replacing all other nan values to mean"
   ]
  },
  {
   "cell_type": "code",
   "execution_count": 964,
   "id": "61241a99",
   "metadata": {},
   "outputs": [
    {
     "data": {
      "text/html": [
       "<div>\n",
       "<style scoped>\n",
       "    .dataframe tbody tr th:only-of-type {\n",
       "        vertical-align: middle;\n",
       "    }\n",
       "\n",
       "    .dataframe tbody tr th {\n",
       "        vertical-align: top;\n",
       "    }\n",
       "\n",
       "    .dataframe thead th {\n",
       "        text-align: right;\n",
       "    }\n",
       "</style>\n",
       "<table border=\"1\" class=\"dataframe\">\n",
       "  <thead>\n",
       "    <tr style=\"text-align: right;\">\n",
       "      <th></th>\n",
       "      <th>Index</th>\n",
       "      <th>BI_RADS</th>\n",
       "      <th>Age</th>\n",
       "      <th>Shape</th>\n",
       "      <th>Margin</th>\n",
       "      <th>Mass_Density</th>\n",
       "      <th>Severity</th>\n",
       "    </tr>\n",
       "  </thead>\n",
       "  <tbody>\n",
       "    <tr>\n",
       "      <th>2</th>\n",
       "      <td>3</td>\n",
       "      <td>4</td>\n",
       "      <td>NaN</td>\n",
       "      <td>oval</td>\n",
       "      <td>circumscribed</td>\n",
       "      <td>low</td>\n",
       "      <td>0</td>\n",
       "    </tr>\n",
       "    <tr>\n",
       "      <th>8</th>\n",
       "      <td>9</td>\n",
       "      <td>4</td>\n",
       "      <td>NaN</td>\n",
       "      <td>lobular</td>\n",
       "      <td>NaN</td>\n",
       "      <td>iso</td>\n",
       "      <td>0</td>\n",
       "    </tr>\n",
       "    <tr>\n",
       "      <th>12</th>\n",
       "      <td>13</td>\n",
       "      <td>4</td>\n",
       "      <td>NaN</td>\n",
       "      <td>round</td>\n",
       "      <td>circumscribed</td>\n",
       "      <td>high</td>\n",
       "      <td>1</td>\n",
       "    </tr>\n",
       "    <tr>\n",
       "      <th>42</th>\n",
       "      <td>43</td>\n",
       "      <td>4</td>\n",
       "      <td>NaN</td>\n",
       "      <td>irregular</td>\n",
       "      <td>spiculated</td>\n",
       "      <td>low</td>\n",
       "      <td>0</td>\n",
       "    </tr>\n",
       "    <tr>\n",
       "      <th>52</th>\n",
       "      <td>53</td>\n",
       "      <td>4</td>\n",
       "      <td>NaN</td>\n",
       "      <td>irregular</td>\n",
       "      <td>microlobulated</td>\n",
       "      <td>iso</td>\n",
       "      <td>1</td>\n",
       "    </tr>\n",
       "    <tr>\n",
       "      <th>73</th>\n",
       "      <td>74</td>\n",
       "      <td>5</td>\n",
       "      <td>NaN</td>\n",
       "      <td>irregular</td>\n",
       "      <td>ill-defined</td>\n",
       "      <td>low</td>\n",
       "      <td>1</td>\n",
       "    </tr>\n",
       "    <tr>\n",
       "      <th>77</th>\n",
       "      <td>78</td>\n",
       "      <td>5</td>\n",
       "      <td>NaN</td>\n",
       "      <td>irregular</td>\n",
       "      <td>obscured</td>\n",
       "      <td>low</td>\n",
       "      <td>1</td>\n",
       "    </tr>\n",
       "    <tr>\n",
       "      <th>112</th>\n",
       "      <td>113</td>\n",
       "      <td>5</td>\n",
       "      <td>NaN</td>\n",
       "      <td>irregular</td>\n",
       "      <td>obscured</td>\n",
       "      <td>low</td>\n",
       "      <td>1</td>\n",
       "    </tr>\n",
       "    <tr>\n",
       "      <th>114</th>\n",
       "      <td>115</td>\n",
       "      <td>4</td>\n",
       "      <td>NaN</td>\n",
       "      <td>oval</td>\n",
       "      <td>circumscribed</td>\n",
       "      <td>low</td>\n",
       "      <td>0</td>\n",
       "    </tr>\n",
       "    <tr>\n",
       "      <th>126</th>\n",
       "      <td>127</td>\n",
       "      <td>4</td>\n",
       "      <td>NaN</td>\n",
       "      <td>irregular</td>\n",
       "      <td>ill-defined</td>\n",
       "      <td>low</td>\n",
       "      <td>0</td>\n",
       "    </tr>\n",
       "    <tr>\n",
       "      <th>129</th>\n",
       "      <td>130</td>\n",
       "      <td>4</td>\n",
       "      <td>NaN</td>\n",
       "      <td>irregular</td>\n",
       "      <td>ill-defined</td>\n",
       "      <td>low</td>\n",
       "      <td>1</td>\n",
       "    </tr>\n",
       "    <tr>\n",
       "      <th>138</th>\n",
       "      <td>139</td>\n",
       "      <td>4</td>\n",
       "      <td>NaN</td>\n",
       "      <td>oval</td>\n",
       "      <td>circumscribed</td>\n",
       "      <td>low</td>\n",
       "      <td>0</td>\n",
       "    </tr>\n",
       "  </tbody>\n",
       "</table>\n",
       "</div>"
      ],
      "text/plain": [
       "     Index  BI_RADS  Age      Shape          Margin Mass_Density  Severity\n",
       "2        3        4  NaN       oval   circumscribed          low         0\n",
       "8        9        4  NaN    lobular             NaN          iso         0\n",
       "12      13        4  NaN      round   circumscribed         high         1\n",
       "42      43        4  NaN  irregular      spiculated          low         0\n",
       "52      53        4  NaN  irregular  microlobulated          iso         1\n",
       "73      74        5  NaN  irregular     ill-defined          low         1\n",
       "77      78        5  NaN  irregular        obscured          low         1\n",
       "112    113        5  NaN  irregular        obscured          low         1\n",
       "114    115        4  NaN       oval   circumscribed          low         0\n",
       "126    127        4  NaN  irregular     ill-defined          low         0\n",
       "129    130        4  NaN  irregular     ill-defined          low         1\n",
       "138    139        4  NaN       oval   circumscribed          low         0"
      ]
     },
     "execution_count": 964,
     "metadata": {},
     "output_type": "execute_result"
    }
   ],
   "source": [
    "test_data[test_data['Age'].isnull()] #There are null values"
   ]
  },
  {
   "cell_type": "code",
   "execution_count": 965,
   "id": "9ad790ea",
   "metadata": {},
   "outputs": [],
   "source": [
    "test_data['Age'] = test_data['Age'].apply(lambda x : 96.0 if x == 130 else x) #replacing 130 people age with max age value"
   ]
  },
  {
   "cell_type": "code",
   "execution_count": 966,
   "id": "d025fabd",
   "metadata": {},
   "outputs": [],
   "source": [
    "test_data['Age'] = test_data['Age'].replace(np.NaN, test_data['Age'].mean()) #replacing all other nan values to mean"
   ]
  },
  {
   "cell_type": "code",
   "execution_count": 967,
   "id": "16392280",
   "metadata": {},
   "outputs": [
    {
     "data": {
      "text/plain": [
       "count           781\n",
       "unique            4\n",
       "top       irregular\n",
       "freq            340\n",
       "Name: Shape, dtype: object"
      ]
     },
     "execution_count": 967,
     "metadata": {},
     "output_type": "execute_result"
    }
   ],
   "source": [
    "data['Shape'].describe()"
   ]
  },
  {
   "cell_type": "code",
   "execution_count": 968,
   "id": "dfefca44",
   "metadata": {},
   "outputs": [
    {
     "data": {
      "text/html": [
       "<div>\n",
       "<style scoped>\n",
       "    .dataframe tbody tr th:only-of-type {\n",
       "        vertical-align: middle;\n",
       "    }\n",
       "\n",
       "    .dataframe tbody tr th {\n",
       "        vertical-align: top;\n",
       "    }\n",
       "\n",
       "    .dataframe thead th {\n",
       "        text-align: right;\n",
       "    }\n",
       "</style>\n",
       "<table border=\"1\" class=\"dataframe\">\n",
       "  <thead>\n",
       "    <tr style=\"text-align: right;\">\n",
       "      <th></th>\n",
       "      <th>Index</th>\n",
       "      <th>BI_RADS</th>\n",
       "      <th>Age</th>\n",
       "      <th>Shape</th>\n",
       "      <th>Margin</th>\n",
       "      <th>Mass_Density</th>\n",
       "      <th>Severity</th>\n",
       "    </tr>\n",
       "  </thead>\n",
       "  <tbody>\n",
       "    <tr>\n",
       "      <th>6</th>\n",
       "      <td>7</td>\n",
       "      <td>4.0</td>\n",
       "      <td>70.00000</td>\n",
       "      <td>NaN</td>\n",
       "      <td>NaN</td>\n",
       "      <td>low</td>\n",
       "      <td>0</td>\n",
       "    </tr>\n",
       "    <tr>\n",
       "      <th>9</th>\n",
       "      <td>10</td>\n",
       "      <td>5.0</td>\n",
       "      <td>60.00000</td>\n",
       "      <td>NaN</td>\n",
       "      <td>spiculated</td>\n",
       "      <td>high</td>\n",
       "      <td>1</td>\n",
       "    </tr>\n",
       "    <tr>\n",
       "      <th>20</th>\n",
       "      <td>21</td>\n",
       "      <td>4.0</td>\n",
       "      <td>66.00000</td>\n",
       "      <td>NaN</td>\n",
       "      <td>NaN</td>\n",
       "      <td>high</td>\n",
       "      <td>1</td>\n",
       "    </tr>\n",
       "    <tr>\n",
       "      <th>48</th>\n",
       "      <td>49</td>\n",
       "      <td>2.0</td>\n",
       "      <td>42.00000</td>\n",
       "      <td>NaN</td>\n",
       "      <td>NaN</td>\n",
       "      <td>fat-containing</td>\n",
       "      <td>0</td>\n",
       "    </tr>\n",
       "    <tr>\n",
       "      <th>54</th>\n",
       "      <td>55</td>\n",
       "      <td>4.0</td>\n",
       "      <td>53.00000</td>\n",
       "      <td>NaN</td>\n",
       "      <td>spiculated</td>\n",
       "      <td>low</td>\n",
       "      <td>1</td>\n",
       "    </tr>\n",
       "    <tr>\n",
       "      <th>74</th>\n",
       "      <td>75</td>\n",
       "      <td>5.0</td>\n",
       "      <td>70.00000</td>\n",
       "      <td>NaN</td>\n",
       "      <td>ill-defined</td>\n",
       "      <td>NaN</td>\n",
       "      <td>1</td>\n",
       "    </tr>\n",
       "    <tr>\n",
       "      <th>83</th>\n",
       "      <td>84</td>\n",
       "      <td>4.0</td>\n",
       "      <td>57.00000</td>\n",
       "      <td>NaN</td>\n",
       "      <td>ill-defined</td>\n",
       "      <td>high</td>\n",
       "      <td>0</td>\n",
       "    </tr>\n",
       "    <tr>\n",
       "      <th>128</th>\n",
       "      <td>129</td>\n",
       "      <td>4.0</td>\n",
       "      <td>52.00000</td>\n",
       "      <td>NaN</td>\n",
       "      <td>ill-defined</td>\n",
       "      <td>NaN</td>\n",
       "      <td>0</td>\n",
       "    </tr>\n",
       "    <tr>\n",
       "      <th>157</th>\n",
       "      <td>158</td>\n",
       "      <td>4.0</td>\n",
       "      <td>51.00000</td>\n",
       "      <td>NaN</td>\n",
       "      <td>NaN</td>\n",
       "      <td>low</td>\n",
       "      <td>0</td>\n",
       "    </tr>\n",
       "    <tr>\n",
       "      <th>163</th>\n",
       "      <td>164</td>\n",
       "      <td>4.0</td>\n",
       "      <td>53.00000</td>\n",
       "      <td>NaN</td>\n",
       "      <td>ill-defined</td>\n",
       "      <td>low</td>\n",
       "      <td>0</td>\n",
       "    </tr>\n",
       "    <tr>\n",
       "      <th>236</th>\n",
       "      <td>237</td>\n",
       "      <td>3.0</td>\n",
       "      <td>60.00000</td>\n",
       "      <td>NaN</td>\n",
       "      <td>obscured</td>\n",
       "      <td>high</td>\n",
       "      <td>0</td>\n",
       "    </tr>\n",
       "    <tr>\n",
       "      <th>255</th>\n",
       "      <td>256</td>\n",
       "      <td>3.0</td>\n",
       "      <td>76.00000</td>\n",
       "      <td>NaN</td>\n",
       "      <td>obscured</td>\n",
       "      <td>iso</td>\n",
       "      <td>0</td>\n",
       "    </tr>\n",
       "    <tr>\n",
       "      <th>387</th>\n",
       "      <td>388</td>\n",
       "      <td>5.0</td>\n",
       "      <td>55.46473</td>\n",
       "      <td>NaN</td>\n",
       "      <td>NaN</td>\n",
       "      <td>low</td>\n",
       "      <td>0</td>\n",
       "    </tr>\n",
       "    <tr>\n",
       "      <th>388</th>\n",
       "      <td>389</td>\n",
       "      <td>2.0</td>\n",
       "      <td>49.00000</td>\n",
       "      <td>NaN</td>\n",
       "      <td>obscured</td>\n",
       "      <td>low</td>\n",
       "      <td>0</td>\n",
       "    </tr>\n",
       "    <tr>\n",
       "      <th>389</th>\n",
       "      <td>390</td>\n",
       "      <td>3.0</td>\n",
       "      <td>44.00000</td>\n",
       "      <td>NaN</td>\n",
       "      <td>ill-defined</td>\n",
       "      <td>low</td>\n",
       "      <td>0</td>\n",
       "    </tr>\n",
       "    <tr>\n",
       "      <th>394</th>\n",
       "      <td>395</td>\n",
       "      <td>4.0</td>\n",
       "      <td>34.00000</td>\n",
       "      <td>NaN</td>\n",
       "      <td>NaN</td>\n",
       "      <td>fat-containing</td>\n",
       "      <td>0</td>\n",
       "    </tr>\n",
       "    <tr>\n",
       "      <th>476</th>\n",
       "      <td>477</td>\n",
       "      <td>4.0</td>\n",
       "      <td>41.00000</td>\n",
       "      <td>NaN</td>\n",
       "      <td>NaN</td>\n",
       "      <td>low</td>\n",
       "      <td>0</td>\n",
       "    </tr>\n",
       "    <tr>\n",
       "      <th>496</th>\n",
       "      <td>497</td>\n",
       "      <td>4.0</td>\n",
       "      <td>55.46473</td>\n",
       "      <td>NaN</td>\n",
       "      <td>spiculated</td>\n",
       "      <td>low</td>\n",
       "      <td>1</td>\n",
       "    </tr>\n",
       "    <tr>\n",
       "      <th>519</th>\n",
       "      <td>520</td>\n",
       "      <td>3.0</td>\n",
       "      <td>68.00000</td>\n",
       "      <td>NaN</td>\n",
       "      <td>NaN</td>\n",
       "      <td>low</td>\n",
       "      <td>0</td>\n",
       "    </tr>\n",
       "    <tr>\n",
       "      <th>531</th>\n",
       "      <td>532</td>\n",
       "      <td>4.0</td>\n",
       "      <td>55.00000</td>\n",
       "      <td>NaN</td>\n",
       "      <td>NaN</td>\n",
       "      <td>low</td>\n",
       "      <td>0</td>\n",
       "    </tr>\n",
       "    <tr>\n",
       "      <th>537</th>\n",
       "      <td>538</td>\n",
       "      <td>5.0</td>\n",
       "      <td>63.00000</td>\n",
       "      <td>NaN</td>\n",
       "      <td>ill-defined</td>\n",
       "      <td>low</td>\n",
       "      <td>1</td>\n",
       "    </tr>\n",
       "    <tr>\n",
       "      <th>554</th>\n",
       "      <td>555</td>\n",
       "      <td>5.0</td>\n",
       "      <td>70.00000</td>\n",
       "      <td>NaN</td>\n",
       "      <td>spiculated</td>\n",
       "      <td>low</td>\n",
       "      <td>1</td>\n",
       "    </tr>\n",
       "    <tr>\n",
       "      <th>561</th>\n",
       "      <td>562</td>\n",
       "      <td>2.0</td>\n",
       "      <td>59.00000</td>\n",
       "      <td>NaN</td>\n",
       "      <td>ill-defined</td>\n",
       "      <td>low</td>\n",
       "      <td>0</td>\n",
       "    </tr>\n",
       "    <tr>\n",
       "      <th>581</th>\n",
       "      <td>582</td>\n",
       "      <td>2.0</td>\n",
       "      <td>65.00000</td>\n",
       "      <td>NaN</td>\n",
       "      <td>circumscribed</td>\n",
       "      <td>iso</td>\n",
       "      <td>0</td>\n",
       "    </tr>\n",
       "    <tr>\n",
       "      <th>614</th>\n",
       "      <td>615</td>\n",
       "      <td>3.0</td>\n",
       "      <td>46.00000</td>\n",
       "      <td>NaN</td>\n",
       "      <td>spiculated</td>\n",
       "      <td>NaN</td>\n",
       "      <td>1</td>\n",
       "    </tr>\n",
       "    <tr>\n",
       "      <th>660</th>\n",
       "      <td>661</td>\n",
       "      <td>4.0</td>\n",
       "      <td>58.00000</td>\n",
       "      <td>NaN</td>\n",
       "      <td>ill-defined</td>\n",
       "      <td>low</td>\n",
       "      <td>1</td>\n",
       "    </tr>\n",
       "    <tr>\n",
       "      <th>661</th>\n",
       "      <td>662</td>\n",
       "      <td>4.0</td>\n",
       "      <td>51.00000</td>\n",
       "      <td>NaN</td>\n",
       "      <td>ill-defined</td>\n",
       "      <td>low</td>\n",
       "      <td>0</td>\n",
       "    </tr>\n",
       "    <tr>\n",
       "      <th>662</th>\n",
       "      <td>663</td>\n",
       "      <td>3.0</td>\n",
       "      <td>50.00000</td>\n",
       "      <td>NaN</td>\n",
       "      <td>NaN</td>\n",
       "      <td>low</td>\n",
       "      <td>1</td>\n",
       "    </tr>\n",
       "    <tr>\n",
       "      <th>752</th>\n",
       "      <td>753</td>\n",
       "      <td>5.0</td>\n",
       "      <td>48.00000</td>\n",
       "      <td>NaN</td>\n",
       "      <td>ill-defined</td>\n",
       "      <td>NaN</td>\n",
       "      <td>1</td>\n",
       "    </tr>\n",
       "    <tr>\n",
       "      <th>778</th>\n",
       "      <td>779</td>\n",
       "      <td>4.0</td>\n",
       "      <td>60.00000</td>\n",
       "      <td>NaN</td>\n",
       "      <td>ill-defined</td>\n",
       "      <td>low</td>\n",
       "      <td>0</td>\n",
       "    </tr>\n",
       "  </tbody>\n",
       "</table>\n",
       "</div>"
      ],
      "text/plain": [
       "     Index  BI_RADS       Age Shape         Margin    Mass_Density  Severity\n",
       "6        7      4.0  70.00000   NaN            NaN             low         0\n",
       "9       10      5.0  60.00000   NaN     spiculated            high         1\n",
       "20      21      4.0  66.00000   NaN            NaN            high         1\n",
       "48      49      2.0  42.00000   NaN            NaN  fat-containing         0\n",
       "54      55      4.0  53.00000   NaN     spiculated             low         1\n",
       "74      75      5.0  70.00000   NaN    ill-defined             NaN         1\n",
       "83      84      4.0  57.00000   NaN    ill-defined            high         0\n",
       "128    129      4.0  52.00000   NaN    ill-defined             NaN         0\n",
       "157    158      4.0  51.00000   NaN            NaN             low         0\n",
       "163    164      4.0  53.00000   NaN    ill-defined             low         0\n",
       "236    237      3.0  60.00000   NaN       obscured            high         0\n",
       "255    256      3.0  76.00000   NaN       obscured             iso         0\n",
       "387    388      5.0  55.46473   NaN            NaN             low         0\n",
       "388    389      2.0  49.00000   NaN       obscured             low         0\n",
       "389    390      3.0  44.00000   NaN    ill-defined             low         0\n",
       "394    395      4.0  34.00000   NaN            NaN  fat-containing         0\n",
       "476    477      4.0  41.00000   NaN            NaN             low         0\n",
       "496    497      4.0  55.46473   NaN     spiculated             low         1\n",
       "519    520      3.0  68.00000   NaN            NaN             low         0\n",
       "531    532      4.0  55.00000   NaN            NaN             low         0\n",
       "537    538      5.0  63.00000   NaN    ill-defined             low         1\n",
       "554    555      5.0  70.00000   NaN     spiculated             low         1\n",
       "561    562      2.0  59.00000   NaN    ill-defined             low         0\n",
       "581    582      2.0  65.00000   NaN  circumscribed             iso         0\n",
       "614    615      3.0  46.00000   NaN     spiculated             NaN         1\n",
       "660    661      4.0  58.00000   NaN    ill-defined             low         1\n",
       "661    662      4.0  51.00000   NaN    ill-defined             low         0\n",
       "662    663      3.0  50.00000   NaN            NaN             low         1\n",
       "752    753      5.0  48.00000   NaN    ill-defined             NaN         1\n",
       "778    779      4.0  60.00000   NaN    ill-defined             low         0"
      ]
     },
     "execution_count": 968,
     "metadata": {},
     "output_type": "execute_result"
    }
   ],
   "source": [
    "data[data['Shape'].isnull()] #Individual Shape Analysis"
   ]
  },
  {
   "cell_type": "code",
   "execution_count": 969,
   "id": "b3fd4dcc",
   "metadata": {},
   "outputs": [],
   "source": [
    "data['Shape'] = data['Shape'].replace(np.NaN, data['Shape'].mode()[0])  #replacing the categorical variable with mode"
   ]
  },
  {
   "cell_type": "code",
   "execution_count": 970,
   "id": "5a38daa0",
   "metadata": {},
   "outputs": [],
   "source": [
    "test_data['Shape'] = test_data['Shape'].replace(np.NaN, test_data['Shape'].mode()[0])  #replacing the categorical variable with mode"
   ]
  },
  {
   "cell_type": "code",
   "execution_count": 971,
   "id": "befd373f",
   "metadata": {},
   "outputs": [
    {
     "data": {
      "text/plain": [
       "count               764\n",
       "unique                5\n",
       "top       circumscribed\n",
       "freq                298\n",
       "Name: Margin, dtype: object"
      ]
     },
     "execution_count": 971,
     "metadata": {},
     "output_type": "execute_result"
    }
   ],
   "source": [
    "data['Margin'].describe()"
   ]
  },
  {
   "cell_type": "code",
   "execution_count": 972,
   "id": "808bcd3a",
   "metadata": {},
   "outputs": [
    {
     "data": {
      "text/html": [
       "<div>\n",
       "<style scoped>\n",
       "    .dataframe tbody tr th:only-of-type {\n",
       "        vertical-align: middle;\n",
       "    }\n",
       "\n",
       "    .dataframe tbody tr th {\n",
       "        vertical-align: top;\n",
       "    }\n",
       "\n",
       "    .dataframe thead th {\n",
       "        text-align: right;\n",
       "    }\n",
       "</style>\n",
       "<table border=\"1\" class=\"dataframe\">\n",
       "  <thead>\n",
       "    <tr style=\"text-align: right;\">\n",
       "      <th></th>\n",
       "      <th>Index</th>\n",
       "      <th>BI_RADS</th>\n",
       "      <th>Age</th>\n",
       "      <th>Shape</th>\n",
       "      <th>Margin</th>\n",
       "      <th>Mass_Density</th>\n",
       "      <th>Severity</th>\n",
       "    </tr>\n",
       "  </thead>\n",
       "  <tbody>\n",
       "    <tr>\n",
       "      <th>5</th>\n",
       "      <td>6</td>\n",
       "      <td>4.0</td>\n",
       "      <td>65.00000</td>\n",
       "      <td>round</td>\n",
       "      <td>NaN</td>\n",
       "      <td>low</td>\n",
       "      <td>0</td>\n",
       "    </tr>\n",
       "    <tr>\n",
       "      <th>6</th>\n",
       "      <td>7</td>\n",
       "      <td>4.0</td>\n",
       "      <td>70.00000</td>\n",
       "      <td>irregular</td>\n",
       "      <td>NaN</td>\n",
       "      <td>low</td>\n",
       "      <td>0</td>\n",
       "    </tr>\n",
       "    <tr>\n",
       "      <th>7</th>\n",
       "      <td>8</td>\n",
       "      <td>5.0</td>\n",
       "      <td>42.00000</td>\n",
       "      <td>round</td>\n",
       "      <td>NaN</td>\n",
       "      <td>low</td>\n",
       "      <td>0</td>\n",
       "    </tr>\n",
       "    <tr>\n",
       "      <th>12</th>\n",
       "      <td>13</td>\n",
       "      <td>4.0</td>\n",
       "      <td>64.00000</td>\n",
       "      <td>round</td>\n",
       "      <td>NaN</td>\n",
       "      <td>low</td>\n",
       "      <td>0</td>\n",
       "    </tr>\n",
       "    <tr>\n",
       "      <th>19</th>\n",
       "      <td>20</td>\n",
       "      <td>4.0</td>\n",
       "      <td>40.00000</td>\n",
       "      <td>round</td>\n",
       "      <td>NaN</td>\n",
       "      <td>NaN</td>\n",
       "      <td>0</td>\n",
       "    </tr>\n",
       "    <tr>\n",
       "      <th>20</th>\n",
       "      <td>21</td>\n",
       "      <td>4.0</td>\n",
       "      <td>66.00000</td>\n",
       "      <td>irregular</td>\n",
       "      <td>NaN</td>\n",
       "      <td>high</td>\n",
       "      <td>1</td>\n",
       "    </tr>\n",
       "    <tr>\n",
       "      <th>22</th>\n",
       "      <td>23</td>\n",
       "      <td>4.0</td>\n",
       "      <td>43.00000</td>\n",
       "      <td>round</td>\n",
       "      <td>NaN</td>\n",
       "      <td>NaN</td>\n",
       "      <td>0</td>\n",
       "    </tr>\n",
       "    <tr>\n",
       "      <th>27</th>\n",
       "      <td>28</td>\n",
       "      <td>5.0</td>\n",
       "      <td>55.46473</td>\n",
       "      <td>lobular</td>\n",
       "      <td>NaN</td>\n",
       "      <td>low</td>\n",
       "      <td>0</td>\n",
       "    </tr>\n",
       "    <tr>\n",
       "      <th>35</th>\n",
       "      <td>36</td>\n",
       "      <td>4.0</td>\n",
       "      <td>77.00000</td>\n",
       "      <td>lobular</td>\n",
       "      <td>NaN</td>\n",
       "      <td>NaN</td>\n",
       "      <td>0</td>\n",
       "    </tr>\n",
       "    <tr>\n",
       "      <th>48</th>\n",
       "      <td>49</td>\n",
       "      <td>2.0</td>\n",
       "      <td>42.00000</td>\n",
       "      <td>irregular</td>\n",
       "      <td>NaN</td>\n",
       "      <td>fat-containing</td>\n",
       "      <td>0</td>\n",
       "    </tr>\n",
       "    <tr>\n",
       "      <th>59</th>\n",
       "      <td>60</td>\n",
       "      <td>5.0</td>\n",
       "      <td>59.00000</td>\n",
       "      <td>oval</td>\n",
       "      <td>NaN</td>\n",
       "      <td>NaN</td>\n",
       "      <td>1</td>\n",
       "    </tr>\n",
       "    <tr>\n",
       "      <th>84</th>\n",
       "      <td>85</td>\n",
       "      <td>5.0</td>\n",
       "      <td>51.00000</td>\n",
       "      <td>irregular</td>\n",
       "      <td>NaN</td>\n",
       "      <td>NaN</td>\n",
       "      <td>1</td>\n",
       "    </tr>\n",
       "    <tr>\n",
       "      <th>85</th>\n",
       "      <td>86</td>\n",
       "      <td>4.0</td>\n",
       "      <td>33.00000</td>\n",
       "      <td>round</td>\n",
       "      <td>NaN</td>\n",
       "      <td>NaN</td>\n",
       "      <td>0</td>\n",
       "    </tr>\n",
       "    <tr>\n",
       "      <th>87</th>\n",
       "      <td>88</td>\n",
       "      <td>5.0</td>\n",
       "      <td>36.00000</td>\n",
       "      <td>round</td>\n",
       "      <td>NaN</td>\n",
       "      <td>NaN</td>\n",
       "      <td>0</td>\n",
       "    </tr>\n",
       "    <tr>\n",
       "      <th>94</th>\n",
       "      <td>95</td>\n",
       "      <td>5.0</td>\n",
       "      <td>60.00000</td>\n",
       "      <td>round</td>\n",
       "      <td>NaN</td>\n",
       "      <td>low</td>\n",
       "      <td>0</td>\n",
       "    </tr>\n",
       "    <tr>\n",
       "      <th>100</th>\n",
       "      <td>101</td>\n",
       "      <td>5.0</td>\n",
       "      <td>55.46473</td>\n",
       "      <td>oval</td>\n",
       "      <td>NaN</td>\n",
       "      <td>NaN</td>\n",
       "      <td>0</td>\n",
       "    </tr>\n",
       "    <tr>\n",
       "      <th>101</th>\n",
       "      <td>102</td>\n",
       "      <td>4.0</td>\n",
       "      <td>65.00000</td>\n",
       "      <td>oval</td>\n",
       "      <td>NaN</td>\n",
       "      <td>NaN</td>\n",
       "      <td>0</td>\n",
       "    </tr>\n",
       "    <tr>\n",
       "      <th>103</th>\n",
       "      <td>104</td>\n",
       "      <td>4.0</td>\n",
       "      <td>29.00000</td>\n",
       "      <td>oval</td>\n",
       "      <td>NaN</td>\n",
       "      <td>NaN</td>\n",
       "      <td>0</td>\n",
       "    </tr>\n",
       "    <tr>\n",
       "      <th>133</th>\n",
       "      <td>134</td>\n",
       "      <td>4.0</td>\n",
       "      <td>55.46473</td>\n",
       "      <td>oval</td>\n",
       "      <td>NaN</td>\n",
       "      <td>NaN</td>\n",
       "      <td>0</td>\n",
       "    </tr>\n",
       "    <tr>\n",
       "      <th>147</th>\n",
       "      <td>148</td>\n",
       "      <td>4.0</td>\n",
       "      <td>63.00000</td>\n",
       "      <td>irregular</td>\n",
       "      <td>NaN</td>\n",
       "      <td>low</td>\n",
       "      <td>1</td>\n",
       "    </tr>\n",
       "    <tr>\n",
       "      <th>156</th>\n",
       "      <td>157</td>\n",
       "      <td>5.0</td>\n",
       "      <td>55.00000</td>\n",
       "      <td>oval</td>\n",
       "      <td>NaN</td>\n",
       "      <td>NaN</td>\n",
       "      <td>1</td>\n",
       "    </tr>\n",
       "    <tr>\n",
       "      <th>157</th>\n",
       "      <td>158</td>\n",
       "      <td>4.0</td>\n",
       "      <td>51.00000</td>\n",
       "      <td>irregular</td>\n",
       "      <td>NaN</td>\n",
       "      <td>low</td>\n",
       "      <td>0</td>\n",
       "    </tr>\n",
       "    <tr>\n",
       "      <th>159</th>\n",
       "      <td>160</td>\n",
       "      <td>4.0</td>\n",
       "      <td>58.00000</td>\n",
       "      <td>irregular</td>\n",
       "      <td>NaN</td>\n",
       "      <td>low</td>\n",
       "      <td>1</td>\n",
       "    </tr>\n",
       "    <tr>\n",
       "      <th>187</th>\n",
       "      <td>188</td>\n",
       "      <td>4.0</td>\n",
       "      <td>67.00000</td>\n",
       "      <td>round</td>\n",
       "      <td>NaN</td>\n",
       "      <td>low</td>\n",
       "      <td>0</td>\n",
       "    </tr>\n",
       "    <tr>\n",
       "      <th>227</th>\n",
       "      <td>228</td>\n",
       "      <td>2.0</td>\n",
       "      <td>55.00000</td>\n",
       "      <td>round</td>\n",
       "      <td>NaN</td>\n",
       "      <td>high</td>\n",
       "      <td>0</td>\n",
       "    </tr>\n",
       "    <tr>\n",
       "      <th>278</th>\n",
       "      <td>279</td>\n",
       "      <td>5.0</td>\n",
       "      <td>79.00000</td>\n",
       "      <td>round</td>\n",
       "      <td>NaN</td>\n",
       "      <td>low</td>\n",
       "      <td>1</td>\n",
       "    </tr>\n",
       "    <tr>\n",
       "      <th>298</th>\n",
       "      <td>299</td>\n",
       "      <td>4.0</td>\n",
       "      <td>71.00000</td>\n",
       "      <td>round</td>\n",
       "      <td>NaN</td>\n",
       "      <td>low</td>\n",
       "      <td>0</td>\n",
       "    </tr>\n",
       "    <tr>\n",
       "      <th>305</th>\n",
       "      <td>306</td>\n",
       "      <td>4.0</td>\n",
       "      <td>54.00000</td>\n",
       "      <td>round</td>\n",
       "      <td>NaN</td>\n",
       "      <td>NaN</td>\n",
       "      <td>0</td>\n",
       "    </tr>\n",
       "    <tr>\n",
       "      <th>315</th>\n",
       "      <td>316</td>\n",
       "      <td>4.0</td>\n",
       "      <td>71.00000</td>\n",
       "      <td>oval</td>\n",
       "      <td>NaN</td>\n",
       "      <td>low</td>\n",
       "      <td>1</td>\n",
       "    </tr>\n",
       "    <tr>\n",
       "      <th>359</th>\n",
       "      <td>360</td>\n",
       "      <td>5.0</td>\n",
       "      <td>46.00000</td>\n",
       "      <td>lobular</td>\n",
       "      <td>NaN</td>\n",
       "      <td>low</td>\n",
       "      <td>0</td>\n",
       "    </tr>\n",
       "    <tr>\n",
       "      <th>371</th>\n",
       "      <td>372</td>\n",
       "      <td>3.0</td>\n",
       "      <td>46.00000</td>\n",
       "      <td>round</td>\n",
       "      <td>NaN</td>\n",
       "      <td>NaN</td>\n",
       "      <td>0</td>\n",
       "    </tr>\n",
       "    <tr>\n",
       "      <th>372</th>\n",
       "      <td>373</td>\n",
       "      <td>3.0</td>\n",
       "      <td>43.00000</td>\n",
       "      <td>round</td>\n",
       "      <td>NaN</td>\n",
       "      <td>NaN</td>\n",
       "      <td>0</td>\n",
       "    </tr>\n",
       "    <tr>\n",
       "      <th>387</th>\n",
       "      <td>388</td>\n",
       "      <td>5.0</td>\n",
       "      <td>55.46473</td>\n",
       "      <td>irregular</td>\n",
       "      <td>NaN</td>\n",
       "      <td>low</td>\n",
       "      <td>0</td>\n",
       "    </tr>\n",
       "    <tr>\n",
       "      <th>394</th>\n",
       "      <td>395</td>\n",
       "      <td>4.0</td>\n",
       "      <td>34.00000</td>\n",
       "      <td>irregular</td>\n",
       "      <td>NaN</td>\n",
       "      <td>fat-containing</td>\n",
       "      <td>0</td>\n",
       "    </tr>\n",
       "    <tr>\n",
       "      <th>452</th>\n",
       "      <td>453</td>\n",
       "      <td>4.0</td>\n",
       "      <td>57.00000</td>\n",
       "      <td>lobular</td>\n",
       "      <td>NaN</td>\n",
       "      <td>low</td>\n",
       "      <td>0</td>\n",
       "    </tr>\n",
       "    <tr>\n",
       "      <th>459</th>\n",
       "      <td>460</td>\n",
       "      <td>3.0</td>\n",
       "      <td>40.00000</td>\n",
       "      <td>oval</td>\n",
       "      <td>NaN</td>\n",
       "      <td>low</td>\n",
       "      <td>0</td>\n",
       "    </tr>\n",
       "    <tr>\n",
       "      <th>476</th>\n",
       "      <td>477</td>\n",
       "      <td>4.0</td>\n",
       "      <td>41.00000</td>\n",
       "      <td>irregular</td>\n",
       "      <td>NaN</td>\n",
       "      <td>low</td>\n",
       "      <td>0</td>\n",
       "    </tr>\n",
       "    <tr>\n",
       "      <th>519</th>\n",
       "      <td>520</td>\n",
       "      <td>3.0</td>\n",
       "      <td>68.00000</td>\n",
       "      <td>irregular</td>\n",
       "      <td>NaN</td>\n",
       "      <td>low</td>\n",
       "      <td>0</td>\n",
       "    </tr>\n",
       "    <tr>\n",
       "      <th>520</th>\n",
       "      <td>521</td>\n",
       "      <td>4.0</td>\n",
       "      <td>62.00000</td>\n",
       "      <td>irregular</td>\n",
       "      <td>NaN</td>\n",
       "      <td>low</td>\n",
       "      <td>1</td>\n",
       "    </tr>\n",
       "    <tr>\n",
       "      <th>521</th>\n",
       "      <td>522</td>\n",
       "      <td>5.0</td>\n",
       "      <td>65.00000</td>\n",
       "      <td>round</td>\n",
       "      <td>NaN</td>\n",
       "      <td>low</td>\n",
       "      <td>1</td>\n",
       "    </tr>\n",
       "    <tr>\n",
       "      <th>531</th>\n",
       "      <td>532</td>\n",
       "      <td>4.0</td>\n",
       "      <td>55.00000</td>\n",
       "      <td>irregular</td>\n",
       "      <td>NaN</td>\n",
       "      <td>low</td>\n",
       "      <td>0</td>\n",
       "    </tr>\n",
       "    <tr>\n",
       "      <th>541</th>\n",
       "      <td>542</td>\n",
       "      <td>4.0</td>\n",
       "      <td>49.00000</td>\n",
       "      <td>oval</td>\n",
       "      <td>NaN</td>\n",
       "      <td>low</td>\n",
       "      <td>0</td>\n",
       "    </tr>\n",
       "    <tr>\n",
       "      <th>574</th>\n",
       "      <td>575</td>\n",
       "      <td>4.0</td>\n",
       "      <td>60.00000</td>\n",
       "      <td>lobular</td>\n",
       "      <td>NaN</td>\n",
       "      <td>NaN</td>\n",
       "      <td>0</td>\n",
       "    </tr>\n",
       "    <tr>\n",
       "      <th>662</th>\n",
       "      <td>663</td>\n",
       "      <td>3.0</td>\n",
       "      <td>50.00000</td>\n",
       "      <td>irregular</td>\n",
       "      <td>NaN</td>\n",
       "      <td>low</td>\n",
       "      <td>1</td>\n",
       "    </tr>\n",
       "    <tr>\n",
       "      <th>691</th>\n",
       "      <td>692</td>\n",
       "      <td>4.0</td>\n",
       "      <td>55.46473</td>\n",
       "      <td>lobular</td>\n",
       "      <td>NaN</td>\n",
       "      <td>low</td>\n",
       "      <td>0</td>\n",
       "    </tr>\n",
       "    <tr>\n",
       "      <th>723</th>\n",
       "      <td>724</td>\n",
       "      <td>4.0</td>\n",
       "      <td>60.00000</td>\n",
       "      <td>lobular</td>\n",
       "      <td>NaN</td>\n",
       "      <td>fat-containing</td>\n",
       "      <td>0</td>\n",
       "    </tr>\n",
       "    <tr>\n",
       "      <th>745</th>\n",
       "      <td>746</td>\n",
       "      <td>5.0</td>\n",
       "      <td>76.00000</td>\n",
       "      <td>lobular</td>\n",
       "      <td>NaN</td>\n",
       "      <td>low</td>\n",
       "      <td>0</td>\n",
       "    </tr>\n",
       "  </tbody>\n",
       "</table>\n",
       "</div>"
      ],
      "text/plain": [
       "     Index  BI_RADS       Age      Shape Margin    Mass_Density  Severity\n",
       "5        6      4.0  65.00000      round    NaN             low         0\n",
       "6        7      4.0  70.00000  irregular    NaN             low         0\n",
       "7        8      5.0  42.00000      round    NaN             low         0\n",
       "12      13      4.0  64.00000      round    NaN             low         0\n",
       "19      20      4.0  40.00000      round    NaN             NaN         0\n",
       "20      21      4.0  66.00000  irregular    NaN            high         1\n",
       "22      23      4.0  43.00000      round    NaN             NaN         0\n",
       "27      28      5.0  55.46473    lobular    NaN             low         0\n",
       "35      36      4.0  77.00000    lobular    NaN             NaN         0\n",
       "48      49      2.0  42.00000  irregular    NaN  fat-containing         0\n",
       "59      60      5.0  59.00000       oval    NaN             NaN         1\n",
       "84      85      5.0  51.00000  irregular    NaN             NaN         1\n",
       "85      86      4.0  33.00000      round    NaN             NaN         0\n",
       "87      88      5.0  36.00000      round    NaN             NaN         0\n",
       "94      95      5.0  60.00000      round    NaN             low         0\n",
       "100    101      5.0  55.46473       oval    NaN             NaN         0\n",
       "101    102      4.0  65.00000       oval    NaN             NaN         0\n",
       "103    104      4.0  29.00000       oval    NaN             NaN         0\n",
       "133    134      4.0  55.46473       oval    NaN             NaN         0\n",
       "147    148      4.0  63.00000  irregular    NaN             low         1\n",
       "156    157      5.0  55.00000       oval    NaN             NaN         1\n",
       "157    158      4.0  51.00000  irregular    NaN             low         0\n",
       "159    160      4.0  58.00000  irregular    NaN             low         1\n",
       "187    188      4.0  67.00000      round    NaN             low         0\n",
       "227    228      2.0  55.00000      round    NaN            high         0\n",
       "278    279      5.0  79.00000      round    NaN             low         1\n",
       "298    299      4.0  71.00000      round    NaN             low         0\n",
       "305    306      4.0  54.00000      round    NaN             NaN         0\n",
       "315    316      4.0  71.00000       oval    NaN             low         1\n",
       "359    360      5.0  46.00000    lobular    NaN             low         0\n",
       "371    372      3.0  46.00000      round    NaN             NaN         0\n",
       "372    373      3.0  43.00000      round    NaN             NaN         0\n",
       "387    388      5.0  55.46473  irregular    NaN             low         0\n",
       "394    395      4.0  34.00000  irregular    NaN  fat-containing         0\n",
       "452    453      4.0  57.00000    lobular    NaN             low         0\n",
       "459    460      3.0  40.00000       oval    NaN             low         0\n",
       "476    477      4.0  41.00000  irregular    NaN             low         0\n",
       "519    520      3.0  68.00000  irregular    NaN             low         0\n",
       "520    521      4.0  62.00000  irregular    NaN             low         1\n",
       "521    522      5.0  65.00000      round    NaN             low         1\n",
       "531    532      4.0  55.00000  irregular    NaN             low         0\n",
       "541    542      4.0  49.00000       oval    NaN             low         0\n",
       "574    575      4.0  60.00000    lobular    NaN             NaN         0\n",
       "662    663      3.0  50.00000  irregular    NaN             low         1\n",
       "691    692      4.0  55.46473    lobular    NaN             low         0\n",
       "723    724      4.0  60.00000    lobular    NaN  fat-containing         0\n",
       "745    746      5.0  76.00000    lobular    NaN             low         0"
      ]
     },
     "execution_count": 972,
     "metadata": {},
     "output_type": "execute_result"
    }
   ],
   "source": [
    "data[data['Margin'].isnull()] #Individual Margin Analysis"
   ]
  },
  {
   "cell_type": "code",
   "execution_count": 973,
   "id": "af3759fd",
   "metadata": {},
   "outputs": [],
   "source": [
    "data['Margin'] = data['Margin'].replace(np.NaN, data['Margin'].mode()[0]) #replacing the categorical variable with mode"
   ]
  },
  {
   "cell_type": "code",
   "execution_count": 974,
   "id": "4c184972",
   "metadata": {},
   "outputs": [],
   "source": [
    "test_data['Margin'] = test_data['Margin'].replace(np.NaN, test_data['Margin'].mode()[0]) #replacing the categorical variable with mode"
   ]
  },
  {
   "cell_type": "code",
   "execution_count": 975,
   "id": "8fba7471",
   "metadata": {},
   "outputs": [
    {
     "data": {
      "text/plain": [
       "count     735\n",
       "unique      4\n",
       "top       low\n",
       "freq      663\n",
       "Name: Mass_Density, dtype: object"
      ]
     },
     "execution_count": 975,
     "metadata": {},
     "output_type": "execute_result"
    }
   ],
   "source": [
    "data['Mass_Density'].describe()"
   ]
  },
  {
   "cell_type": "code",
   "execution_count": 976,
   "id": "1673d042",
   "metadata": {},
   "outputs": [
    {
     "data": {
      "text/html": [
       "<div>\n",
       "<style scoped>\n",
       "    .dataframe tbody tr th:only-of-type {\n",
       "        vertical-align: middle;\n",
       "    }\n",
       "\n",
       "    .dataframe tbody tr th {\n",
       "        vertical-align: top;\n",
       "    }\n",
       "\n",
       "    .dataframe thead th {\n",
       "        text-align: right;\n",
       "    }\n",
       "</style>\n",
       "<table border=\"1\" class=\"dataframe\">\n",
       "  <thead>\n",
       "    <tr style=\"text-align: right;\">\n",
       "      <th></th>\n",
       "      <th>Index</th>\n",
       "      <th>BI_RADS</th>\n",
       "      <th>Age</th>\n",
       "      <th>Shape</th>\n",
       "      <th>Margin</th>\n",
       "      <th>Mass_Density</th>\n",
       "      <th>Severity</th>\n",
       "    </tr>\n",
       "  </thead>\n",
       "  <tbody>\n",
       "    <tr>\n",
       "      <th>1</th>\n",
       "      <td>2</td>\n",
       "      <td>4.0</td>\n",
       "      <td>43.00000</td>\n",
       "      <td>round</td>\n",
       "      <td>circumscribed</td>\n",
       "      <td>NaN</td>\n",
       "      <td>1</td>\n",
       "    </tr>\n",
       "    <tr>\n",
       "      <th>4</th>\n",
       "      <td>5</td>\n",
       "      <td>5.0</td>\n",
       "      <td>74.00000</td>\n",
       "      <td>round</td>\n",
       "      <td>spiculated</td>\n",
       "      <td>NaN</td>\n",
       "      <td>1</td>\n",
       "    </tr>\n",
       "    <tr>\n",
       "      <th>19</th>\n",
       "      <td>20</td>\n",
       "      <td>4.0</td>\n",
       "      <td>40.00000</td>\n",
       "      <td>round</td>\n",
       "      <td>circumscribed</td>\n",
       "      <td>NaN</td>\n",
       "      <td>0</td>\n",
       "    </tr>\n",
       "    <tr>\n",
       "      <th>22</th>\n",
       "      <td>23</td>\n",
       "      <td>4.0</td>\n",
       "      <td>43.00000</td>\n",
       "      <td>round</td>\n",
       "      <td>circumscribed</td>\n",
       "      <td>NaN</td>\n",
       "      <td>0</td>\n",
       "    </tr>\n",
       "    <tr>\n",
       "      <th>26</th>\n",
       "      <td>27</td>\n",
       "      <td>2.0</td>\n",
       "      <td>66.00000</td>\n",
       "      <td>round</td>\n",
       "      <td>circumscribed</td>\n",
       "      <td>NaN</td>\n",
       "      <td>0</td>\n",
       "    </tr>\n",
       "    <tr>\n",
       "      <th>...</th>\n",
       "      <td>...</td>\n",
       "      <td>...</td>\n",
       "      <td>...</td>\n",
       "      <td>...</td>\n",
       "      <td>...</td>\n",
       "      <td>...</td>\n",
       "      <td>...</td>\n",
       "    </tr>\n",
       "    <tr>\n",
       "      <th>614</th>\n",
       "      <td>615</td>\n",
       "      <td>3.0</td>\n",
       "      <td>46.00000</td>\n",
       "      <td>irregular</td>\n",
       "      <td>spiculated</td>\n",
       "      <td>NaN</td>\n",
       "      <td>1</td>\n",
       "    </tr>\n",
       "    <tr>\n",
       "      <th>627</th>\n",
       "      <td>628</td>\n",
       "      <td>4.0</td>\n",
       "      <td>55.46473</td>\n",
       "      <td>oval</td>\n",
       "      <td>circumscribed</td>\n",
       "      <td>NaN</td>\n",
       "      <td>0</td>\n",
       "    </tr>\n",
       "    <tr>\n",
       "      <th>665</th>\n",
       "      <td>666</td>\n",
       "      <td>4.0</td>\n",
       "      <td>27.00000</td>\n",
       "      <td>oval</td>\n",
       "      <td>circumscribed</td>\n",
       "      <td>NaN</td>\n",
       "      <td>0</td>\n",
       "    </tr>\n",
       "    <tr>\n",
       "      <th>677</th>\n",
       "      <td>678</td>\n",
       "      <td>4.0</td>\n",
       "      <td>57.00000</td>\n",
       "      <td>irregular</td>\n",
       "      <td>ill-defined</td>\n",
       "      <td>NaN</td>\n",
       "      <td>1</td>\n",
       "    </tr>\n",
       "    <tr>\n",
       "      <th>752</th>\n",
       "      <td>753</td>\n",
       "      <td>5.0</td>\n",
       "      <td>48.00000</td>\n",
       "      <td>irregular</td>\n",
       "      <td>ill-defined</td>\n",
       "      <td>NaN</td>\n",
       "      <td>1</td>\n",
       "    </tr>\n",
       "  </tbody>\n",
       "</table>\n",
       "<p>76 rows × 7 columns</p>\n",
       "</div>"
      ],
      "text/plain": [
       "     Index  BI_RADS       Age      Shape         Margin Mass_Density  Severity\n",
       "1        2      4.0  43.00000      round  circumscribed          NaN         1\n",
       "4        5      5.0  74.00000      round     spiculated          NaN         1\n",
       "19      20      4.0  40.00000      round  circumscribed          NaN         0\n",
       "22      23      4.0  43.00000      round  circumscribed          NaN         0\n",
       "26      27      2.0  66.00000      round  circumscribed          NaN         0\n",
       "..     ...      ...       ...        ...            ...          ...       ...\n",
       "614    615      3.0  46.00000  irregular     spiculated          NaN         1\n",
       "627    628      4.0  55.46473       oval  circumscribed          NaN         0\n",
       "665    666      4.0  27.00000       oval  circumscribed          NaN         0\n",
       "677    678      4.0  57.00000  irregular    ill-defined          NaN         1\n",
       "752    753      5.0  48.00000  irregular    ill-defined          NaN         1\n",
       "\n",
       "[76 rows x 7 columns]"
      ]
     },
     "execution_count": 976,
     "metadata": {},
     "output_type": "execute_result"
    }
   ],
   "source": [
    "data[data['Mass_Density'].isnull()]"
   ]
  },
  {
   "cell_type": "code",
   "execution_count": 977,
   "id": "23dfc9dc",
   "metadata": {},
   "outputs": [],
   "source": [
    "data['Mass_Density'] = data['Mass_Density'].replace(np.NaN, data['Mass_Density'].mode()[0]) #replacing the categorical variable with mode"
   ]
  },
  {
   "cell_type": "code",
   "execution_count": 978,
   "id": "ea202ecd",
   "metadata": {},
   "outputs": [
    {
     "data": {
      "text/plain": [
       "count    811.000000\n",
       "mean       0.459926\n",
       "std        0.498699\n",
       "min        0.000000\n",
       "25%        0.000000\n",
       "50%        0.000000\n",
       "75%        1.000000\n",
       "max        1.000000\n",
       "Name: Severity, dtype: float64"
      ]
     },
     "execution_count": 978,
     "metadata": {},
     "output_type": "execute_result"
    }
   ],
   "source": [
    "data['Severity'].describe()"
   ]
  },
  {
   "cell_type": "code",
   "execution_count": 979,
   "id": "5f364318",
   "metadata": {},
   "outputs": [
    {
     "data": {
      "text/html": [
       "<div>\n",
       "<style scoped>\n",
       "    .dataframe tbody tr th:only-of-type {\n",
       "        vertical-align: middle;\n",
       "    }\n",
       "\n",
       "    .dataframe tbody tr th {\n",
       "        vertical-align: top;\n",
       "    }\n",
       "\n",
       "    .dataframe thead th {\n",
       "        text-align: right;\n",
       "    }\n",
       "</style>\n",
       "<table border=\"1\" class=\"dataframe\">\n",
       "  <thead>\n",
       "    <tr style=\"text-align: right;\">\n",
       "      <th></th>\n",
       "      <th>Index</th>\n",
       "      <th>BI_RADS</th>\n",
       "      <th>Age</th>\n",
       "      <th>Shape</th>\n",
       "      <th>Margin</th>\n",
       "      <th>Mass_Density</th>\n",
       "      <th>Severity</th>\n",
       "    </tr>\n",
       "  </thead>\n",
       "  <tbody>\n",
       "    <tr>\n",
       "      <th>0</th>\n",
       "      <td>1</td>\n",
       "      <td>5.0</td>\n",
       "      <td>67.0</td>\n",
       "      <td>lobular</td>\n",
       "      <td>spiculated</td>\n",
       "      <td>low</td>\n",
       "      <td>1</td>\n",
       "    </tr>\n",
       "    <tr>\n",
       "      <th>1</th>\n",
       "      <td>2</td>\n",
       "      <td>4.0</td>\n",
       "      <td>43.0</td>\n",
       "      <td>round</td>\n",
       "      <td>circumscribed</td>\n",
       "      <td>low</td>\n",
       "      <td>1</td>\n",
       "    </tr>\n",
       "    <tr>\n",
       "      <th>2</th>\n",
       "      <td>3</td>\n",
       "      <td>5.0</td>\n",
       "      <td>58.0</td>\n",
       "      <td>irregular</td>\n",
       "      <td>spiculated</td>\n",
       "      <td>low</td>\n",
       "      <td>1</td>\n",
       "    </tr>\n",
       "    <tr>\n",
       "      <th>3</th>\n",
       "      <td>4</td>\n",
       "      <td>4.0</td>\n",
       "      <td>28.0</td>\n",
       "      <td>round</td>\n",
       "      <td>circumscribed</td>\n",
       "      <td>low</td>\n",
       "      <td>0</td>\n",
       "    </tr>\n",
       "    <tr>\n",
       "      <th>4</th>\n",
       "      <td>5</td>\n",
       "      <td>5.0</td>\n",
       "      <td>74.0</td>\n",
       "      <td>round</td>\n",
       "      <td>spiculated</td>\n",
       "      <td>low</td>\n",
       "      <td>1</td>\n",
       "    </tr>\n",
       "  </tbody>\n",
       "</table>\n",
       "</div>"
      ],
      "text/plain": [
       "   Index  BI_RADS   Age      Shape         Margin Mass_Density  Severity\n",
       "0      1      5.0  67.0    lobular     spiculated          low         1\n",
       "1      2      4.0  43.0      round  circumscribed          low         1\n",
       "2      3      5.0  58.0  irregular     spiculated          low         1\n",
       "3      4      4.0  28.0      round  circumscribed          low         0\n",
       "4      5      5.0  74.0      round     spiculated          low         1"
      ]
     },
     "execution_count": 979,
     "metadata": {},
     "output_type": "execute_result"
    }
   ],
   "source": [
    "data.head()"
   ]
  },
  {
   "cell_type": "code",
   "execution_count": 980,
   "id": "2a6975d1",
   "metadata": {},
   "outputs": [
    {
     "data": {
      "text/plain": [
       "Index           0\n",
       "BI_RADS         0\n",
       "Age             0\n",
       "Shape           0\n",
       "Margin          0\n",
       "Mass_Density    0\n",
       "Severity        0\n",
       "dtype: int64"
      ]
     },
     "execution_count": 980,
     "metadata": {},
     "output_type": "execute_result"
    }
   ],
   "source": [
    "data.isna().sum() #There are none null values"
   ]
  },
  {
   "cell_type": "code",
   "execution_count": 981,
   "id": "b6905f7b",
   "metadata": {},
   "outputs": [
    {
     "data": {
      "image/png": "[encoded data removed]",
      "text/plain": [
       "<Figure size 432x288 with 1 Axes>"
      ]
     },
     "metadata": {
      "needs_background": "light"
     },
     "output_type": "display_data"
    }
   ],
   "source": [
    "#count plot of each feature\n",
    "sns.countplot(data['Shape'])\n",
    "plt.title(\"Countplot for Shape\")\n",
    "plt.show()"
   ]
  },
  {
   "cell_type": "code",
   "execution_count": 982,
   "id": "415736f0",
   "metadata": {},
   "outputs": [
    {
     "data": {
      "image/png": "[encoded data removed]",
      "text/plain": [
       "<Figure size 432x288 with 1 Axes>"
      ]
     },
     "metadata": {
      "needs_background": "light"
     },
     "output_type": "display_data"
    }
   ],
   "source": [
    "sns.countplot(data['Margin'])\n",
    "plt.title(\"Countplot for Margin\")\n",
    "plt.show()"
   ]
  },
  {
   "cell_type": "code",
   "execution_count": 983,
   "id": "1b4aa3af",
   "metadata": {},
   "outputs": [
    {
     "data": {
      "image/png": "[encoded data removed]",
      "text/plain": [
       "<Figure size 432x288 with 1 Axes>"
      ]
     },
     "metadata": {
      "needs_background": "light"
     },
     "output_type": "display_data"
    }
   ],
   "source": [
    "sns.countplot(data['Mass_Density'])\n",
    "plt.title(\"Countplot for Mass_Density\")\n",
    "plt.show()"
   ]
  },
  {
   "cell_type": "code",
   "execution_count": 984,
   "id": "a71e72c1",
   "metadata": {},
   "outputs": [
    {
     "data": {
      "image/png": "[encoded data removed]",
      "text/plain": [
       "<Figure size 432x288 with 1 Axes>"
      ]
     },
     "metadata": {
      "needs_background": "light"
     },
     "output_type": "display_data"
    }
   ],
   "source": [
    "sns.countplot(data['Severity'])\n",
    "plt.title(\"Countplot for Severity\")\n",
    "plt.show()"
   ]
  },
  {
   "cell_type": "markdown",
   "id": "a83455b7",
   "metadata": {},
   "source": [
    "From the observations, There categorical feature are imbalanced"
   ]
  },
  {
   "cell_type": "code",
   "execution_count": 985,
   "id": "6c8f75e3",
   "metadata": {},
   "outputs": [
    {
     "data": {
      "image/png": "[encoded data removed]",
      "text/plain": [
       "<Figure size 432x288 with 1 Axes>"
      ]
     },
     "metadata": {
      "needs_background": "light"
     },
     "output_type": "display_data"
    }
   ],
   "source": [
    "# Histogram\n",
    "sns.distplot(data.Age, color = 'green')\n",
    "plt.xlabel('Age')\n",
    "plt.title('Histogram of Age')\n",
    "plt.show()"
   ]
  },
  {
   "cell_type": "code",
   "execution_count": 986,
   "id": "eb93f5d5",
   "metadata": {},
   "outputs": [
    {
     "data": {
      "text/plain": [
       "Text(0.5, 1.0, 'Boxplot of Age')"
      ]
     },
     "execution_count": 986,
     "metadata": {},
     "output_type": "execute_result"
    },
    {
     "data": {
      "image/png": "[encoded data removed]",
      "text/plain": [
       "<Figure size 432x288 with 1 Axes>"
      ]
     },
     "metadata": {
      "needs_background": "light"
     },
     "output_type": "display_data"
    }
   ],
   "source": [
    "# Boxplot\n",
    "plt.boxplot(data['Age'])\n",
    "plt.xlabel('Age')\n",
    "plt.ylabel('Count')\n",
    "plt.title('Boxplot of Age')"
   ]
  },
  {
   "cell_type": "code",
   "execution_count": 987,
   "id": "eeedc65d",
   "metadata": {},
   "outputs": [
    {
     "data": {
      "text/plain": [
       "19.0"
      ]
     },
     "execution_count": 987,
     "metadata": {},
     "output_type": "execute_result"
    }
   ],
   "source": [
    "# Outliers Count\n",
    "IQR3 = data['Age'].quantile(0.75) - data['Age'].quantile(0.25)\n",
    "IQR3"
   ]
  },
  {
   "cell_type": "code",
   "execution_count": 988,
   "id": "f9eefe0d",
   "metadata": {},
   "outputs": [
    {
     "data": {
      "text/plain": [
       "93.5"
      ]
     },
     "execution_count": 988,
     "metadata": {},
     "output_type": "execute_result"
    }
   ],
   "source": [
    "UL3 = data['Age'].quantile(0.75) + (1.5*IQR3)\n",
    "UL3"
   ]
  },
  {
   "cell_type": "code",
   "execution_count": 989,
   "id": "340a2eda",
   "metadata": {},
   "outputs": [
    {
     "data": {
      "text/plain": [
       "10"
      ]
     },
     "execution_count": 989,
     "metadata": {},
     "output_type": "execute_result"
    }
   ],
   "source": [
    "data.Age[(data.Age > UL3)].value_counts().sum()"
   ]
  },
  {
   "cell_type": "code",
   "execution_count": 990,
   "id": "a25cb26b",
   "metadata": {},
   "outputs": [],
   "source": [
    "data.Age = np.where(data.Age > UL3, UL3, data.Age)"
   ]
  },
  {
   "cell_type": "code",
   "execution_count": 991,
   "id": "f8a463dd",
   "metadata": {},
   "outputs": [
    {
     "data": {
      "text/plain": [
       "0"
      ]
     },
     "execution_count": 991,
     "metadata": {},
     "output_type": "execute_result"
    }
   ],
   "source": [
    "data.Age[(data.Age > UL3)].value_counts().sum()"
   ]
  },
  {
   "cell_type": "code",
   "execution_count": 992,
   "id": "59e9f532",
   "metadata": {},
   "outputs": [
    {
     "data": {
      "image/png": "[encoded data removed]",
      "text/plain": [
       "<Figure size 432x288 with 1 Axes>"
      ]
     },
     "metadata": {
      "needs_background": "light"
     },
     "output_type": "display_data"
    }
   ],
   "source": [
    "sns.countplot(data['BI_RADS'])\n",
    "plt.title(\"Countplot for BI_RADS\")\n",
    "plt.show()"
   ]
  },
  {
   "cell_type": "code",
   "execution_count": 993,
   "id": "958f900a",
   "metadata": {},
   "outputs": [
    {
     "data": {
      "text/plain": [
       "0"
      ]
     },
     "execution_count": 993,
     "metadata": {},
     "output_type": "execute_result"
    }
   ],
   "source": [
    "data.duplicated().sum()"
   ]
  },
  {
   "cell_type": "markdown",
   "id": "07b11065",
   "metadata": {},
   "source": [
    "Label Encoding using map"
   ]
  },
  {
   "cell_type": "code",
   "execution_count": 994,
   "id": "5f00e6d9",
   "metadata": {},
   "outputs": [
    {
     "data": {
      "text/plain": [
       "array(['lobular', 'round', 'irregular', 'oval'], dtype=object)"
      ]
     },
     "execution_count": 994,
     "metadata": {},
     "output_type": "execute_result"
    }
   ],
   "source": [
    "data['Shape'].unique()"
   ]
  },
  {
   "cell_type": "code",
   "execution_count": 995,
   "id": "7efb950a",
   "metadata": {},
   "outputs": [],
   "source": [
    "data.Shape = data['Shape'].map({\n",
    "                    'round' : 1,\n",
    "                    'oval'  : 2,\n",
    "                    'lobular':3,\n",
    "                    'irregular':4\n",
    "})"
   ]
  },
  {
   "cell_type": "code",
   "execution_count": 996,
   "id": "47a1faad",
   "metadata": {},
   "outputs": [],
   "source": [
    "test_data.Shape = test_data['Shape'].map({\n",
    "                    'round' : 1,\n",
    "                    'oval'  : 2,\n",
    "                    'lobular':3,\n",
    "                    'irregular':4\n",
    "})"
   ]
  },
  {
   "cell_type": "code",
   "execution_count": 997,
   "id": "11c4cff5",
   "metadata": {},
   "outputs": [
    {
     "data": {
      "text/plain": [
       "Index           0\n",
       "BI_RADS         0\n",
       "Age             0\n",
       "Shape           0\n",
       "Margin          0\n",
       "Mass_Density    0\n",
       "Severity        0\n",
       "dtype: int64"
      ]
     },
     "execution_count": 997,
     "metadata": {},
     "output_type": "execute_result"
    }
   ],
   "source": [
    "data.isna().sum()"
   ]
  },
  {
   "cell_type": "code",
   "execution_count": 998,
   "id": "f0c8d84e",
   "metadata": {},
   "outputs": [
    {
     "data": {
      "text/plain": [
       "array(['spiculated', 'circumscribed', 'ill-defined', 'obscured',\n",
       "       'microlobulated'], dtype=object)"
      ]
     },
     "execution_count": 998,
     "metadata": {},
     "output_type": "execute_result"
    }
   ],
   "source": [
    "data['Margin'].unique()"
   ]
  },
  {
   "cell_type": "code",
   "execution_count": 999,
   "id": "4fe87355",
   "metadata": {},
   "outputs": [],
   "source": [
    "data.Margin = data['Margin'].map({\n",
    "                    'circumscribed' : 1,\n",
    "                    'microlobulated'  : 2,\n",
    "                    'obscured':3,\n",
    "                    'ill-defined':4,\n",
    "                    'spiculated' :5\n",
    "})"
   ]
  },
  {
   "cell_type": "code",
   "execution_count": 1000,
   "id": "2cfd3895",
   "metadata": {},
   "outputs": [],
   "source": [
    "test_data.Margin = test_data['Margin'].map({\n",
    "                    'circumscribed' : 1,\n",
    "                    'microlobulated'  : 2,\n",
    "                    'obscured':3,\n",
    "                    'ill-defined':4,\n",
    "                    'spiculated' :5\n",
    "})"
   ]
  },
  {
   "cell_type": "code",
   "execution_count": 1001,
   "id": "df8f1e91",
   "metadata": {},
   "outputs": [
    {
     "data": {
      "text/plain": [
       "Index           0\n",
       "BI_RADS         0\n",
       "Age             0\n",
       "Shape           0\n",
       "Margin          0\n",
       "Mass_Density    0\n",
       "Severity        0\n",
       "dtype: int64"
      ]
     },
     "execution_count": 1001,
     "metadata": {},
     "output_type": "execute_result"
    }
   ],
   "source": [
    "data.isna().sum()"
   ]
  },
  {
   "cell_type": "code",
   "execution_count": 1002,
   "id": "2839305d",
   "metadata": {},
   "outputs": [
    {
     "data": {
      "text/plain": [
       "array(['low', 'high', 'iso', 'fat-containing'], dtype=object)"
      ]
     },
     "execution_count": 1002,
     "metadata": {},
     "output_type": "execute_result"
    }
   ],
   "source": [
    "data['Mass_Density'].unique()"
   ]
  },
  {
   "cell_type": "code",
   "execution_count": 1003,
   "id": "c5646b21",
   "metadata": {},
   "outputs": [],
   "source": [
    "data.Mass_Density = data['Mass_Density'].map({\n",
    "                    'high' : 1,\n",
    "                    'iso'  : 2,\n",
    "                    'low':3,\n",
    "                    'fat-containing':4,\n",
    "})"
   ]
  },
  {
   "cell_type": "code",
   "execution_count": 1004,
   "id": "dddc2656",
   "metadata": {},
   "outputs": [],
   "source": [
    "test_data.Mass_Density = test_data['Mass_Density'].map({\n",
    "                    'high' : 1,\n",
    "                    'iso'  : 2,\n",
    "                    'low':3,\n",
    "                    'fat-containing':4,\n",
    "})"
   ]
  },
  {
   "cell_type": "code",
   "execution_count": 1005,
   "id": "b66f40f3",
   "metadata": {},
   "outputs": [],
   "source": [
    "data = data.drop('Index',axis = 1) #dropping the index column"
   ]
  },
  {
   "cell_type": "code",
   "execution_count": 1006,
   "id": "4931f287",
   "metadata": {},
   "outputs": [],
   "source": [
    "test_data = test_data.drop('Index',axis =1)"
   ]
  },
  {
   "cell_type": "markdown",
   "id": "ed82a400",
   "metadata": {},
   "source": [
    "There is relationship with Age, BI_RADS with the Severity. As Age, BI_RADS increases the severity is malignant"
   ]
  },
  {
   "cell_type": "code",
   "execution_count": 1007,
   "id": "d6536c16",
   "metadata": {},
   "outputs": [
    {
     "data": {
      "image/png": "[encoded data removed]",
      "text/plain": [
       "<Figure size 340.3x288 with 1 Axes>"
      ]
     },
     "metadata": {},
     "output_type": "display_data"
    }
   ],
   "source": [
    "sns.set_style(\"whitegrid\");\n",
    "sns.FacetGrid(data, hue=\"Severity\", size=4) \\\n",
    "   .map(plt.scatter, \"Age\", \"BI_RADS\") \\\n",
    "   .add_legend();\n",
    "plt.show();"
   ]
  },
  {
   "cell_type": "code",
   "execution_count": 1008,
   "id": "ad8e0ff5",
   "metadata": {},
   "outputs": [
    {
     "data": {
      "image/png": "[encoded data removed]",
      "text/plain": [
       "<Figure size 1132.3x1080 with 30 Axes>"
      ]
     },
     "metadata": {},
     "output_type": "display_data"
    }
   ],
   "source": [
    "#pairplot\n",
    "sns.set_style(\"whitegrid\");\n",
    "sns.pairplot(data, hue=\"Severity\", size=3);\n",
    "plt.show()"
   ]
  },
  {
   "cell_type": "code",
   "execution_count": 1009,
   "id": "7bb17bd9",
   "metadata": {},
   "outputs": [
    {
     "data": {
      "image/png": "[encoded data removed]",
      "text/plain": [
       "<Figure size 1080x540 with 2 Axes>"
      ]
     },
     "metadata": {},
     "output_type": "display_data"
    }
   ],
   "source": [
    "#correlation\n",
    "plt.figure(figsize=(15,7.5))\n",
    "sns.heatmap(data.corr(),annot=True)\n",
    "plt.show()\n",
    "#There is a correlation between Margin and Shape "
   ]
  },
  {
   "cell_type": "code",
   "execution_count": 1074,
   "id": "c55de4b5",
   "metadata": {},
   "outputs": [],
   "source": [
    "y = data['Severity']\n",
    "X = data.drop(['Severity'],axis =1) #spliting the dependant and independant variables"
   ]
  },
  {
   "cell_type": "code",
   "execution_count": 1011,
   "id": "3a822d01",
   "metadata": {},
   "outputs": [],
   "source": [
    "'''Fit Tree'''\n",
    "#train test - split \n",
    "\n",
    "from sklearn.model_selection import train_test_split"
   ]
  },
  {
   "cell_type": "code",
   "execution_count": 1012,
   "id": "88739e29",
   "metadata": {},
   "outputs": [],
   "source": [
    "X_train, X_test, y_train, y_test = train_test_split(X, y, test_size=0.3,stratify = y, random_state=0)#split into 70-30 ratio"
   ]
  },
  {
   "cell_type": "code",
   "execution_count": 1013,
   "id": "c24e6bd9",
   "metadata": {},
   "outputs": [],
   "source": [
    "from sklearn.tree import DecisionTreeClassifier #Using DT as it is good at handling non-linear data, as it is easy to read and interpret"
   ]
  },
  {
   "cell_type": "code",
   "execution_count": 1014,
   "id": "a6bf1297",
   "metadata": {},
   "outputs": [],
   "source": [
    "#fit tree on train data\n",
    "#model\n",
    "clf = DecisionTreeClassifier()"
   ]
  },
  {
   "cell_type": "code",
   "execution_count": 1015,
   "id": "9c70b447",
   "metadata": {},
   "outputs": [
    {
     "data": {
      "text/plain": [
       "DecisionTreeClassifier(ccp_alpha=0.0, class_weight=None, criterion='gini',\n",
       "                       max_depth=None, max_features=None, max_leaf_nodes=None,\n",
       "                       min_impurity_decrease=0.0, min_impurity_split=None,\n",
       "                       min_samples_leaf=1, min_samples_split=2,\n",
       "                       min_weight_fraction_leaf=0.0, presort='deprecated',\n",
       "                       random_state=None, splitter='best')"
      ]
     },
     "execution_count": 1015,
     "metadata": {},
     "output_type": "execute_result"
    }
   ],
   "source": [
    "#Fit Classifier model on train set \n",
    "clf.fit(X_train, y_train)"
   ]
  },
  {
   "cell_type": "code",
   "execution_count": 1016,
   "id": "b2336c19",
   "metadata": {},
   "outputs": [],
   "source": [
    "#Predict/estimate_train  X_train\n",
    "y_pred_train = clf.predict(X_train)"
   ]
  },
  {
   "cell_type": "code",
   "execution_count": 1017,
   "id": "91950ae9",
   "metadata": {},
   "outputs": [],
   "source": [
    "#Predict/estimate_test  X_test\n",
    "y_pred_test = clf.predict(X_test)\n"
   ]
  },
  {
   "cell_type": "code",
   "execution_count": 1018,
   "id": "f0b8d3c1",
   "metadata": {},
   "outputs": [],
   "source": [
    "#See the train \n",
    "from sklearn import tree"
   ]
  },
  {
   "cell_type": "code",
   "execution_count": 1019,
   "id": "69e97d85",
   "metadata": {},
   "outputs": [
    {
     "data": {
      "text/plain": [
       "[Text(185.80936871227365, 211.4, 'X[0] <= 4.5\\ngini = 0.497\\nsamples = 567\\nvalue = [306, 261]'),\n",
       " Text(116.83475855130786, 199.32, 'X[2] <= 3.5\\ngini = 0.314\\nsamples = 343\\nvalue = [276, 67]'),\n",
       " Text(52.03883299798793, 187.24, 'X[1] <= 58.5\\ngini = 0.194\\nsamples = 257\\nvalue = [229, 28]'),\n",
       " Text(20.209255533199197, 175.16, 'X[1] <= 40.5\\ngini = 0.071\\nsamples = 189\\nvalue = [182, 7]'),\n",
       " Text(17.514688128772637, 163.07999999999998, 'gini = 0.0\\nsamples = 60\\nvalue = [60, 0]'),\n",
       " Text(22.903822937625755, 163.07999999999998, 'X[1] <= 45.5\\ngini = 0.103\\nsamples = 129\\nvalue = [122, 7]'),\n",
       " Text(10.778269617706238, 151.0, 'X[2] <= 1.5\\ngini = 0.225\\nsamples = 31\\nvalue = [27, 4]'),\n",
       " Text(5.389134808853119, 138.92000000000002, 'X[1] <= 41.5\\ngini = 0.337\\nsamples = 14\\nvalue = [11, 3]'),\n",
       " Text(2.6945674044265595, 126.84, 'gini = 0.5\\nsamples = 2\\nvalue = [1, 1]'),\n",
       " Text(8.083702213279679, 126.84, 'X[1] <= 42.5\\ngini = 0.278\\nsamples = 12\\nvalue = [10, 2]'),\n",
       " Text(5.389134808853119, 114.75999999999999, 'gini = 0.0\\nsamples = 2\\nvalue = [2, 0]'),\n",
       " Text(10.778269617706238, 114.75999999999999, 'X[1] <= 44.5\\ngini = 0.32\\nsamples = 10\\nvalue = [8, 2]'),\n",
       " Text(8.083702213279679, 102.67999999999999, 'X[1] <= 43.5\\ngini = 0.375\\nsamples = 8\\nvalue = [6, 2]'),\n",
       " Text(5.389134808853119, 90.6, 'X[0] <= 3.5\\ngini = 0.278\\nsamples = 6\\nvalue = [5, 1]'),\n",
       " Text(2.6945674044265595, 78.52000000000001, 'gini = 0.0\\nsamples = 1\\nvalue = [1, 0]'),\n",
       " Text(8.083702213279679, 78.52000000000001, 'gini = 0.32\\nsamples = 5\\nvalue = [4, 1]'),\n",
       " Text(10.778269617706238, 90.6, 'gini = 0.5\\nsamples = 2\\nvalue = [1, 1]'),\n",
       " Text(13.472837022132797, 102.67999999999999, 'gini = 0.0\\nsamples = 2\\nvalue = [2, 0]'),\n",
       " Text(16.167404426559358, 138.92000000000002, 'X[1] <= 44.5\\ngini = 0.111\\nsamples = 17\\nvalue = [16, 1]'),\n",
       " Text(13.472837022132797, 126.84, 'gini = 0.0\\nsamples = 12\\nvalue = [12, 0]'),\n",
       " Text(18.861971830985915, 126.84, 'X[4] <= 2.5\\ngini = 0.32\\nsamples = 5\\nvalue = [4, 1]'),\n",
       " Text(16.167404426559358, 114.75999999999999, 'gini = 0.0\\nsamples = 1\\nvalue = [1, 0]'),\n",
       " Text(21.556539235412476, 114.75999999999999, 'gini = 0.375\\nsamples = 4\\nvalue = [3, 1]'),\n",
       " Text(35.02937625754527, 151.0, 'X[1] <= 55.732\\ngini = 0.059\\nsamples = 98\\nvalue = [95, 3]'),\n",
       " Text(26.945674044265594, 138.92000000000002, 'X[1] <= 53.5\\ngini = 0.025\\nsamples = 80\\nvalue = [79, 1]'),\n",
       " Text(24.251106639839037, 126.84, 'gini = 0.0\\nsamples = 40\\nvalue = [40, 0]'),\n",
       " Text(29.640241448692155, 126.84, 'X[1] <= 54.5\\ngini = 0.049\\nsamples = 40\\nvalue = [39, 1]'),\n",
       " Text(26.945674044265594, 114.75999999999999, 'gini = 0.219\\nsamples = 8\\nvalue = [7, 1]'),\n",
       " Text(32.334808853118716, 114.75999999999999, 'gini = 0.0\\nsamples = 32\\nvalue = [32, 0]'),\n",
       " Text(43.11307847082495, 138.92000000000002, 'X[2] <= 2.5\\ngini = 0.198\\nsamples = 18\\nvalue = [16, 2]'),\n",
       " Text(40.418511066398395, 126.84, 'X[3] <= 1.5\\ngini = 0.111\\nsamples = 17\\nvalue = [16, 1]'),\n",
       " Text(37.72394366197183, 114.75999999999999, 'gini = 0.0\\nsamples = 15\\nvalue = [15, 0]'),\n",
       " Text(43.11307847082495, 114.75999999999999, 'X[3] <= 3.5\\ngini = 0.5\\nsamples = 2\\nvalue = [1, 1]'),\n",
       " Text(40.418511066398395, 102.67999999999999, 'gini = 0.0\\nsamples = 1\\nvalue = [0, 1]'),\n",
       " Text(45.80764587525151, 102.67999999999999, 'gini = 0.0\\nsamples = 1\\nvalue = [1, 0]'),\n",
       " Text(45.80764587525151, 126.84, 'gini = 0.0\\nsamples = 1\\nvalue = [0, 1]'),\n",
       " Text(83.86841046277667, 175.16, 'X[3] <= 1.5\\ngini = 0.427\\nsamples = 68\\nvalue = [47, 21]'),\n",
       " Text(61.30140845070423, 163.07999999999998, 'X[0] <= 3.5\\ngini = 0.34\\nsamples = 46\\nvalue = [36, 10]'),\n",
       " Text(51.19678068410463, 151.0, 'X[4] <= 2.5\\ngini = 0.444\\nsamples = 3\\nvalue = [1, 2]'),\n",
       " Text(48.502213279678074, 138.92000000000002, 'gini = 0.0\\nsamples = 1\\nvalue = [1, 0]'),\n",
       " Text(53.89134808853119, 138.92000000000002, 'gini = 0.0\\nsamples = 2\\nvalue = [0, 2]'),\n",
       " Text(71.40603621730382, 151.0, 'X[1] <= 67.5\\ngini = 0.303\\nsamples = 43\\nvalue = [35, 8]'),\n",
       " Text(59.28048289738431, 138.92000000000002, 'X[1] <= 59.5\\ngini = 0.225\\nsamples = 31\\nvalue = [27, 4]'),\n",
       " Text(53.89134808853119, 126.84, 'X[2] <= 1.5\\ngini = 0.444\\nsamples = 6\\nvalue = [4, 2]'),\n",
       " Text(51.19678068410463, 114.75999999999999, 'gini = 0.0\\nsamples = 1\\nvalue = [1, 0]'),\n",
       " Text(56.58591549295775, 114.75999999999999, 'gini = 0.48\\nsamples = 5\\nvalue = [3, 2]'),\n",
       " Text(64.66961770623743, 126.84, 'X[1] <= 64.5\\ngini = 0.147\\nsamples = 25\\nvalue = [23, 2]'),\n",
       " Text(61.97505030181087, 114.75999999999999, 'gini = 0.0\\nsamples = 15\\nvalue = [15, 0]'),\n",
       " Text(67.36418511066398, 114.75999999999999, 'X[2] <= 1.5\\ngini = 0.32\\nsamples = 10\\nvalue = [8, 2]'),\n",
       " Text(64.66961770623743, 102.67999999999999, 'X[1] <= 66.5\\ngini = 0.408\\nsamples = 7\\nvalue = [5, 2]'),\n",
       " Text(61.97505030181087, 90.6, 'X[1] <= 65.5\\ngini = 0.48\\nsamples = 5\\nvalue = [3, 2]'),\n",
       " Text(59.28048289738431, 78.52000000000001, 'gini = 0.5\\nsamples = 2\\nvalue = [1, 1]'),\n",
       " Text(64.66961770623743, 78.52000000000001, 'gini = 0.444\\nsamples = 3\\nvalue = [2, 1]'),\n",
       " Text(67.36418511066398, 90.6, 'gini = 0.0\\nsamples = 2\\nvalue = [2, 0]'),\n",
       " Text(70.05875251509055, 102.67999999999999, 'gini = 0.0\\nsamples = 3\\nvalue = [3, 0]'),\n",
       " Text(83.53158953722334, 138.92000000000002, 'X[1] <= 71.5\\ngini = 0.444\\nsamples = 12\\nvalue = [8, 4]'),\n",
       " Text(80.83702213279679, 126.84, 'X[2] <= 2.5\\ngini = 0.49\\nsamples = 7\\nvalue = [3, 4]'),\n",
       " Text(78.14245472837023, 114.75999999999999, 'X[2] <= 1.5\\ngini = 0.444\\nsamples = 6\\nvalue = [2, 4]'),\n",
       " Text(75.44788732394366, 102.67999999999999, 'X[1] <= 69.5\\ngini = 0.5\\nsamples = 4\\nvalue = [2, 2]'),\n",
       " Text(72.75331991951711, 90.6, 'gini = 0.444\\nsamples = 3\\nvalue = [1, 2]'),\n",
       " Text(78.14245472837023, 90.6, 'gini = 0.0\\nsamples = 1\\nvalue = [1, 0]'),\n",
       " Text(80.83702213279679, 102.67999999999999, 'gini = 0.0\\nsamples = 2\\nvalue = [0, 2]'),\n",
       " Text(83.53158953722334, 114.75999999999999, 'gini = 0.0\\nsamples = 1\\nvalue = [1, 0]'),\n",
       " Text(86.2261569416499, 126.84, 'gini = 0.0\\nsamples = 5\\nvalue = [5, 0]'),\n",
       " Text(106.4354124748491, 163.07999999999998, 'X[2] <= 2.5\\ngini = 0.5\\nsamples = 22\\nvalue = [11, 11]'),\n",
       " Text(99.6989939637827, 151.0, 'X[3] <= 3.5\\ngini = 0.48\\nsamples = 15\\nvalue = [9, 6]'),\n",
       " Text(94.30985915492958, 138.92000000000002, 'X[3] <= 2.5\\ngini = 0.278\\nsamples = 6\\nvalue = [5, 1]'),\n",
       " Text(91.61529175050302, 126.84, 'gini = 0.0\\nsamples = 1\\nvalue = [0, 1]'),\n",
       " Text(97.00442655935615, 126.84, 'gini = 0.0\\nsamples = 5\\nvalue = [5, 0]'),\n",
       " Text(105.08812877263583, 138.92000000000002, 'X[1] <= 65.5\\ngini = 0.494\\nsamples = 9\\nvalue = [4, 5]'),\n",
       " Text(102.39356136820926, 126.84, 'X[1] <= 63.0\\ngini = 0.49\\nsamples = 7\\nvalue = [4, 3]'),\n",
       " Text(99.6989939637827, 114.75999999999999, 'X[1] <= 60.5\\ngini = 0.48\\nsamples = 5\\nvalue = [2, 3]'),\n",
       " Text(97.00442655935615, 102.67999999999999, 'gini = 0.5\\nsamples = 2\\nvalue = [1, 1]'),\n",
       " Text(102.39356136820926, 102.67999999999999, 'gini = 0.444\\nsamples = 3\\nvalue = [1, 2]'),\n",
       " Text(105.08812877263583, 114.75999999999999, 'gini = 0.0\\nsamples = 2\\nvalue = [2, 0]'),\n",
       " Text(107.78269617706238, 126.84, 'gini = 0.0\\nsamples = 2\\nvalue = [0, 2]'),\n",
       " Text(113.1718309859155, 151.0, 'X[1] <= 60.5\\ngini = 0.408\\nsamples = 7\\nvalue = [2, 5]'),\n",
       " Text(110.47726358148894, 138.92000000000002, 'gini = 0.0\\nsamples = 1\\nvalue = [1, 0]'),\n",
       " Text(115.86639839034206, 138.92000000000002, 'X[1] <= 65.5\\ngini = 0.278\\nsamples = 6\\nvalue = [1, 5]'),\n",
       " Text(113.1718309859155, 126.84, 'gini = 0.0\\nsamples = 4\\nvalue = [0, 4]'),\n",
       " Text(118.56096579476862, 126.84, 'X[3] <= 3.5\\ngini = 0.5\\nsamples = 2\\nvalue = [1, 1]'),\n",
       " Text(115.86639839034206, 114.75999999999999, 'gini = 0.0\\nsamples = 1\\nvalue = [1, 0]'),\n",
       " Text(121.25553319919518, 114.75999999999999, 'gini = 0.0\\nsamples = 1\\nvalue = [0, 1]'),\n",
       " Text(181.6306841046278, 187.24, 'X[1] <= 69.5\\ngini = 0.496\\nsamples = 86\\nvalue = [47, 39]'),\n",
       " Text(161.1688128772636, 175.16, 'X[3] <= 4.5\\ngini = 0.481\\nsamples = 72\\nvalue = [43, 29]'),\n",
       " Text(139.10704225352114, 163.07999999999998, 'X[0] <= 3.5\\ngini = 0.452\\nsamples = 58\\nvalue = [38, 20]'),\n",
       " Text(129.33923541247486, 151.0, 'X[3] <= 2.0\\ngini = 0.165\\nsamples = 11\\nvalue = [10, 1]'),\n",
       " Text(126.6446680080483, 138.92000000000002, 'X[1] <= 57.5\\ngini = 0.444\\nsamples = 3\\nvalue = [2, 1]'),\n",
       " Text(123.95010060362173, 126.84, 'gini = 0.0\\nsamples = 1\\nvalue = [0, 1]'),\n",
       " Text(129.33923541247486, 126.84, 'gini = 0.0\\nsamples = 2\\nvalue = [2, 0]'),\n",
       " Text(132.0338028169014, 138.92000000000002, 'gini = 0.0\\nsamples = 8\\nvalue = [8, 0]'),\n",
       " Text(148.87484909456742, 151.0, 'X[1] <= 53.5\\ngini = 0.482\\nsamples = 47\\nvalue = [28, 19]'),\n",
       " Text(137.42293762575454, 138.92000000000002, 'X[1] <= 30.0\\ngini = 0.36\\nsamples = 17\\nvalue = [13, 4]'),\n",
       " Text(134.72837022132796, 126.84, 'gini = 0.0\\nsamples = 1\\nvalue = [0, 1]'),\n",
       " Text(140.1175050301811, 126.84, 'X[4] <= 2.5\\ngini = 0.305\\nsamples = 16\\nvalue = [13, 3]'),\n",
       " Text(134.72837022132796, 114.75999999999999, 'X[1] <= 43.5\\ngini = 0.5\\nsamples = 2\\nvalue = [1, 1]'),\n",
       " Text(132.0338028169014, 102.67999999999999, 'gini = 0.0\\nsamples = 1\\nvalue = [0, 1]'),\n",
       " Text(137.42293762575454, 102.67999999999999, 'gini = 0.0\\nsamples = 1\\nvalue = [1, 0]'),\n",
       " Text(145.50663983903422, 114.75999999999999, 'X[1] <= 45.5\\ngini = 0.245\\nsamples = 14\\nvalue = [12, 2]'),\n",
       " Text(142.81207243460764, 102.67999999999999, 'gini = 0.0\\nsamples = 6\\nvalue = [6, 0]'),\n",
       " Text(148.20120724346077, 102.67999999999999, 'X[1] <= 49.5\\ngini = 0.375\\nsamples = 8\\nvalue = [6, 2]'),\n",
       " Text(145.50663983903422, 90.6, 'X[3] <= 3.5\\ngini = 0.5\\nsamples = 4\\nvalue = [2, 2]'),\n",
       " Text(142.81207243460764, 78.52000000000001, 'gini = 0.0\\nsamples = 1\\nvalue = [1, 0]'),\n",
       " Text(148.20120724346077, 78.52000000000001, 'X[1] <= 47.5\\ngini = 0.444\\nsamples = 3\\nvalue = [1, 2]'),\n",
       " Text(145.50663983903422, 66.44, 'gini = 0.0\\nsamples = 1\\nvalue = [0, 1]'),\n",
       " Text(150.89577464788732, 66.44, 'gini = 0.5\\nsamples = 2\\nvalue = [1, 1]'),\n",
       " Text(150.89577464788732, 90.6, 'gini = 0.0\\nsamples = 4\\nvalue = [4, 0]'),\n",
       " Text(160.3267605633803, 138.92000000000002, 'X[3] <= 1.5\\ngini = 0.5\\nsamples = 30\\nvalue = [15, 15]'),\n",
       " Text(153.5903420523139, 126.84, 'X[1] <= 56.732\\ngini = 0.375\\nsamples = 4\\nvalue = [1, 3]'),\n",
       " Text(150.89577464788732, 114.75999999999999, 'gini = 0.0\\nsamples = 1\\nvalue = [1, 0]'),\n",
       " Text(156.28490945674045, 114.75999999999999, 'gini = 0.0\\nsamples = 3\\nvalue = [0, 3]'),\n",
       " Text(167.06317907444668, 126.84, 'X[1] <= 55.732\\ngini = 0.497\\nsamples = 26\\nvalue = [14, 12]'),\n",
       " Text(161.67404426559358, 114.75999999999999, 'X[1] <= 55.232\\ngini = 0.32\\nsamples = 5\\nvalue = [1, 4]'),\n",
       " Text(158.979476861167, 102.67999999999999, 'X[1] <= 54.5\\ngini = 0.5\\nsamples = 2\\nvalue = [1, 1]'),\n",
       " Text(156.28490945674045, 90.6, 'gini = 0.0\\nsamples = 1\\nvalue = [0, 1]'),\n",
       " Text(161.67404426559358, 90.6, 'gini = 0.0\\nsamples = 1\\nvalue = [1, 0]'),\n",
       " Text(164.36861167002013, 102.67999999999999, 'gini = 0.0\\nsamples = 3\\nvalue = [0, 3]'),\n",
       " Text(172.4523138832998, 114.75999999999999, 'X[1] <= 56.5\\ngini = 0.472\\nsamples = 21\\nvalue = [13, 8]'),\n",
       " Text(169.75774647887326, 102.67999999999999, 'gini = 0.0\\nsamples = 2\\nvalue = [2, 0]'),\n",
       " Text(175.14688128772636, 102.67999999999999, 'X[4] <= 2.5\\ngini = 0.488\\nsamples = 19\\nvalue = [11, 8]'),\n",
       " Text(172.4523138832998, 90.6, 'gini = 0.0\\nsamples = 2\\nvalue = [2, 0]'),\n",
       " Text(177.84144869215294, 90.6, 'X[1] <= 58.5\\ngini = 0.498\\nsamples = 17\\nvalue = [9, 8]'),\n",
       " Text(175.14688128772636, 78.52000000000001, 'gini = 0.0\\nsamples = 2\\nvalue = [0, 2]'),\n",
       " Text(180.5360160965795, 78.52000000000001, 'X[1] <= 63.5\\ngini = 0.48\\nsamples = 15\\nvalue = [9, 6]'),\n",
       " Text(175.14688128772636, 66.44, 'X[1] <= 59.5\\ngini = 0.32\\nsamples = 5\\nvalue = [4, 1]'),\n",
       " Text(172.4523138832998, 54.359999999999985, 'gini = 0.5\\nsamples = 2\\nvalue = [1, 1]'),\n",
       " Text(177.84144869215294, 54.359999999999985, 'gini = 0.0\\nsamples = 3\\nvalue = [3, 0]'),\n",
       " Text(185.92515090543262, 66.44, 'X[1] <= 68.5\\ngini = 0.5\\nsamples = 10\\nvalue = [5, 5]'),\n",
       " Text(183.23058350100604, 54.359999999999985, 'X[1] <= 64.5\\ngini = 0.494\\nsamples = 9\\nvalue = [4, 5]'),\n",
       " Text(177.84144869215294, 42.28, 'X[3] <= 3.5\\ngini = 0.444\\nsamples = 3\\nvalue = [1, 2]'),\n",
       " Text(175.14688128772636, 30.19999999999999, 'gini = 0.0\\nsamples = 1\\nvalue = [0, 1]'),\n",
       " Text(180.5360160965795, 30.19999999999999, 'gini = 0.5\\nsamples = 2\\nvalue = [1, 1]'),\n",
       " Text(188.61971830985917, 42.28, 'X[3] <= 3.5\\ngini = 0.5\\nsamples = 6\\nvalue = [3, 3]'),\n",
       " Text(185.92515090543262, 30.19999999999999, 'gini = 0.0\\nsamples = 1\\nvalue = [1, 0]'),\n",
       " Text(191.31428571428572, 30.19999999999999, 'X[1] <= 66.0\\ngini = 0.48\\nsamples = 5\\nvalue = [2, 3]'),\n",
       " Text(188.61971830985917, 18.120000000000005, 'gini = 0.0\\nsamples = 1\\nvalue = [0, 1]'),\n",
       " Text(194.0088531187123, 18.120000000000005, 'X[1] <= 67.5\\ngini = 0.5\\nsamples = 4\\nvalue = [2, 2]'),\n",
       " Text(191.31428571428572, 6.039999999999992, 'gini = 0.5\\nsamples = 2\\nvalue = [1, 1]'),\n",
       " Text(196.70342052313885, 6.039999999999992, 'gini = 0.5\\nsamples = 2\\nvalue = [1, 1]'),\n",
       " Text(188.61971830985917, 54.359999999999985, 'gini = 0.0\\nsamples = 1\\nvalue = [1, 0]'),\n",
       " Text(183.23058350100604, 163.07999999999998, 'X[0] <= 3.5\\ngini = 0.459\\nsamples = 14\\nvalue = [5, 9]'),\n",
       " Text(180.5360160965795, 151.0, 'gini = 0.0\\nsamples = 3\\nvalue = [0, 3]'),\n",
       " Text(185.92515090543262, 151.0, 'X[1] <= 54.232\\ngini = 0.496\\nsamples = 11\\nvalue = [5, 6]'),\n",
       " Text(177.84144869215294, 138.92000000000002, 'X[1] <= 49.0\\ngini = 0.32\\nsamples = 5\\nvalue = [1, 4]'),\n",
       " Text(175.14688128772636, 126.84, 'gini = 0.0\\nsamples = 1\\nvalue = [0, 1]'),\n",
       " Text(180.5360160965795, 126.84, 'X[1] <= 51.5\\ngini = 0.375\\nsamples = 4\\nvalue = [1, 3]'),\n",
       " Text(177.84144869215294, 114.75999999999999, 'gini = 0.444\\nsamples = 3\\nvalue = [1, 2]'),\n",
       " Text(183.23058350100604, 114.75999999999999, 'gini = 0.0\\nsamples = 1\\nvalue = [0, 1]'),\n",
       " Text(194.0088531187123, 138.92000000000002, 'X[1] <= 65.5\\ngini = 0.444\\nsamples = 6\\nvalue = [4, 2]'),\n",
       " Text(191.31428571428572, 126.84, 'X[1] <= 59.732\\ngini = 0.375\\nsamples = 4\\nvalue = [3, 1]'),\n",
       " Text(188.61971830985917, 114.75999999999999, 'gini = 0.444\\nsamples = 3\\nvalue = [2, 1]'),\n",
       " Text(194.0088531187123, 114.75999999999999, 'gini = 0.0\\nsamples = 1\\nvalue = [1, 0]'),\n",
       " Text(196.70342052313885, 126.84, 'gini = 0.5\\nsamples = 2\\nvalue = [1, 1]'),\n",
       " Text(202.09255533199197, 175.16, 'X[3] <= 3.5\\ngini = 0.408\\nsamples = 14\\nvalue = [4, 10]'),\n",
       " Text(199.3979879275654, 163.07999999999998, 'X[0] <= 2.0\\ngini = 0.49\\nsamples = 7\\nvalue = [4, 3]'),\n",
       " Text(196.70342052313885, 151.0, 'gini = 0.0\\nsamples = 1\\nvalue = [0, 1]'),\n",
       " Text(202.09255533199197, 151.0, 'X[0] <= 3.5\\ngini = 0.444\\nsamples = 6\\nvalue = [4, 2]'),\n",
       " Text(199.3979879275654, 138.92000000000002, 'gini = 0.0\\nsamples = 2\\nvalue = [2, 0]'),\n",
       " Text(204.78712273641852, 138.92000000000002, 'X[1] <= 70.5\\ngini = 0.5\\nsamples = 4\\nvalue = [2, 2]'),\n",
       " Text(202.09255533199197, 126.84, 'gini = 0.0\\nsamples = 1\\nvalue = [1, 0]'),\n",
       " Text(207.48169014084507, 126.84, 'X[3] <= 2.5\\ngini = 0.444\\nsamples = 3\\nvalue = [1, 2]'),\n",
       " Text(204.78712273641852, 114.75999999999999, 'gini = 0.0\\nsamples = 1\\nvalue = [0, 1]'),\n",
       " Text(210.17625754527165, 114.75999999999999, 'X[1] <= 74.5\\ngini = 0.5\\nsamples = 2\\nvalue = [1, 1]'),\n",
       " Text(207.48169014084507, 102.67999999999999, 'gini = 0.0\\nsamples = 1\\nvalue = [1, 0]'),\n",
       " Text(212.8708249496982, 102.67999999999999, 'gini = 0.0\\nsamples = 1\\nvalue = [0, 1]'),\n",
       " Text(204.78712273641852, 163.07999999999998, 'gini = 0.0\\nsamples = 7\\nvalue = [0, 7]'),\n",
       " Text(254.78397887323945, 199.32, 'X[3] <= 1.5\\ngini = 0.232\\nsamples = 224\\nvalue = [30, 194]'),\n",
       " Text(222.30181086519116, 187.24, 'X[2] <= 2.5\\ngini = 0.498\\nsamples = 17\\nvalue = [8, 9]'),\n",
       " Text(215.56539235412475, 175.16, 'X[1] <= 42.5\\ngini = 0.444\\nsamples = 12\\nvalue = [4, 8]'),\n",
       " Text(210.17625754527165, 163.07999999999998, 'X[1] <= 37.5\\ngini = 0.444\\nsamples = 3\\nvalue = [2, 1]'),\n",
       " Text(207.48169014084507, 151.0, 'gini = 0.0\\nsamples = 1\\nvalue = [0, 1]'),\n",
       " Text(212.8708249496982, 151.0, 'gini = 0.0\\nsamples = 2\\nvalue = [2, 0]'),\n",
       " Text(220.95452716297788, 163.07999999999998, 'X[1] <= 55.232\\ngini = 0.346\\nsamples = 9\\nvalue = [2, 7]'),\n",
       " Text(218.25995975855133, 151.0, 'gini = 0.0\\nsamples = 3\\nvalue = [0, 3]'),\n",
       " Text(223.64909456740443, 151.0, 'X[1] <= 64.0\\ngini = 0.444\\nsamples = 6\\nvalue = [2, 4]'),\n",
       " Text(220.95452716297788, 138.92000000000002, 'X[1] <= 59.232\\ngini = 0.444\\nsamples = 3\\nvalue = [2, 1]'),\n",
       " Text(218.25995975855133, 126.84, 'X[2] <= 1.5\\ngini = 0.5\\nsamples = 2\\nvalue = [1, 1]'),\n",
       " Text(215.56539235412475, 114.75999999999999, 'gini = 0.0\\nsamples = 1\\nvalue = [0, 1]'),\n",
       " Text(220.95452716297788, 114.75999999999999, 'gini = 0.0\\nsamples = 1\\nvalue = [1, 0]'),\n",
       " Text(223.64909456740443, 126.84, 'gini = 0.0\\nsamples = 1\\nvalue = [1, 0]'),\n",
       " Text(226.343661971831, 138.92000000000002, 'gini = 0.0\\nsamples = 3\\nvalue = [0, 3]'),\n",
       " Text(229.03822937625756, 175.16, 'X[4] <= 2.0\\ngini = 0.32\\nsamples = 5\\nvalue = [4, 1]'),\n",
       " Text(226.343661971831, 163.07999999999998, 'gini = 0.0\\nsamples = 1\\nvalue = [0, 1]'),\n",
       " Text(231.7327967806841, 163.07999999999998, 'gini = 0.0\\nsamples = 4\\nvalue = [4, 0]'),\n",
       " Text(287.26614688128774, 187.24, 'X[1] <= 57.5\\ngini = 0.19\\nsamples = 207\\nvalue = [22, 185]'),\n",
       " Text(256.5733400402415, 175.16, 'X[1] <= 56.5\\ngini = 0.32\\nsamples = 85\\nvalue = [17, 68]'),\n",
       " Text(251.18420523138835, 163.07999999999998, 'X[2] <= 2.5\\ngini = 0.299\\nsamples = 82\\nvalue = [15, 67]'),\n",
       " Text(248.4896378269618, 151.0, 'gini = 0.0\\nsamples = 7\\nvalue = [0, 7]'),\n",
       " Text(253.8787726358149, 151.0, 'X[1] <= 43.5\\ngini = 0.32\\nsamples = 75\\nvalue = [15, 60]'),\n",
       " Text(234.4273641851107, 138.92000000000002, 'X[3] <= 4.5\\ngini = 0.463\\nsamples = 11\\nvalue = [4, 7]'),\n",
       " Text(229.03822937625756, 126.84, 'X[1] <= 35.0\\ngini = 0.278\\nsamples = 6\\nvalue = [1, 5]'),\n",
       " Text(226.343661971831, 114.75999999999999, 'X[1] <= 19.0\\ngini = 0.5\\nsamples = 2\\nvalue = [1, 1]'),\n",
       " Text(223.64909456740443, 102.67999999999999, 'gini = 0.0\\nsamples = 1\\nvalue = [0, 1]'),\n",
       " Text(229.03822937625756, 102.67999999999999, 'gini = 0.0\\nsamples = 1\\nvalue = [1, 0]'),\n",
       " Text(231.7327967806841, 114.75999999999999, 'gini = 0.0\\nsamples = 4\\nvalue = [0, 4]'),\n",
       " Text(239.8164989939638, 126.84, 'X[1] <= 41.0\\ngini = 0.48\\nsamples = 5\\nvalue = [3, 2]'),\n",
       " Text(237.12193158953724, 114.75999999999999, 'gini = 0.0\\nsamples = 1\\nvalue = [0, 1]'),\n",
       " Text(242.51106639839037, 114.75999999999999, 'X[1] <= 42.5\\ngini = 0.375\\nsamples = 4\\nvalue = [3, 1]'),\n",
       " Text(239.8164989939638, 102.67999999999999, 'gini = 0.0\\nsamples = 2\\nvalue = [2, 0]'),\n",
       " Text(245.20563380281692, 102.67999999999999, 'gini = 0.5\\nsamples = 2\\nvalue = [1, 1]'),\n",
       " Text(273.33018108651913, 138.92000000000002, 'X[3] <= 4.5\\ngini = 0.285\\nsamples = 64\\nvalue = [11, 53]'),\n",
       " Text(263.0571428571429, 126.84, 'X[4] <= 3.5\\ngini = 0.343\\nsamples = 41\\nvalue = [9, 32]'),\n",
       " Text(260.3625754527163, 114.75999999999999, 'X[1] <= 55.732\\ngini = 0.32\\nsamples = 40\\nvalue = [8, 32]'),\n",
       " Text(250.59476861167005, 102.67999999999999, 'X[1] <= 54.5\\ngini = 0.301\\nsamples = 38\\nvalue = [7, 31]'),\n",
       " Text(239.14285714285717, 90.6, 'X[1] <= 45.5\\ngini = 0.375\\nsamples = 16\\nvalue = [4, 12]'),\n",
       " Text(236.4482897384306, 78.52000000000001, 'gini = 0.0\\nsamples = 3\\nvalue = [0, 3]'),\n",
       " Text(241.83742454728372, 78.52000000000001, 'X[1] <= 53.0\\ngini = 0.426\\nsamples = 13\\nvalue = [4, 9]'),\n",
       " Text(235.1010060362173, 66.44, 'X[3] <= 3.5\\ngini = 0.397\\nsamples = 11\\nvalue = [3, 8]'),\n",
       " Text(229.71187122736418, 54.359999999999985, 'X[1] <= 49.0\\ngini = 0.32\\nsamples = 5\\nvalue = [1, 4]'),\n",
       " Text(227.01730382293763, 42.28, 'gini = 0.444\\nsamples = 3\\nvalue = [1, 2]'),\n",
       " Text(232.40643863179076, 42.28, 'gini = 0.0\\nsamples = 2\\nvalue = [0, 2]'),\n",
       " Text(240.49014084507044, 54.359999999999985, 'X[1] <= 51.5\\ngini = 0.444\\nsamples = 6\\nvalue = [2, 4]'),\n",
       " Text(237.79557344064386, 42.28, 'X[1] <= 48.5\\ngini = 0.32\\nsamples = 5\\nvalue = [1, 4]'),\n",
       " Text(235.1010060362173, 30.19999999999999, 'gini = 0.0\\nsamples = 1\\nvalue = [0, 1]'),\n",
       " Text(240.49014084507044, 30.19999999999999, 'X[1] <= 50.0\\ngini = 0.375\\nsamples = 4\\nvalue = [1, 3]'),\n",
       " Text(237.79557344064386, 18.120000000000005, 'gini = 0.444\\nsamples = 3\\nvalue = [1, 2]'),\n",
       " Text(243.184708249497, 18.120000000000005, 'gini = 0.0\\nsamples = 1\\nvalue = [0, 1]'),\n",
       " Text(243.184708249497, 42.28, 'gini = 0.0\\nsamples = 1\\nvalue = [1, 0]'),\n",
       " Text(248.57384305835012, 66.44, 'X[3] <= 3.5\\ngini = 0.5\\nsamples = 2\\nvalue = [1, 1]'),\n",
       " Text(245.87927565392354, 54.359999999999985, 'gini = 0.0\\nsamples = 1\\nvalue = [1, 0]'),\n",
       " Text(251.26841046277667, 54.359999999999985, 'gini = 0.0\\nsamples = 1\\nvalue = [0, 1]'),\n",
       " Text(262.04668008048293, 90.6, 'X[4] <= 2.5\\ngini = 0.236\\nsamples = 22\\nvalue = [3, 19]'),\n",
       " Text(256.6575452716298, 78.52000000000001, 'X[4] <= 1.5\\ngini = 0.5\\nsamples = 2\\nvalue = [1, 1]'),\n",
       " Text(253.96297786720322, 66.44, 'gini = 0.0\\nsamples = 1\\nvalue = [0, 1]'),\n",
       " Text(259.3521126760564, 66.44, 'gini = 0.0\\nsamples = 1\\nvalue = [1, 0]'),\n",
       " Text(267.43581488933603, 78.52000000000001, 'X[3] <= 3.5\\ngini = 0.18\\nsamples = 20\\nvalue = [2, 18]'),\n",
       " Text(264.7412474849095, 66.44, 'gini = 0.0\\nsamples = 6\\nvalue = [0, 6]'),\n",
       " Text(270.1303822937626, 66.44, 'X[1] <= 55.232\\ngini = 0.245\\nsamples = 14\\nvalue = [2, 12]'),\n",
       " Text(267.43581488933603, 54.359999999999985, 'gini = 0.444\\nsamples = 3\\nvalue = [1, 2]'),\n",
       " Text(272.82494969818913, 54.359999999999985, 'X[2] <= 3.5\\ngini = 0.165\\nsamples = 11\\nvalue = [1, 10]'),\n",
       " Text(270.1303822937626, 42.28, 'gini = 0.0\\nsamples = 2\\nvalue = [0, 2]'),\n",
       " Text(275.51951710261574, 42.28, 'gini = 0.198\\nsamples = 9\\nvalue = [1, 8]'),\n",
       " Text(270.1303822937626, 102.67999999999999, 'X[3] <= 3.5\\ngini = 0.5\\nsamples = 2\\nvalue = [1, 1]'),\n",
       " Text(267.43581488933603, 90.6, 'gini = 0.0\\nsamples = 1\\nvalue = [0, 1]'),\n",
       " Text(272.82494969818913, 90.6, 'gini = 0.0\\nsamples = 1\\nvalue = [1, 0]'),\n",
       " Text(265.75171026156943, 114.75999999999999, 'gini = 0.0\\nsamples = 1\\nvalue = [1, 0]'),\n",
       " Text(283.6032193158954, 126.84, 'X[1] <= 48.0\\ngini = 0.159\\nsamples = 23\\nvalue = [2, 21]'),\n",
       " Text(278.2140845070423, 114.75999999999999, 'X[1] <= 46.5\\ngini = 0.278\\nsamples = 6\\nvalue = [1, 5]'),\n",
       " Text(275.51951710261574, 102.67999999999999, 'gini = 0.0\\nsamples = 4\\nvalue = [0, 4]'),\n",
       " Text(280.90865191146884, 102.67999999999999, 'gini = 0.5\\nsamples = 2\\nvalue = [1, 1]'),\n",
       " Text(288.9923541247485, 114.75999999999999, 'X[1] <= 55.232\\ngini = 0.111\\nsamples = 17\\nvalue = [1, 16]'),\n",
       " Text(286.29778672032194, 102.67999999999999, 'gini = 0.0\\nsamples = 9\\nvalue = [0, 9]'),\n",
       " Text(291.6869215291751, 102.67999999999999, 'X[4] <= 2.5\\ngini = 0.219\\nsamples = 8\\nvalue = [1, 7]'),\n",
       " Text(288.9923541247485, 90.6, 'gini = 0.0\\nsamples = 1\\nvalue = [0, 1]'),\n",
       " Text(294.38148893360164, 90.6, 'gini = 0.245\\nsamples = 7\\nvalue = [1, 6]'),\n",
       " Text(261.9624748490946, 163.07999999999998, 'X[2] <= 3.0\\ngini = 0.444\\nsamples = 3\\nvalue = [2, 1]'),\n",
       " Text(259.267907444668, 151.0, 'gini = 0.0\\nsamples = 1\\nvalue = [1, 0]'),\n",
       " Text(264.6570422535211, 151.0, 'gini = 0.5\\nsamples = 2\\nvalue = [1, 1]'),\n",
       " Text(317.958953722334, 175.16, 'X[4] <= 3.5\\ngini = 0.079\\nsamples = 122\\nvalue = [5, 117]'),\n",
       " Text(309.2016096579477, 163.07999999999998, 'X[1] <= 90.25\\ngini = 0.049\\nsamples = 119\\nvalue = [3, 116]'),\n",
       " Text(299.77062374245475, 151.0, 'X[2] <= 2.5\\ngini = 0.035\\nsamples = 111\\nvalue = [2, 109]'),\n",
       " Text(294.38148893360164, 138.92000000000002, 'X[1] <= 69.5\\ngini = 0.219\\nsamples = 8\\nvalue = [1, 7]'),\n",
       " Text(291.6869215291751, 126.84, 'gini = 0.0\\nsamples = 6\\nvalue = [0, 6]'),\n",
       " Text(297.0760563380282, 126.84, 'X[2] <= 1.5\\ngini = 0.5\\nsamples = 2\\nvalue = [1, 1]'),\n",
       " Text(294.38148893360164, 114.75999999999999, 'gini = 0.0\\nsamples = 1\\nvalue = [0, 1]'),\n",
       " Text(299.77062374245475, 114.75999999999999, 'gini = 0.0\\nsamples = 1\\nvalue = [1, 0]'),\n",
       " Text(305.15975855130785, 138.92000000000002, 'X[3] <= 4.5\\ngini = 0.019\\nsamples = 103\\nvalue = [1, 102]'),\n",
       " Text(302.4651911468813, 126.84, 'gini = 0.0\\nsamples = 72\\nvalue = [0, 72]'),\n",
       " Text(307.8543259557344, 126.84, 'X[1] <= 66.5\\ngini = 0.062\\nsamples = 31\\nvalue = [1, 30]'),\n",
       " Text(305.15975855130785, 114.75999999999999, 'X[1] <= 65.0\\ngini = 0.153\\nsamples = 12\\nvalue = [1, 11]'),\n",
       " Text(302.4651911468813, 102.67999999999999, 'gini = 0.0\\nsamples = 9\\nvalue = [0, 9]'),\n",
       " Text(307.8543259557344, 102.67999999999999, 'gini = 0.444\\nsamples = 3\\nvalue = [1, 2]'),\n",
       " Text(310.548893360161, 114.75999999999999, 'gini = 0.0\\nsamples = 19\\nvalue = [0, 19]'),\n",
       " Text(318.63259557344065, 151.0, 'X[2] <= 3.5\\ngini = 0.219\\nsamples = 8\\nvalue = [1, 7]'),\n",
       " Text(315.9380281690141, 138.92000000000002, 'gini = 0.0\\nsamples = 3\\nvalue = [0, 3]'),\n",
       " Text(321.3271629778672, 138.92000000000002, 'X[3] <= 4.5\\ngini = 0.32\\nsamples = 5\\nvalue = [1, 4]'),\n",
       " Text(318.63259557344065, 126.84, 'X[3] <= 3.5\\ngini = 0.444\\nsamples = 3\\nvalue = [1, 2]'),\n",
       " Text(315.9380281690141, 114.75999999999999, 'gini = 0.0\\nsamples = 1\\nvalue = [0, 1]'),\n",
       " Text(321.3271629778672, 114.75999999999999, 'gini = 0.5\\nsamples = 2\\nvalue = [1, 1]'),\n",
       " Text(324.02173038229375, 126.84, 'gini = 0.0\\nsamples = 2\\nvalue = [0, 2]'),\n",
       " Text(326.71629778672036, 163.07999999999998, 'X[1] <= 68.5\\ngini = 0.444\\nsamples = 3\\nvalue = [2, 1]'),\n",
       " Text(324.02173038229375, 151.0, 'gini = 0.0\\nsamples = 1\\nvalue = [1, 0]'),\n",
       " Text(329.4108651911469, 151.0, 'X[3] <= 3.5\\ngini = 0.5\\nsamples = 2\\nvalue = [1, 1]'),\n",
       " Text(326.71629778672036, 138.92000000000002, 'gini = 0.0\\nsamples = 1\\nvalue = [1, 0]'),\n",
       " Text(332.10543259557346, 138.92000000000002, 'gini = 0.0\\nsamples = 1\\nvalue = [0, 1]')]"
      ]
     },
     "execution_count": 1019,
     "metadata": {},
     "output_type": "execute_result"
    },
    {
     "data": {
      "image/png": "[encoded data removed]",
      "text/plain": [
       "<Figure size 432x288 with 1 Axes>"
      ]
     },
     "metadata": {},
     "output_type": "display_data"
    }
   ],
   "source": [
    "tree.plot_tree(clf.fit(X_train, y_train))"
   ]
  },
  {
   "cell_type": "code",
   "execution_count": 1020,
   "id": "34c919df",
   "metadata": {},
   "outputs": [],
   "source": [
    "#Model has learnt unneccesaary things \n",
    "#Need to optimize\n",
    "\n",
    "from sklearn.metrics import accuracy_score"
   ]
  },
  {
   "cell_type": "code",
   "execution_count": 1021,
   "id": "cdb962d8",
   "metadata": {},
   "outputs": [
    {
     "name": "stdout",
     "output_type": "stream",
     "text": [
      "0.95\n"
     ]
    }
   ],
   "source": [
    "print(round(accuracy_score(y_train,y_pred_train), 2))"
   ]
  },
  {
   "cell_type": "code",
   "execution_count": 1022,
   "id": "6a89b122",
   "metadata": {},
   "outputs": [
    {
     "name": "stdout",
     "output_type": "stream",
     "text": [
      "0.77\n"
     ]
    }
   ],
   "source": [
    "print(round(accuracy_score(y_test,y_pred_test), 2))"
   ]
  },
  {
   "cell_type": "code",
   "execution_count": 1023,
   "id": "220d7c4f",
   "metadata": {},
   "outputs": [],
   "source": [
    "path = clf.cost_complexity_pruning_path(X_train, y_train) #pruning path"
   ]
  },
  {
   "cell_type": "code",
   "execution_count": 1024,
   "id": "d029ab81",
   "metadata": {},
   "outputs": [
    {
     "data": {
      "text/plain": [
       "{'ccp_alphas': array([0.00000000e+00, 0.00000000e+00, 6.29881582e-05, 7.12593305e-05,\n",
       "        1.17577895e-04, 1.17577895e-04, 1.17577895e-04, 1.76366843e-04,\n",
       "        1.98412698e-04, 2.33426704e-04, 2.35155791e-04, 2.35155791e-04,\n",
       "        2.93944738e-04, 3.80510988e-04, 3.91926318e-04, 3.95489284e-04,\n",
       "        4.17700795e-04, 4.70311581e-04, 4.70311581e-04, 4.97976969e-04,\n",
       "        5.87889477e-04, 5.87889477e-04, 5.87889477e-04, 6.53210530e-04,\n",
       "        6.63188414e-04, 6.78854473e-04, 7.05467372e-04, 8.46560847e-04,\n",
       "        8.81834215e-04, 9.79815795e-04, 9.87654321e-04, 1.05820106e-03,\n",
       "        1.07057768e-03, 1.09537084e-03, 1.12922491e-03, 1.17577895e-03,\n",
       "        1.17577895e-03, 1.17577895e-03, 1.17577895e-03, 1.17577895e-03,\n",
       "        1.17577895e-03, 1.21600297e-03, 1.25976316e-03, 1.27551020e-03,\n",
       "        1.33413861e-03, 1.34374738e-03, 1.34374738e-03, 1.41093474e-03,\n",
       "        1.44621279e-03, 1.46972369e-03, 1.56770527e-03, 1.59010106e-03,\n",
       "        1.60333494e-03, 1.80286106e-03, 1.90644159e-03, 1.95963159e-03,\n",
       "        2.05481370e-03, 2.09960527e-03, 2.17425791e-03, 2.19161739e-03,\n",
       "        2.31652773e-03, 2.31826993e-03, 2.38883870e-03, 2.68192383e-03,\n",
       "        2.76653871e-03, 3.08715496e-03, 3.53337021e-03, 4.02155790e-03,\n",
       "        4.19265935e-03, 4.24707426e-03, 4.46826731e-03, 7.35454318e-03,\n",
       "        1.30298756e-02, 2.69811873e-02, 2.15035145e-01]),\n",
       " 'impurities': array([0.06480082, 0.06480082, 0.06486381, 0.06493506, 0.06505264,\n",
       "        0.06517022, 0.0652878 , 0.06546417, 0.06586099, 0.06609442,\n",
       "        0.06656473, 0.06703504, 0.06762293, 0.06876446, 0.06994024,\n",
       "        0.07073122, 0.07240202, 0.07287234, 0.07334265, 0.07384062,\n",
       "        0.07442851, 0.0750164 , 0.07560429, 0.07756392, 0.0788903 ,\n",
       "        0.08024801, 0.08165894, 0.08250551, 0.08338734, 0.08436716,\n",
       "        0.08930543, 0.09142183, 0.09463356, 0.09572893, 0.09911661,\n",
       "        0.10029239, 0.10146817, 0.10617128, 0.10852284, 0.1108744 ,\n",
       "        0.11205018, 0.11448218, 0.11700171, 0.11955273, 0.12755756,\n",
       "        0.12890131, 0.13024506, 0.13306692, 0.14463663, 0.14757607,\n",
       "        0.15071149, 0.15548179, 0.15868846, 0.16229418, 0.16610706,\n",
       "        0.17002633, 0.17619077, 0.17829037, 0.18481315, 0.18700476,\n",
       "        0.19163782, 0.19627436, 0.1986632 , 0.20134512, 0.2068782 ,\n",
       "        0.20996535, 0.21349872, 0.22154184, 0.2257345 , 0.22998157,\n",
       "        0.23444984, 0.24180438, 0.25483426, 0.28181545, 0.49685059])}"
      ]
     },
     "execution_count": 1024,
     "metadata": {},
     "output_type": "execute_result"
    }
   ],
   "source": [
    "path"
   ]
  },
  {
   "cell_type": "code",
   "execution_count": 1025,
   "id": "918ddad1",
   "metadata": {},
   "outputs": [],
   "source": [
    "alphas = path['ccp_alphas']"
   ]
  },
  {
   "cell_type": "code",
   "execution_count": 1026,
   "id": "d8d0b733",
   "metadata": {},
   "outputs": [
    {
     "data": {
      "text/plain": [
       "array([0.00000000e+00, 0.00000000e+00, 6.29881582e-05, 7.12593305e-05,\n",
       "       1.17577895e-04, 1.17577895e-04, 1.17577895e-04, 1.76366843e-04,\n",
       "       1.98412698e-04, 2.33426704e-04, 2.35155791e-04, 2.35155791e-04,\n",
       "       2.93944738e-04, 3.80510988e-04, 3.91926318e-04, 3.95489284e-04,\n",
       "       4.17700795e-04, 4.70311581e-04, 4.70311581e-04, 4.97976969e-04,\n",
       "       5.87889477e-04, 5.87889477e-04, 5.87889477e-04, 6.53210530e-04,\n",
       "       6.63188414e-04, 6.78854473e-04, 7.05467372e-04, 8.46560847e-04,\n",
       "       8.81834215e-04, 9.79815795e-04, 9.87654321e-04, 1.05820106e-03,\n",
       "       1.07057768e-03, 1.09537084e-03, 1.12922491e-03, 1.17577895e-03,\n",
       "       1.17577895e-03, 1.17577895e-03, 1.17577895e-03, 1.17577895e-03,\n",
       "       1.17577895e-03, 1.21600297e-03, 1.25976316e-03, 1.27551020e-03,\n",
       "       1.33413861e-03, 1.34374738e-03, 1.34374738e-03, 1.41093474e-03,\n",
       "       1.44621279e-03, 1.46972369e-03, 1.56770527e-03, 1.59010106e-03,\n",
       "       1.60333494e-03, 1.80286106e-03, 1.90644159e-03, 1.95963159e-03,\n",
       "       2.05481370e-03, 2.09960527e-03, 2.17425791e-03, 2.19161739e-03,\n",
       "       2.31652773e-03, 2.31826993e-03, 2.38883870e-03, 2.68192383e-03,\n",
       "       2.76653871e-03, 3.08715496e-03, 3.53337021e-03, 4.02155790e-03,\n",
       "       4.19265935e-03, 4.24707426e-03, 4.46826731e-03, 7.35454318e-03,\n",
       "       1.30298756e-02, 2.69811873e-02, 2.15035145e-01])"
      ]
     },
     "execution_count": 1026,
     "metadata": {},
     "output_type": "execute_result"
    }
   ],
   "source": [
    "alphas"
   ]
  },
  {
   "cell_type": "code",
   "execution_count": 1027,
   "id": "97f90fb9",
   "metadata": {},
   "outputs": [],
   "source": [
    "#training for different values of ccp_alphas \n",
    "acrcy_train, acrcy_test = [],[]\n",
    "for i in alphas:\n",
    "    clf = DecisionTreeClassifier(ccp_alpha=i)    \n",
    "    \n",
    "    clf.fit(X_train, y_train)\n",
    "    y_pred_train = clf.predict(X_train)\n",
    "    y_pred_test = clf.predict(X_test)\n",
    "    \n",
    "    acrcy_train.append(accuracy_score(y_train, y_pred_train))\n",
    "    acrcy_test.append(accuracy_score(y_test,y_pred_test))"
   ]
  },
  {
   "cell_type": "code",
   "execution_count": 1028,
   "id": "c3249b68",
   "metadata": {},
   "outputs": [
    {
     "data": {
      "image/png": "[encoded data removed]",
      "text/plain": [
       "<Figure size 1008x504 with 1 Axes>"
      ]
     },
     "metadata": {},
     "output_type": "display_data"
    }
   ],
   "source": [
    "# now we have scores\n",
    "# lets, plot\n",
    "\n",
    "sns.set()\n",
    "plt.figure(figsize = (14,7))\n",
    "sns.lineplot(y =acrcy_train, x = alphas, label = 'Train_Accuracy')\n",
    "sns.lineplot(y =acrcy_test, x = alphas, label = 'Test_Accuracy')\n",
    "plt.xticks(ticks=np.arange(0.00,0.05,0.01))\n",
    "plt.xlabel('alphas')\n",
    "plt.ylabel('accuracy')\n",
    "plt.axis([0,0.03,0.7,1.0])\n",
    "plt.show()"
   ]
  },
  {
   "cell_type": "code",
   "execution_count": 1029,
   "id": "b342b5ab",
   "metadata": {},
   "outputs": [],
   "source": [
    "#_________with ccp = 0.005\n",
    "clf = DecisionTreeClassifier(ccp_alpha=0.005, random_state = 14)"
   ]
  },
  {
   "cell_type": "code",
   "execution_count": 1030,
   "id": "3b166069",
   "metadata": {},
   "outputs": [
    {
     "data": {
      "text/plain": [
       "DecisionTreeClassifier(ccp_alpha=0.005, class_weight=None, criterion='gini',\n",
       "                       max_depth=None, max_features=None, max_leaf_nodes=None,\n",
       "                       min_impurity_decrease=0.0, min_impurity_split=None,\n",
       "                       min_samples_leaf=1, min_samples_split=2,\n",
       "                       min_weight_fraction_leaf=0.0, presort='deprecated',\n",
       "                       random_state=14, splitter='best')"
      ]
     },
     "execution_count": 1030,
     "metadata": {},
     "output_type": "execute_result"
    }
   ],
   "source": [
    "clf.fit(X_train,y_train)"
   ]
  },
  {
   "cell_type": "code",
   "execution_count": 1031,
   "id": "70e19fcf",
   "metadata": {},
   "outputs": [],
   "source": [
    "y_pred_train = clf.predict(X_train)"
   ]
  },
  {
   "cell_type": "code",
   "execution_count": 1032,
   "id": "b7478d7c",
   "metadata": {},
   "outputs": [],
   "source": [
    "y_pred_test = clf.predict(X_test)"
   ]
  },
  {
   "cell_type": "code",
   "execution_count": 1033,
   "id": "cc180605",
   "metadata": {},
   "outputs": [
    {
     "name": "stdout",
     "output_type": "stream",
     "text": [
      "0.83\n"
     ]
    }
   ],
   "source": [
    "from sklearn.metrics import accuracy_score\n",
    "print(round(accuracy_score(y_train,y_pred_train), 2))"
   ]
  },
  {
   "cell_type": "code",
   "execution_count": 1034,
   "id": "dcebd67e",
   "metadata": {},
   "outputs": [
    {
     "name": "stdout",
     "output_type": "stream",
     "text": [
      "0.83\n"
     ]
    }
   ],
   "source": [
    "print(round(accuracy_score(y_test,y_pred_test), 2))"
   ]
  },
  {
   "cell_type": "code",
   "execution_count": 1035,
   "id": "0cad1071",
   "metadata": {},
   "outputs": [
    {
     "data": {
      "text/plain": [
       "DecisionTreeClassifier(ccp_alpha=0.005, class_weight=None, criterion='gini',\n",
       "                       max_depth=None, max_features=None, max_leaf_nodes=None,\n",
       "                       min_impurity_decrease=0.0, min_impurity_split=None,\n",
       "                       min_samples_leaf=1, min_samples_split=2,\n",
       "                       min_weight_fraction_leaf=0.0, presort='deprecated',\n",
       "                       random_state=14, splitter='best')"
      ]
     },
     "execution_count": 1035,
     "metadata": {},
     "output_type": "execute_result"
    }
   ],
   "source": [
    "clf.fit(X,y)"
   ]
  },
  {
   "cell_type": "code",
   "execution_count": 1036,
   "id": "16553c5a",
   "metadata": {},
   "outputs": [],
   "source": [
    "### Confusion Matrix\n",
    "from sklearn.metrics import confusion_matrix"
   ]
  },
  {
   "cell_type": "code",
   "execution_count": 1037,
   "id": "5ad97f57",
   "metadata": {},
   "outputs": [
    {
     "data": {
      "image/png": "[encoded data removed]",
      "text/plain": [
       "<Figure size 432x288 with 2 Axes>"
      ]
     },
     "metadata": {},
     "output_type": "display_data"
    }
   ],
   "source": [
    "confusion_matrix = confusion_matrix(y_test, y_pred_test)\n",
    "sns.heatmap(confusion_matrix, annot = True)\n",
    "plt.show()"
   ]
  },
  {
   "cell_type": "code",
   "execution_count": 1038,
   "id": "46039cda",
   "metadata": {},
   "outputs": [],
   "source": [
    "### Classification Report\n",
    "from sklearn.metrics import classification_report"
   ]
  },
  {
   "cell_type": "code",
   "execution_count": 1039,
   "id": "82f50e5a",
   "metadata": {},
   "outputs": [
    {
     "name": "stdout",
     "output_type": "stream",
     "text": [
      "              precision    recall  f1-score   support\n",
      "\n",
      "           0       0.81      0.89      0.85       132\n",
      "           1       0.86      0.75      0.80       112\n",
      "\n",
      "    accuracy                           0.83       244\n",
      "   macro avg       0.83      0.82      0.82       244\n",
      "weighted avg       0.83      0.83      0.83       244\n",
      "\n"
     ]
    }
   ],
   "source": [
    "print(classification_report(y_test, y_pred_test))"
   ]
  },
  {
   "cell_type": "code",
   "execution_count": 1040,
   "id": "16fdef2c",
   "metadata": {},
   "outputs": [
    {
     "name": "stdout",
     "output_type": "stream",
     "text": [
      "0.8790584415584415\n"
     ]
    }
   ],
   "source": [
    "###########################  ROC AUC Curve \n",
    "\n",
    "from sklearn.metrics import roc_auc_score\n",
    "from sklearn.metrics import roc_curve\n",
    "from sklearn.metrics import roc_curve, auc, roc_auc_score\n",
    "predictedProbability = clf.predict_proba(X_test)[:, 1]\n",
    "fpr,tpr, thresholds = roc_curve(y_test, predictedProbability)\n",
    "dff = pd.DataFrame(dict(fpr = fpr,tpr = tpr))\n",
    "auc = auc(fpr,tpr)\n",
    "print(auc)\n"
   ]
  },
  {
   "cell_type": "code",
   "execution_count": 1041,
   "id": "82753e46",
   "metadata": {},
   "outputs": [
    {
     "data": {
      "image/png": "[encoded data removed]",
      "text/plain": [
       "<Figure size 432x288 with 1 Axes>"
      ]
     },
     "metadata": {},
     "output_type": "display_data"
    }
   ],
   "source": [
    "plt.figure()\n",
    "lw = 2\n",
    "plt.plot(fpr, tpr, color = 'darkorange',\n",
    "         lw =lw, label = 'ROC Curve (area = %0.2f)' %auc)\n",
    "plt.plot([0,1],[0,1], color='navy', lw = lw, linestyle = '--')\n",
    "plt.xlim([0.0, 1.0])\n",
    "plt.ylim([0.0, 1.1])\n",
    "plt.xlabel('1-Specificity(False Positive Rate)')\n",
    "plt.ylabel('Sensitivity(True Positive Rate)')\n",
    "plt.title(\"ROC - AUC for Decision Tree Model\")\n",
    "plt.legend(loc = \"lower right\")\n",
    "plt.show()\n"
   ]
  },
  {
   "cell_type": "code",
   "execution_count": 1042,
   "id": "25b10865",
   "metadata": {},
   "outputs": [],
   "source": [
    "#import the classifier\n",
    "from sklearn.ensemble import RandomForestClassifier\n",
    "#Create Classifier object \n",
    "#in our previous experiment, we found ccp_alphas = 0.005 has the best accuarcy \n",
    "clf_rf = RandomForestClassifier(n_estimators =100, ccp_alpha= 0.005, random_state = 14)\n"
   ]
  },
  {
   "cell_type": "code",
   "execution_count": 1043,
   "id": "eb6468d9",
   "metadata": {},
   "outputs": [],
   "source": [
    "#fit the classifier with x and y  data = train\n",
    "mod_rf = clf_rf.fit(X_train, y_train)\n"
   ]
  },
  {
   "cell_type": "code",
   "execution_count": 1044,
   "id": "b0f12565",
   "metadata": {},
   "outputs": [],
   "source": [
    "#Train Prediction \n",
    "y_train_pred = mod_rf.predict(X_train)"
   ]
  },
  {
   "cell_type": "code",
   "execution_count": 1045,
   "id": "60209d7f",
   "metadata": {},
   "outputs": [],
   "source": [
    "#test Prediction \n",
    "y_test_pred = mod_rf.predict(X_test)"
   ]
  },
  {
   "cell_type": "code",
   "execution_count": 1046,
   "id": "abf19ae2",
   "metadata": {},
   "outputs": [
    {
     "name": "stdout",
     "output_type": "stream",
     "text": [
      "0.86\n"
     ]
    }
   ],
   "source": [
    "from sklearn.metrics import accuracy_score\n",
    "\n",
    "print(round(accuracy_score(y_train,y_train_pred), 2))\n"
   ]
  },
  {
   "cell_type": "code",
   "execution_count": 1047,
   "id": "fd3386e1",
   "metadata": {},
   "outputs": [
    {
     "name": "stdout",
     "output_type": "stream",
     "text": [
      "0.85\n"
     ]
    }
   ],
   "source": [
    "print(round(accuracy_score(y_test,y_test_pred), 2))"
   ]
  },
  {
   "cell_type": "code",
   "execution_count": 1048,
   "id": "a146eb3a",
   "metadata": {},
   "outputs": [],
   "source": [
    "#_____________________________ Extract Feature Importance \n",
    "fi = pd.DataFrame({'feature': list(X_train.columns),\n",
    "                   'importance': mod_rf.feature_importances_}).\\\n",
    "    sort_values('importance', ascending = False)"
   ]
  },
  {
   "cell_type": "code",
   "execution_count": 1049,
   "id": "6519b406",
   "metadata": {},
   "outputs": [
    {
     "data": {
      "text/html": [
       "<div>\n",
       "<style scoped>\n",
       "    .dataframe tbody tr th:only-of-type {\n",
       "        vertical-align: middle;\n",
       "    }\n",
       "\n",
       "    .dataframe tbody tr th {\n",
       "        vertical-align: top;\n",
       "    }\n",
       "\n",
       "    .dataframe thead th {\n",
       "        text-align: right;\n",
       "    }\n",
       "</style>\n",
       "<table border=\"1\" class=\"dataframe\">\n",
       "  <thead>\n",
       "    <tr style=\"text-align: right;\">\n",
       "      <th></th>\n",
       "      <th>feature</th>\n",
       "      <th>importance</th>\n",
       "    </tr>\n",
       "  </thead>\n",
       "  <tbody>\n",
       "    <tr>\n",
       "      <th>0</th>\n",
       "      <td>BI_RADS</td>\n",
       "      <td>0.416719</td>\n",
       "    </tr>\n",
       "    <tr>\n",
       "      <th>2</th>\n",
       "      <td>Shape</td>\n",
       "      <td>0.214833</td>\n",
       "    </tr>\n",
       "    <tr>\n",
       "      <th>3</th>\n",
       "      <td>Margin</td>\n",
       "      <td>0.214180</td>\n",
       "    </tr>\n",
       "    <tr>\n",
       "      <th>1</th>\n",
       "      <td>Age</td>\n",
       "      <td>0.139365</td>\n",
       "    </tr>\n",
       "    <tr>\n",
       "      <th>4</th>\n",
       "      <td>Mass_Density</td>\n",
       "      <td>0.014902</td>\n",
       "    </tr>\n",
       "  </tbody>\n",
       "</table>\n",
       "</div>"
      ],
      "text/plain": [
       "        feature  importance\n",
       "0       BI_RADS    0.416719\n",
       "2         Shape    0.214833\n",
       "3        Margin    0.214180\n",
       "1           Age    0.139365\n",
       "4  Mass_Density    0.014902"
      ]
     },
     "execution_count": 1049,
     "metadata": {},
     "output_type": "execute_result"
    }
   ],
   "source": [
    "fi.head()"
   ]
  },
  {
   "cell_type": "code",
   "execution_count": 1050,
   "id": "8c65e953",
   "metadata": {},
   "outputs": [],
   "source": [
    "#________________________________Grid Search \n",
    "from sklearn.model_selection import GridSearchCV"
   ]
  },
  {
   "cell_type": "code",
   "execution_count": 1051,
   "id": "c7e58a06",
   "metadata": {},
   "outputs": [],
   "source": [
    "param_grid = {'bootstrap': [True], 'ccp_alpha' : [0.005],\n",
    "              'max_features': ['auto', 'log2'],\n",
    "              'n_estimators': [25, 50, 100, 150, 200]}"
   ]
  },
  {
   "cell_type": "code",
   "execution_count": 1052,
   "id": "c6bf4be8",
   "metadata": {},
   "outputs": [],
   "source": [
    "clf_rf = RandomForestClassifier(random_state = 14)"
   ]
  },
  {
   "cell_type": "code",
   "execution_count": 1053,
   "id": "be2dca6a",
   "metadata": {},
   "outputs": [],
   "source": [
    "g_search = GridSearchCV(estimator = clf_rf, param_grid = param_grid, cv =5)"
   ]
  },
  {
   "cell_type": "code",
   "execution_count": 1054,
   "id": "7159f551",
   "metadata": {},
   "outputs": [],
   "source": [
    "gmod = g_search.fit(X_train, y_train)"
   ]
  },
  {
   "cell_type": "code",
   "execution_count": 1055,
   "id": "74e6b135",
   "metadata": {},
   "outputs": [
    {
     "name": "stdout",
     "output_type": "stream",
     "text": [
      "{'bootstrap': True, 'ccp_alpha': 0.005, 'max_features': 'auto', 'n_estimators': 25}\n"
     ]
    }
   ],
   "source": [
    "#Best Parameters\n",
    "print(gmod.best_params_)\n"
   ]
  },
  {
   "cell_type": "code",
   "execution_count": 1056,
   "id": "31d524ff",
   "metadata": {},
   "outputs": [],
   "source": [
    "param_grid1= {'bootstrap': [True], 'ccp_alpha': [0.005], 'max_features': ['auto'], 'n_estimators': [25]}\n"
   ]
  },
  {
   "cell_type": "code",
   "execution_count": 1057,
   "id": "55d0a091",
   "metadata": {},
   "outputs": [],
   "source": [
    "clf_rf_Best = RandomForestClassifier(random_state = 14)"
   ]
  },
  {
   "cell_type": "code",
   "execution_count": 1058,
   "id": "f96598b8",
   "metadata": {},
   "outputs": [],
   "source": [
    "g_search_Best = GridSearchCV(estimator = clf_rf_Best, param_grid = param_grid1, cv = 5)"
   ]
  },
  {
   "cell_type": "code",
   "execution_count": 1059,
   "id": "ce11bee8",
   "metadata": {},
   "outputs": [
    {
     "data": {
      "text/plain": [
       "GridSearchCV(cv=5, error_score=nan,\n",
       "             estimator=RandomForestClassifier(bootstrap=True, ccp_alpha=0.0,\n",
       "                                              class_weight=None,\n",
       "                                              criterion='gini', max_depth=None,\n",
       "                                              max_features='auto',\n",
       "                                              max_leaf_nodes=None,\n",
       "                                              max_samples=None,\n",
       "                                              min_impurity_decrease=0.0,\n",
       "                                              min_impurity_split=None,\n",
       "                                              min_samples_leaf=1,\n",
       "                                              min_samples_split=2,\n",
       "                                              min_weight_fraction_leaf=0.0,\n",
       "                                              n_estimators=100, n_jobs=None,\n",
       "                                              oob_score=False, random_state=14,\n",
       "                                              verbose=0, warm_start=False),\n",
       "             iid='deprecated', n_jobs=None,\n",
       "             param_grid={'bootstrap': [True], 'ccp_alpha': [0.005],\n",
       "                         'max_features': ['auto'], 'n_estimators': [25]},\n",
       "             pre_dispatch='2*n_jobs', refit=True, return_train_score=False,\n",
       "             scoring=None, verbose=0)"
      ]
     },
     "execution_count": 1059,
     "metadata": {},
     "output_type": "execute_result"
    }
   ],
   "source": [
    "g_search_Best.fit(X_train, y_train)"
   ]
  },
  {
   "cell_type": "code",
   "execution_count": 1060,
   "id": "63d1d592",
   "metadata": {},
   "outputs": [],
   "source": [
    "y_pred_GS = g_search_Best.predict(X_test)"
   ]
  },
  {
   "cell_type": "code",
   "execution_count": 1061,
   "id": "a395b0b5",
   "metadata": {},
   "outputs": [],
   "source": [
    "### Confusion Matrix\n",
    "from sklearn.metrics import confusion_matrix"
   ]
  },
  {
   "cell_type": "code",
   "execution_count": 1062,
   "id": "1d8ece8e",
   "metadata": {},
   "outputs": [
    {
     "data": {
      "image/png": "[encoded data removed]",
      "text/plain": [
       "<Figure size 432x288 with 2 Axes>"
      ]
     },
     "metadata": {},
     "output_type": "display_data"
    }
   ],
   "source": [
    "confusion_matrix = confusion_matrix(y_test, y_pred_GS)\n",
    "sns.heatmap(confusion_matrix, annot = True)\n",
    "plt.show()"
   ]
  },
  {
   "cell_type": "code",
   "execution_count": 1063,
   "id": "6f694a85",
   "metadata": {},
   "outputs": [],
   "source": [
    "### Classification Report\n",
    "from sklearn.metrics import classification_report"
   ]
  },
  {
   "cell_type": "code",
   "execution_count": 1064,
   "id": "92071575",
   "metadata": {},
   "outputs": [
    {
     "name": "stdout",
     "output_type": "stream",
     "text": [
      "              precision    recall  f1-score   support\n",
      "\n",
      "           0       0.85      0.88      0.87       132\n",
      "           1       0.85      0.82      0.84       112\n",
      "\n",
      "    accuracy                           0.85       244\n",
      "   macro avg       0.85      0.85      0.85       244\n",
      "weighted avg       0.85      0.85      0.85       244\n",
      "\n"
     ]
    }
   ],
   "source": [
    "print(classification_report(y_test, y_pred_GS))"
   ]
  },
  {
   "cell_type": "code",
   "execution_count": 1065,
   "id": "b37fe128",
   "metadata": {},
   "outputs": [],
   "source": [
    "###########################  ROC AUC Curve \n",
    "\n",
    "from sklearn.metrics import roc_auc_score\n",
    "from sklearn.metrics import roc_curve\n",
    "from sklearn.metrics import roc_curve, auc, roc_auc_score"
   ]
  },
  {
   "cell_type": "code",
   "execution_count": 1066,
   "id": "f2821d9f",
   "metadata": {},
   "outputs": [],
   "source": [
    "predictedProbability_GS = g_search_Best.predict_proba(X_test)[:, 1]\n",
    "fpr,tpr, thresholds = roc_curve(y_test, predictedProbability_GS)"
   ]
  },
  {
   "cell_type": "code",
   "execution_count": 1067,
   "id": "baeafe91",
   "metadata": {},
   "outputs": [
    {
     "data": {
      "text/plain": [
       "0.8865665584415584"
      ]
     },
     "execution_count": 1067,
     "metadata": {},
     "output_type": "execute_result"
    }
   ],
   "source": [
    "dff_GS = pd.DataFrame(dict(fpr = fpr,tpr = tpr))\n",
    "auc_GS = auc(fpr,tpr)\n",
    "auc_GS"
   ]
  },
  {
   "cell_type": "code",
   "execution_count": 1068,
   "id": "a4fdb682",
   "metadata": {},
   "outputs": [
    {
     "data": {
      "image/png": "[encoded data removed]",
      "text/plain": [
       "<Figure size 432x288 with 1 Axes>"
      ]
     },
     "metadata": {},
     "output_type": "display_data"
    }
   ],
   "source": [
    "plt.figure()\n",
    "lw = 2\n",
    "plt.plot(fpr, tpr, color = 'brown',\n",
    "         lw =lw, label = 'ROC Curve (area = %0.2f)' %auc_GS)\n",
    "plt.plot([0,1],[0,1], color='navy', lw = lw, linestyle = '--')\n",
    "plt.xlim([0.0, 1.0])\n",
    "plt.ylim([0.0, 1.1])\n",
    "plt.xlabel('1-Specificity(False Positive Rate)')\n",
    "plt.ylabel('Sensitivity(True Positive Rate)')\n",
    "plt.title(\"ROC- AUC for Gird Search Random Forest\")\n",
    "plt.legend(loc = \"lower right\")\n",
    "plt.show()"
   ]
  },
  {
   "cell_type": "markdown",
   "id": "c6df65b1",
   "metadata": {},
   "source": [
    "With the best ccp_alphas from the decision trees, we are able to randomforest classifier with an AUC = 0.89. Now we will train it on the entire train data and predict on the test data given to us"
   ]
  },
  {
   "cell_type": "code",
   "execution_count": 1075,
   "id": "cbf1be0f",
   "metadata": {},
   "outputs": [
    {
     "data": {
      "text/plain": [
       "GridSearchCV(cv=5, error_score=nan,\n",
       "             estimator=RandomForestClassifier(bootstrap=True, ccp_alpha=0.0,\n",
       "                                              class_weight=None,\n",
       "                                              criterion='gini', max_depth=None,\n",
       "                                              max_features='auto',\n",
       "                                              max_leaf_nodes=None,\n",
       "                                              max_samples=None,\n",
       "                                              min_impurity_decrease=0.0,\n",
       "                                              min_impurity_split=None,\n",
       "                                              min_samples_leaf=1,\n",
       "                                              min_samples_split=2,\n",
       "                                              min_weight_fraction_leaf=0.0,\n",
       "                                              n_estimators=100, n_jobs=None,\n",
       "                                              oob_score=False, random_state=14,\n",
       "                                              verbose=0, warm_start=False),\n",
       "             iid='deprecated', n_jobs=None,\n",
       "             param_grid={'bootstrap': [True], 'ccp_alpha': [0.005],\n",
       "                         'max_features': ['auto'], 'n_estimators': [25]},\n",
       "             pre_dispatch='2*n_jobs', refit=True, return_train_score=False,\n",
       "             scoring=None, verbose=0)"
      ]
     },
     "execution_count": 1075,
     "metadata": {},
     "output_type": "execute_result"
    }
   ],
   "source": [
    "g_search_Best.fit(X, y)"
   ]
  },
  {
   "cell_type": "code",
   "execution_count": 1076,
   "id": "9b528dc8",
   "metadata": {},
   "outputs": [],
   "source": [
    "y_test = test_data['Severity']\n",
    "X_test = test_data.drop(['Severity'],axis =1) #spliting the dependant and independant variables"
   ]
  },
  {
   "cell_type": "code",
   "execution_count": 1077,
   "id": "d6b5004e",
   "metadata": {},
   "outputs": [],
   "source": [
    "y_test_pred = g_search_Best.predict(X_test)"
   ]
  },
  {
   "cell_type": "code",
   "execution_count": 1079,
   "id": "d1f9958b",
   "metadata": {},
   "outputs": [
    {
     "name": "stdout",
     "output_type": "stream",
     "text": [
      "              precision    recall  f1-score   support\n",
      "\n",
      "           0       0.75      0.94      0.83        78\n",
      "           1       0.91      0.67      0.77        72\n",
      "\n",
      "    accuracy                           0.81       150\n",
      "   macro avg       0.83      0.80      0.80       150\n",
      "weighted avg       0.83      0.81      0.80       150\n",
      "\n"
     ]
    }
   ],
   "source": [
    "print(classification_report(y_test, y_test_pred))"
   ]
  },
  {
   "cell_type": "code",
   "execution_count": 1081,
   "id": "74bff0cb",
   "metadata": {},
   "outputs": [
    {
     "data": {
      "image/png": "[encoded data removed]",
      "text/plain": [
       "<Figure size 432x288 with 2 Axes>"
      ]
     },
     "metadata": {},
     "output_type": "display_data"
    }
   ],
   "source": [
    "### Confusion Matrix\n",
    "from sklearn.metrics import confusion_matrix\n",
    "confusion_matrix = confusion_matrix(y_test, y_test_pred)\n",
    "sns.heatmap(confusion_matrix, annot = True)\n",
    "plt.show()"
   ]
  },
  {
   "cell_type": "markdown",
   "id": "d8d34466",
   "metadata": {},
   "source": [
    "For Unseen test data the model is able to  predict with accuracy 81% it is misclassifying benign as malignat."
   ]
  },
  {
   "cell_type": "markdown",
   "id": "1ea5d1a9",
   "metadata": {},
   "source": [
    "It is good that true negative is less so that we can refer for further tests to calssify as malignant"
   ]
  },
  {
   "cell_type": "markdown",
   "id": "386d1fc3",
   "metadata": {},
   "source": [
    "Using Pycaret"
   ]
  },
  {
   "cell_type": "code",
   "execution_count": 388,
   "id": "3c60a76d",
   "metadata": {},
   "outputs": [
    {
     "data": {
      "text/plain": [
       "Index(['Index', 'BI_RADS', 'Age', 'Shape', 'Margin', 'Mass_Density',\n",
       "       'Severity'],\n",
       "      dtype='object')"
      ]
     },
     "execution_count": 388,
     "metadata": {},
     "output_type": "execute_result"
    }
   ],
   "source": [
    "data.columns"
   ]
  },
  {
   "cell_type": "code",
   "execution_count": 389,
   "id": "9ed9bf99",
   "metadata": {},
   "outputs": [
    {
     "data": {
      "text/html": [
       "<style  type=\"text/css\" >\n",
       "#T_3ba05_row44_col1{\n",
       "            background-color:  lightgreen;\n",
       "        }</style><table id=\"T_3ba05_\" ><thead>    <tr>        <th class=\"blank level0\" ></th>        <th class=\"col_heading level0 col0\" >Description</th>        <th class=\"col_heading level0 col1\" >Value</th>    </tr></thead><tbody>\n",
       "                <tr>\n",
       "                        <th id=\"T_3ba05_level0_row0\" class=\"row_heading level0 row0\" >0</th>\n",
       "                        <td id=\"T_3ba05_row0_col0\" class=\"data row0 col0\" >session_id</td>\n",
       "                        <td id=\"T_3ba05_row0_col1\" class=\"data row0 col1\" >7015</td>\n",
       "            </tr>\n",
       "            <tr>\n",
       "                        <th id=\"T_3ba05_level0_row1\" class=\"row_heading level0 row1\" >1</th>\n",
       "                        <td id=\"T_3ba05_row1_col0\" class=\"data row1 col0\" >Target</td>\n",
       "                        <td id=\"T_3ba05_row1_col1\" class=\"data row1 col1\" >Severity</td>\n",
       "            </tr>\n",
       "            <tr>\n",
       "                        <th id=\"T_3ba05_level0_row2\" class=\"row_heading level0 row2\" >2</th>\n",
       "                        <td id=\"T_3ba05_row2_col0\" class=\"data row2 col0\" >Target Type</td>\n",
       "                        <td id=\"T_3ba05_row2_col1\" class=\"data row2 col1\" >Binary</td>\n",
       "            </tr>\n",
       "            <tr>\n",
       "                        <th id=\"T_3ba05_level0_row3\" class=\"row_heading level0 row3\" >3</th>\n",
       "                        <td id=\"T_3ba05_row3_col0\" class=\"data row3 col0\" >Label Encoded</td>\n",
       "                        <td id=\"T_3ba05_row3_col1\" class=\"data row3 col1\" >None</td>\n",
       "            </tr>\n",
       "            <tr>\n",
       "                        <th id=\"T_3ba05_level0_row4\" class=\"row_heading level0 row4\" >4</th>\n",
       "                        <td id=\"T_3ba05_row4_col0\" class=\"data row4 col0\" >Original Data</td>\n",
       "                        <td id=\"T_3ba05_row4_col1\" class=\"data row4 col1\" >(811, 7)</td>\n",
       "            </tr>\n",
       "            <tr>\n",
       "                        <th id=\"T_3ba05_level0_row5\" class=\"row_heading level0 row5\" >5</th>\n",
       "                        <td id=\"T_3ba05_row5_col0\" class=\"data row5 col0\" >Missing Values</td>\n",
       "                        <td id=\"T_3ba05_row5_col1\" class=\"data row5 col1\" >False</td>\n",
       "            </tr>\n",
       "            <tr>\n",
       "                        <th id=\"T_3ba05_level0_row6\" class=\"row_heading level0 row6\" >6</th>\n",
       "                        <td id=\"T_3ba05_row6_col0\" class=\"data row6 col0\" >Numeric Features</td>\n",
       "                        <td id=\"T_3ba05_row6_col1\" class=\"data row6 col1\" >2</td>\n",
       "            </tr>\n",
       "            <tr>\n",
       "                        <th id=\"T_3ba05_level0_row7\" class=\"row_heading level0 row7\" >7</th>\n",
       "                        <td id=\"T_3ba05_row7_col0\" class=\"data row7 col0\" >Categorical Features</td>\n",
       "                        <td id=\"T_3ba05_row7_col1\" class=\"data row7 col1\" >3</td>\n",
       "            </tr>\n",
       "            <tr>\n",
       "                        <th id=\"T_3ba05_level0_row8\" class=\"row_heading level0 row8\" >8</th>\n",
       "                        <td id=\"T_3ba05_row8_col0\" class=\"data row8 col0\" >Ordinal Features</td>\n",
       "                        <td id=\"T_3ba05_row8_col1\" class=\"data row8 col1\" >False</td>\n",
       "            </tr>\n",
       "            <tr>\n",
       "                        <th id=\"T_3ba05_level0_row9\" class=\"row_heading level0 row9\" >9</th>\n",
       "                        <td id=\"T_3ba05_row9_col0\" class=\"data row9 col0\" >High Cardinality Features</td>\n",
       "                        <td id=\"T_3ba05_row9_col1\" class=\"data row9 col1\" >False</td>\n",
       "            </tr>\n",
       "            <tr>\n",
       "                        <th id=\"T_3ba05_level0_row10\" class=\"row_heading level0 row10\" >10</th>\n",
       "                        <td id=\"T_3ba05_row10_col0\" class=\"data row10 col0\" >High Cardinality Method</td>\n",
       "                        <td id=\"T_3ba05_row10_col1\" class=\"data row10 col1\" >None</td>\n",
       "            </tr>\n",
       "            <tr>\n",
       "                        <th id=\"T_3ba05_level0_row11\" class=\"row_heading level0 row11\" >11</th>\n",
       "                        <td id=\"T_3ba05_row11_col0\" class=\"data row11 col0\" >Transformed Train Set</td>\n",
       "                        <td id=\"T_3ba05_row11_col1\" class=\"data row11 col1\" >(567, 15)</td>\n",
       "            </tr>\n",
       "            <tr>\n",
       "                        <th id=\"T_3ba05_level0_row12\" class=\"row_heading level0 row12\" >12</th>\n",
       "                        <td id=\"T_3ba05_row12_col0\" class=\"data row12 col0\" >Transformed Test Set</td>\n",
       "                        <td id=\"T_3ba05_row12_col1\" class=\"data row12 col1\" >(244, 15)</td>\n",
       "            </tr>\n",
       "            <tr>\n",
       "                        <th id=\"T_3ba05_level0_row13\" class=\"row_heading level0 row13\" >13</th>\n",
       "                        <td id=\"T_3ba05_row13_col0\" class=\"data row13 col0\" >Shuffle Train-Test</td>\n",
       "                        <td id=\"T_3ba05_row13_col1\" class=\"data row13 col1\" >True</td>\n",
       "            </tr>\n",
       "            <tr>\n",
       "                        <th id=\"T_3ba05_level0_row14\" class=\"row_heading level0 row14\" >14</th>\n",
       "                        <td id=\"T_3ba05_row14_col0\" class=\"data row14 col0\" >Stratify Train-Test</td>\n",
       "                        <td id=\"T_3ba05_row14_col1\" class=\"data row14 col1\" >False</td>\n",
       "            </tr>\n",
       "            <tr>\n",
       "                        <th id=\"T_3ba05_level0_row15\" class=\"row_heading level0 row15\" >15</th>\n",
       "                        <td id=\"T_3ba05_row15_col0\" class=\"data row15 col0\" >Fold Generator</td>\n",
       "                        <td id=\"T_3ba05_row15_col1\" class=\"data row15 col1\" >StratifiedKFold</td>\n",
       "            </tr>\n",
       "            <tr>\n",
       "                        <th id=\"T_3ba05_level0_row16\" class=\"row_heading level0 row16\" >16</th>\n",
       "                        <td id=\"T_3ba05_row16_col0\" class=\"data row16 col0\" >Fold Number</td>\n",
       "                        <td id=\"T_3ba05_row16_col1\" class=\"data row16 col1\" >10</td>\n",
       "            </tr>\n",
       "            <tr>\n",
       "                        <th id=\"T_3ba05_level0_row17\" class=\"row_heading level0 row17\" >17</th>\n",
       "                        <td id=\"T_3ba05_row17_col0\" class=\"data row17 col0\" >CPU Jobs</td>\n",
       "                        <td id=\"T_3ba05_row17_col1\" class=\"data row17 col1\" >-1</td>\n",
       "            </tr>\n",
       "            <tr>\n",
       "                        <th id=\"T_3ba05_level0_row18\" class=\"row_heading level0 row18\" >18</th>\n",
       "                        <td id=\"T_3ba05_row18_col0\" class=\"data row18 col0\" >Use GPU</td>\n",
       "                        <td id=\"T_3ba05_row18_col1\" class=\"data row18 col1\" >False</td>\n",
       "            </tr>\n",
       "            <tr>\n",
       "                        <th id=\"T_3ba05_level0_row19\" class=\"row_heading level0 row19\" >19</th>\n",
       "                        <td id=\"T_3ba05_row19_col0\" class=\"data row19 col0\" >Log Experiment</td>\n",
       "                        <td id=\"T_3ba05_row19_col1\" class=\"data row19 col1\" >False</td>\n",
       "            </tr>\n",
       "            <tr>\n",
       "                        <th id=\"T_3ba05_level0_row20\" class=\"row_heading level0 row20\" >20</th>\n",
       "                        <td id=\"T_3ba05_row20_col0\" class=\"data row20 col0\" >Experiment Name</td>\n",
       "                        <td id=\"T_3ba05_row20_col1\" class=\"data row20 col1\" >clf-default-name</td>\n",
       "            </tr>\n",
       "            <tr>\n",
       "                        <th id=\"T_3ba05_level0_row21\" class=\"row_heading level0 row21\" >21</th>\n",
       "                        <td id=\"T_3ba05_row21_col0\" class=\"data row21 col0\" >USI</td>\n",
       "                        <td id=\"T_3ba05_row21_col1\" class=\"data row21 col1\" >c587</td>\n",
       "            </tr>\n",
       "            <tr>\n",
       "                        <th id=\"T_3ba05_level0_row22\" class=\"row_heading level0 row22\" >22</th>\n",
       "                        <td id=\"T_3ba05_row22_col0\" class=\"data row22 col0\" >Imputation Type</td>\n",
       "                        <td id=\"T_3ba05_row22_col1\" class=\"data row22 col1\" >simple</td>\n",
       "            </tr>\n",
       "            <tr>\n",
       "                        <th id=\"T_3ba05_level0_row23\" class=\"row_heading level0 row23\" >23</th>\n",
       "                        <td id=\"T_3ba05_row23_col0\" class=\"data row23 col0\" >Iterative Imputation Iteration</td>\n",
       "                        <td id=\"T_3ba05_row23_col1\" class=\"data row23 col1\" >None</td>\n",
       "            </tr>\n",
       "            <tr>\n",
       "                        <th id=\"T_3ba05_level0_row24\" class=\"row_heading level0 row24\" >24</th>\n",
       "                        <td id=\"T_3ba05_row24_col0\" class=\"data row24 col0\" >Numeric Imputer</td>\n",
       "                        <td id=\"T_3ba05_row24_col1\" class=\"data row24 col1\" >mean</td>\n",
       "            </tr>\n",
       "            <tr>\n",
       "                        <th id=\"T_3ba05_level0_row25\" class=\"row_heading level0 row25\" >25</th>\n",
       "                        <td id=\"T_3ba05_row25_col0\" class=\"data row25 col0\" >Iterative Imputation Numeric Model</td>\n",
       "                        <td id=\"T_3ba05_row25_col1\" class=\"data row25 col1\" >None</td>\n",
       "            </tr>\n",
       "            <tr>\n",
       "                        <th id=\"T_3ba05_level0_row26\" class=\"row_heading level0 row26\" >26</th>\n",
       "                        <td id=\"T_3ba05_row26_col0\" class=\"data row26 col0\" >Categorical Imputer</td>\n",
       "                        <td id=\"T_3ba05_row26_col1\" class=\"data row26 col1\" >constant</td>\n",
       "            </tr>\n",
       "            <tr>\n",
       "                        <th id=\"T_3ba05_level0_row27\" class=\"row_heading level0 row27\" >27</th>\n",
       "                        <td id=\"T_3ba05_row27_col0\" class=\"data row27 col0\" >Iterative Imputation Categorical Model</td>\n",
       "                        <td id=\"T_3ba05_row27_col1\" class=\"data row27 col1\" >None</td>\n",
       "            </tr>\n",
       "            <tr>\n",
       "                        <th id=\"T_3ba05_level0_row28\" class=\"row_heading level0 row28\" >28</th>\n",
       "                        <td id=\"T_3ba05_row28_col0\" class=\"data row28 col0\" >Unknown Categoricals Handling</td>\n",
       "                        <td id=\"T_3ba05_row28_col1\" class=\"data row28 col1\" >least_frequent</td>\n",
       "            </tr>\n",
       "            <tr>\n",
       "                        <th id=\"T_3ba05_level0_row29\" class=\"row_heading level0 row29\" >29</th>\n",
       "                        <td id=\"T_3ba05_row29_col0\" class=\"data row29 col0\" >Normalize</td>\n",
       "                        <td id=\"T_3ba05_row29_col1\" class=\"data row29 col1\" >False</td>\n",
       "            </tr>\n",
       "            <tr>\n",
       "                        <th id=\"T_3ba05_level0_row30\" class=\"row_heading level0 row30\" >30</th>\n",
       "                        <td id=\"T_3ba05_row30_col0\" class=\"data row30 col0\" >Normalize Method</td>\n",
       "                        <td id=\"T_3ba05_row30_col1\" class=\"data row30 col1\" >None</td>\n",
       "            </tr>\n",
       "            <tr>\n",
       "                        <th id=\"T_3ba05_level0_row31\" class=\"row_heading level0 row31\" >31</th>\n",
       "                        <td id=\"T_3ba05_row31_col0\" class=\"data row31 col0\" >Transformation</td>\n",
       "                        <td id=\"T_3ba05_row31_col1\" class=\"data row31 col1\" >False</td>\n",
       "            </tr>\n",
       "            <tr>\n",
       "                        <th id=\"T_3ba05_level0_row32\" class=\"row_heading level0 row32\" >32</th>\n",
       "                        <td id=\"T_3ba05_row32_col0\" class=\"data row32 col0\" >Transformation Method</td>\n",
       "                        <td id=\"T_3ba05_row32_col1\" class=\"data row32 col1\" >None</td>\n",
       "            </tr>\n",
       "            <tr>\n",
       "                        <th id=\"T_3ba05_level0_row33\" class=\"row_heading level0 row33\" >33</th>\n",
       "                        <td id=\"T_3ba05_row33_col0\" class=\"data row33 col0\" >PCA</td>\n",
       "                        <td id=\"T_3ba05_row33_col1\" class=\"data row33 col1\" >False</td>\n",
       "            </tr>\n",
       "            <tr>\n",
       "                        <th id=\"T_3ba05_level0_row34\" class=\"row_heading level0 row34\" >34</th>\n",
       "                        <td id=\"T_3ba05_row34_col0\" class=\"data row34 col0\" >PCA Method</td>\n",
       "                        <td id=\"T_3ba05_row34_col1\" class=\"data row34 col1\" >None</td>\n",
       "            </tr>\n",
       "            <tr>\n",
       "                        <th id=\"T_3ba05_level0_row35\" class=\"row_heading level0 row35\" >35</th>\n",
       "                        <td id=\"T_3ba05_row35_col0\" class=\"data row35 col0\" >PCA Components</td>\n",
       "                        <td id=\"T_3ba05_row35_col1\" class=\"data row35 col1\" >None</td>\n",
       "            </tr>\n",
       "            <tr>\n",
       "                        <th id=\"T_3ba05_level0_row36\" class=\"row_heading level0 row36\" >36</th>\n",
       "                        <td id=\"T_3ba05_row36_col0\" class=\"data row36 col0\" >Ignore Low Variance</td>\n",
       "                        <td id=\"T_3ba05_row36_col1\" class=\"data row36 col1\" >False</td>\n",
       "            </tr>\n",
       "            <tr>\n",
       "                        <th id=\"T_3ba05_level0_row37\" class=\"row_heading level0 row37\" >37</th>\n",
       "                        <td id=\"T_3ba05_row37_col0\" class=\"data row37 col0\" >Combine Rare Levels</td>\n",
       "                        <td id=\"T_3ba05_row37_col1\" class=\"data row37 col1\" >False</td>\n",
       "            </tr>\n",
       "            <tr>\n",
       "                        <th id=\"T_3ba05_level0_row38\" class=\"row_heading level0 row38\" >38</th>\n",
       "                        <td id=\"T_3ba05_row38_col0\" class=\"data row38 col0\" >Rare Level Threshold</td>\n",
       "                        <td id=\"T_3ba05_row38_col1\" class=\"data row38 col1\" >None</td>\n",
       "            </tr>\n",
       "            <tr>\n",
       "                        <th id=\"T_3ba05_level0_row39\" class=\"row_heading level0 row39\" >39</th>\n",
       "                        <td id=\"T_3ba05_row39_col0\" class=\"data row39 col0\" >Numeric Binning</td>\n",
       "                        <td id=\"T_3ba05_row39_col1\" class=\"data row39 col1\" >False</td>\n",
       "            </tr>\n",
       "            <tr>\n",
       "                        <th id=\"T_3ba05_level0_row40\" class=\"row_heading level0 row40\" >40</th>\n",
       "                        <td id=\"T_3ba05_row40_col0\" class=\"data row40 col0\" >Remove Outliers</td>\n",
       "                        <td id=\"T_3ba05_row40_col1\" class=\"data row40 col1\" >False</td>\n",
       "            </tr>\n",
       "            <tr>\n",
       "                        <th id=\"T_3ba05_level0_row41\" class=\"row_heading level0 row41\" >41</th>\n",
       "                        <td id=\"T_3ba05_row41_col0\" class=\"data row41 col0\" >Outliers Threshold</td>\n",
       "                        <td id=\"T_3ba05_row41_col1\" class=\"data row41 col1\" >None</td>\n",
       "            </tr>\n",
       "            <tr>\n",
       "                        <th id=\"T_3ba05_level0_row42\" class=\"row_heading level0 row42\" >42</th>\n",
       "                        <td id=\"T_3ba05_row42_col0\" class=\"data row42 col0\" >Remove Multicollinearity</td>\n",
       "                        <td id=\"T_3ba05_row42_col1\" class=\"data row42 col1\" >False</td>\n",
       "            </tr>\n",
       "            <tr>\n",
       "                        <th id=\"T_3ba05_level0_row43\" class=\"row_heading level0 row43\" >43</th>\n",
       "                        <td id=\"T_3ba05_row43_col0\" class=\"data row43 col0\" >Multicollinearity Threshold</td>\n",
       "                        <td id=\"T_3ba05_row43_col1\" class=\"data row43 col1\" >None</td>\n",
       "            </tr>\n",
       "            <tr>\n",
       "                        <th id=\"T_3ba05_level0_row44\" class=\"row_heading level0 row44\" >44</th>\n",
       "                        <td id=\"T_3ba05_row44_col0\" class=\"data row44 col0\" >Remove Perfect Collinearity</td>\n",
       "                        <td id=\"T_3ba05_row44_col1\" class=\"data row44 col1\" >True</td>\n",
       "            </tr>\n",
       "            <tr>\n",
       "                        <th id=\"T_3ba05_level0_row45\" class=\"row_heading level0 row45\" >45</th>\n",
       "                        <td id=\"T_3ba05_row45_col0\" class=\"data row45 col0\" >Clustering</td>\n",
       "                        <td id=\"T_3ba05_row45_col1\" class=\"data row45 col1\" >False</td>\n",
       "            </tr>\n",
       "            <tr>\n",
       "                        <th id=\"T_3ba05_level0_row46\" class=\"row_heading level0 row46\" >46</th>\n",
       "                        <td id=\"T_3ba05_row46_col0\" class=\"data row46 col0\" >Clustering Iteration</td>\n",
       "                        <td id=\"T_3ba05_row46_col1\" class=\"data row46 col1\" >None</td>\n",
       "            </tr>\n",
       "            <tr>\n",
       "                        <th id=\"T_3ba05_level0_row47\" class=\"row_heading level0 row47\" >47</th>\n",
       "                        <td id=\"T_3ba05_row47_col0\" class=\"data row47 col0\" >Polynomial Features</td>\n",
       "                        <td id=\"T_3ba05_row47_col1\" class=\"data row47 col1\" >False</td>\n",
       "            </tr>\n",
       "            <tr>\n",
       "                        <th id=\"T_3ba05_level0_row48\" class=\"row_heading level0 row48\" >48</th>\n",
       "                        <td id=\"T_3ba05_row48_col0\" class=\"data row48 col0\" >Polynomial Degree</td>\n",
       "                        <td id=\"T_3ba05_row48_col1\" class=\"data row48 col1\" >None</td>\n",
       "            </tr>\n",
       "            <tr>\n",
       "                        <th id=\"T_3ba05_level0_row49\" class=\"row_heading level0 row49\" >49</th>\n",
       "                        <td id=\"T_3ba05_row49_col0\" class=\"data row49 col0\" >Trignometry Features</td>\n",
       "                        <td id=\"T_3ba05_row49_col1\" class=\"data row49 col1\" >False</td>\n",
       "            </tr>\n",
       "            <tr>\n",
       "                        <th id=\"T_3ba05_level0_row50\" class=\"row_heading level0 row50\" >50</th>\n",
       "                        <td id=\"T_3ba05_row50_col0\" class=\"data row50 col0\" >Polynomial Threshold</td>\n",
       "                        <td id=\"T_3ba05_row50_col1\" class=\"data row50 col1\" >None</td>\n",
       "            </tr>\n",
       "            <tr>\n",
       "                        <th id=\"T_3ba05_level0_row51\" class=\"row_heading level0 row51\" >51</th>\n",
       "                        <td id=\"T_3ba05_row51_col0\" class=\"data row51 col0\" >Group Features</td>\n",
       "                        <td id=\"T_3ba05_row51_col1\" class=\"data row51 col1\" >False</td>\n",
       "            </tr>\n",
       "            <tr>\n",
       "                        <th id=\"T_3ba05_level0_row52\" class=\"row_heading level0 row52\" >52</th>\n",
       "                        <td id=\"T_3ba05_row52_col0\" class=\"data row52 col0\" >Feature Selection</td>\n",
       "                        <td id=\"T_3ba05_row52_col1\" class=\"data row52 col1\" >False</td>\n",
       "            </tr>\n",
       "            <tr>\n",
       "                        <th id=\"T_3ba05_level0_row53\" class=\"row_heading level0 row53\" >53</th>\n",
       "                        <td id=\"T_3ba05_row53_col0\" class=\"data row53 col0\" >Feature Selection Method</td>\n",
       "                        <td id=\"T_3ba05_row53_col1\" class=\"data row53 col1\" >classic</td>\n",
       "            </tr>\n",
       "            <tr>\n",
       "                        <th id=\"T_3ba05_level0_row54\" class=\"row_heading level0 row54\" >54</th>\n",
       "                        <td id=\"T_3ba05_row54_col0\" class=\"data row54 col0\" >Features Selection Threshold</td>\n",
       "                        <td id=\"T_3ba05_row54_col1\" class=\"data row54 col1\" >None</td>\n",
       "            </tr>\n",
       "            <tr>\n",
       "                        <th id=\"T_3ba05_level0_row55\" class=\"row_heading level0 row55\" >55</th>\n",
       "                        <td id=\"T_3ba05_row55_col0\" class=\"data row55 col0\" >Feature Interaction</td>\n",
       "                        <td id=\"T_3ba05_row55_col1\" class=\"data row55 col1\" >False</td>\n",
       "            </tr>\n",
       "            <tr>\n",
       "                        <th id=\"T_3ba05_level0_row56\" class=\"row_heading level0 row56\" >56</th>\n",
       "                        <td id=\"T_3ba05_row56_col0\" class=\"data row56 col0\" >Feature Ratio</td>\n",
       "                        <td id=\"T_3ba05_row56_col1\" class=\"data row56 col1\" >False</td>\n",
       "            </tr>\n",
       "            <tr>\n",
       "                        <th id=\"T_3ba05_level0_row57\" class=\"row_heading level0 row57\" >57</th>\n",
       "                        <td id=\"T_3ba05_row57_col0\" class=\"data row57 col0\" >Interaction Threshold</td>\n",
       "                        <td id=\"T_3ba05_row57_col1\" class=\"data row57 col1\" >None</td>\n",
       "            </tr>\n",
       "            <tr>\n",
       "                        <th id=\"T_3ba05_level0_row58\" class=\"row_heading level0 row58\" >58</th>\n",
       "                        <td id=\"T_3ba05_row58_col0\" class=\"data row58 col0\" >Fix Imbalance</td>\n",
       "                        <td id=\"T_3ba05_row58_col1\" class=\"data row58 col1\" >False</td>\n",
       "            </tr>\n",
       "            <tr>\n",
       "                        <th id=\"T_3ba05_level0_row59\" class=\"row_heading level0 row59\" >59</th>\n",
       "                        <td id=\"T_3ba05_row59_col0\" class=\"data row59 col0\" >Fix Imbalance Method</td>\n",
       "                        <td id=\"T_3ba05_row59_col1\" class=\"data row59 col1\" >SMOTE</td>\n",
       "            </tr>\n",
       "    </tbody></table>"
      ],
      "text/plain": [
       "<pandas.io.formats.style.Styler at 0x260d8996460>"
      ]
     },
     "metadata": {},
     "output_type": "display_data"
    }
   ],
   "source": [
    "from pycaret.classification import *\n",
    "s = setup(data, target = 'Severity', ignore_features = ['Index'])"
   ]
  },
  {
   "cell_type": "code",
   "execution_count": 390,
   "id": "356d0d91",
   "metadata": {},
   "outputs": [
    {
     "data": {
      "text/html": [
       "<style  type=\"text/css\" >\n",
       "    #T_fb4e0_ th {\n",
       "          text-align: left;\n",
       "    }#T_fb4e0_row0_col0,#T_fb4e0_row0_col3,#T_fb4e0_row0_col4,#T_fb4e0_row1_col0,#T_fb4e0_row1_col1,#T_fb4e0_row1_col2,#T_fb4e0_row1_col4,#T_fb4e0_row1_col5,#T_fb4e0_row1_col6,#T_fb4e0_row1_col7,#T_fb4e0_row2_col0,#T_fb4e0_row2_col1,#T_fb4e0_row2_col2,#T_fb4e0_row2_col3,#T_fb4e0_row2_col4,#T_fb4e0_row2_col5,#T_fb4e0_row2_col6,#T_fb4e0_row2_col7,#T_fb4e0_row3_col0,#T_fb4e0_row3_col1,#T_fb4e0_row3_col2,#T_fb4e0_row3_col3,#T_fb4e0_row3_col5,#T_fb4e0_row3_col6,#T_fb4e0_row3_col7,#T_fb4e0_row4_col0,#T_fb4e0_row4_col1,#T_fb4e0_row4_col2,#T_fb4e0_row4_col3,#T_fb4e0_row4_col4,#T_fb4e0_row4_col5,#T_fb4e0_row4_col6,#T_fb4e0_row4_col7,#T_fb4e0_row5_col0,#T_fb4e0_row5_col1,#T_fb4e0_row5_col2,#T_fb4e0_row5_col3,#T_fb4e0_row5_col4,#T_fb4e0_row5_col5,#T_fb4e0_row5_col6,#T_fb4e0_row5_col7,#T_fb4e0_row6_col0,#T_fb4e0_row6_col1,#T_fb4e0_row6_col2,#T_fb4e0_row6_col3,#T_fb4e0_row6_col4,#T_fb4e0_row6_col5,#T_fb4e0_row6_col6,#T_fb4e0_row6_col7,#T_fb4e0_row7_col0,#T_fb4e0_row7_col1,#T_fb4e0_row7_col2,#T_fb4e0_row7_col3,#T_fb4e0_row7_col4,#T_fb4e0_row7_col5,#T_fb4e0_row7_col6,#T_fb4e0_row7_col7,#T_fb4e0_row8_col0,#T_fb4e0_row8_col1,#T_fb4e0_row8_col2,#T_fb4e0_row8_col3,#T_fb4e0_row8_col4,#T_fb4e0_row8_col5,#T_fb4e0_row8_col6,#T_fb4e0_row8_col7,#T_fb4e0_row9_col0,#T_fb4e0_row9_col1,#T_fb4e0_row9_col2,#T_fb4e0_row9_col3,#T_fb4e0_row9_col4,#T_fb4e0_row9_col5,#T_fb4e0_row9_col6,#T_fb4e0_row9_col7,#T_fb4e0_row10_col0,#T_fb4e0_row10_col1,#T_fb4e0_row10_col2,#T_fb4e0_row10_col3,#T_fb4e0_row10_col4,#T_fb4e0_row10_col5,#T_fb4e0_row10_col6,#T_fb4e0_row10_col7,#T_fb4e0_row11_col0,#T_fb4e0_row11_col1,#T_fb4e0_row11_col2,#T_fb4e0_row11_col3,#T_fb4e0_row11_col4,#T_fb4e0_row11_col5,#T_fb4e0_row11_col6,#T_fb4e0_row11_col7,#T_fb4e0_row12_col0,#T_fb4e0_row12_col1,#T_fb4e0_row12_col2,#T_fb4e0_row12_col3,#T_fb4e0_row12_col4,#T_fb4e0_row12_col5,#T_fb4e0_row12_col6,#T_fb4e0_row12_col7,#T_fb4e0_row13_col0,#T_fb4e0_row13_col1,#T_fb4e0_row13_col2,#T_fb4e0_row13_col4,#T_fb4e0_row13_col5,#T_fb4e0_row13_col6,#T_fb4e0_row13_col7{\n",
       "            text-align:  left;\n",
       "            text-align:  left;\n",
       "        }#T_fb4e0_row0_col1,#T_fb4e0_row0_col2,#T_fb4e0_row0_col5,#T_fb4e0_row0_col6,#T_fb4e0_row0_col7,#T_fb4e0_row1_col3,#T_fb4e0_row3_col4,#T_fb4e0_row13_col3{\n",
       "            text-align:  left;\n",
       "            text-align:  left;\n",
       "            background-color:  yellow;\n",
       "        }#T_fb4e0_row0_col8,#T_fb4e0_row1_col8,#T_fb4e0_row2_col8,#T_fb4e0_row3_col8,#T_fb4e0_row4_col8,#T_fb4e0_row5_col8,#T_fb4e0_row6_col8,#T_fb4e0_row7_col8,#T_fb4e0_row8_col8,#T_fb4e0_row10_col8,#T_fb4e0_row13_col8{\n",
       "            text-align:  left;\n",
       "            text-align:  left;\n",
       "            background-color:  lightgrey;\n",
       "        }#T_fb4e0_row9_col8,#T_fb4e0_row11_col8,#T_fb4e0_row12_col8{\n",
       "            text-align:  left;\n",
       "            text-align:  left;\n",
       "            background-color:  yellow;\n",
       "            background-color:  lightgrey;\n",
       "        }</style><table id=\"T_fb4e0_\" ><thead>    <tr>        <th class=\"blank level0\" ></th>        <th class=\"col_heading level0 col0\" >Model</th>        <th class=\"col_heading level0 col1\" >Accuracy</th>        <th class=\"col_heading level0 col2\" >AUC</th>        <th class=\"col_heading level0 col3\" >Recall</th>        <th class=\"col_heading level0 col4\" >Prec.</th>        <th class=\"col_heading level0 col5\" >F1</th>        <th class=\"col_heading level0 col6\" >Kappa</th>        <th class=\"col_heading level0 col7\" >MCC</th>        <th class=\"col_heading level0 col8\" >TT (Sec)</th>    </tr></thead><tbody>\n",
       "                <tr>\n",
       "                        <th id=\"T_fb4e0_level0_row0\" class=\"row_heading level0 row0\" >lr</th>\n",
       "                        <td id=\"T_fb4e0_row0_col0\" class=\"data row0 col0\" >Logistic Regression</td>\n",
       "                        <td id=\"T_fb4e0_row0_col1\" class=\"data row0 col1\" >0.8146</td>\n",
       "                        <td id=\"T_fb4e0_row0_col2\" class=\"data row0 col2\" >0.8846</td>\n",
       "                        <td id=\"T_fb4e0_row0_col3\" class=\"data row0 col3\" >0.8079</td>\n",
       "                        <td id=\"T_fb4e0_row0_col4\" class=\"data row0 col4\" >0.8127</td>\n",
       "                        <td id=\"T_fb4e0_row0_col5\" class=\"data row0 col5\" >0.8094</td>\n",
       "                        <td id=\"T_fb4e0_row0_col6\" class=\"data row0 col6\" >0.6288</td>\n",
       "                        <td id=\"T_fb4e0_row0_col7\" class=\"data row0 col7\" >0.6303</td>\n",
       "                        <td id=\"T_fb4e0_row0_col8\" class=\"data row0 col8\" >0.5970</td>\n",
       "            </tr>\n",
       "            <tr>\n",
       "                        <th id=\"T_fb4e0_level0_row1\" class=\"row_heading level0 row1\" >lda</th>\n",
       "                        <td id=\"T_fb4e0_row1_col0\" class=\"data row1 col0\" >Linear Discriminant Analysis</td>\n",
       "                        <td id=\"T_fb4e0_row1_col1\" class=\"data row1 col1\" >0.8093</td>\n",
       "                        <td id=\"T_fb4e0_row1_col2\" class=\"data row1 col2\" >0.8814</td>\n",
       "                        <td id=\"T_fb4e0_row1_col3\" class=\"data row1 col3\" >0.8118</td>\n",
       "                        <td id=\"T_fb4e0_row1_col4\" class=\"data row1 col4\" >0.8025</td>\n",
       "                        <td id=\"T_fb4e0_row1_col5\" class=\"data row1 col5\" >0.8063</td>\n",
       "                        <td id=\"T_fb4e0_row1_col6\" class=\"data row1 col6\" >0.6185</td>\n",
       "                        <td id=\"T_fb4e0_row1_col7\" class=\"data row1 col7\" >0.6199</td>\n",
       "                        <td id=\"T_fb4e0_row1_col8\" class=\"data row1 col8\" >0.0090</td>\n",
       "            </tr>\n",
       "            <tr>\n",
       "                        <th id=\"T_fb4e0_level0_row2\" class=\"row_heading level0 row2\" >gbc</th>\n",
       "                        <td id=\"T_fb4e0_row2_col0\" class=\"data row2 col0\" >Gradient Boosting Classifier</td>\n",
       "                        <td id=\"T_fb4e0_row2_col1\" class=\"data row2 col1\" >0.8023</td>\n",
       "                        <td id=\"T_fb4e0_row2_col2\" class=\"data row2 col2\" >0.8669</td>\n",
       "                        <td id=\"T_fb4e0_row2_col3\" class=\"data row2 col3\" >0.7901</td>\n",
       "                        <td id=\"T_fb4e0_row2_col4\" class=\"data row2 col4\" >0.8047</td>\n",
       "                        <td id=\"T_fb4e0_row2_col5\" class=\"data row2 col5\" >0.7958</td>\n",
       "                        <td id=\"T_fb4e0_row2_col6\" class=\"data row2 col6\" >0.6042</td>\n",
       "                        <td id=\"T_fb4e0_row2_col7\" class=\"data row2 col7\" >0.6064</td>\n",
       "                        <td id=\"T_fb4e0_row2_col8\" class=\"data row2 col8\" >0.0310</td>\n",
       "            </tr>\n",
       "            <tr>\n",
       "                        <th id=\"T_fb4e0_level0_row3\" class=\"row_heading level0 row3\" >ada</th>\n",
       "                        <td id=\"T_fb4e0_row3_col0\" class=\"data row3 col0\" >Ada Boost Classifier</td>\n",
       "                        <td id=\"T_fb4e0_row3_col1\" class=\"data row3 col1\" >0.8058</td>\n",
       "                        <td id=\"T_fb4e0_row3_col2\" class=\"data row3 col2\" >0.8648</td>\n",
       "                        <td id=\"T_fb4e0_row3_col3\" class=\"data row3 col3\" >0.7612</td>\n",
       "                        <td id=\"T_fb4e0_row3_col4\" class=\"data row3 col4\" >0.8301</td>\n",
       "                        <td id=\"T_fb4e0_row3_col5\" class=\"data row3 col5\" >0.7925</td>\n",
       "                        <td id=\"T_fb4e0_row3_col6\" class=\"data row3 col6\" >0.6106</td>\n",
       "                        <td id=\"T_fb4e0_row3_col7\" class=\"data row3 col7\" >0.6145</td>\n",
       "                        <td id=\"T_fb4e0_row3_col8\" class=\"data row3 col8\" >0.0330</td>\n",
       "            </tr>\n",
       "            <tr>\n",
       "                        <th id=\"T_fb4e0_level0_row4\" class=\"row_heading level0 row4\" >lightgbm</th>\n",
       "                        <td id=\"T_fb4e0_row4_col0\" class=\"data row4 col0\" >Light Gradient Boosting Machine</td>\n",
       "                        <td id=\"T_fb4e0_row4_col1\" class=\"data row4 col1\" >0.7882</td>\n",
       "                        <td id=\"T_fb4e0_row4_col2\" class=\"data row4 col2\" >0.8560</td>\n",
       "                        <td id=\"T_fb4e0_row4_col3\" class=\"data row4 col3\" >0.7865</td>\n",
       "                        <td id=\"T_fb4e0_row4_col4\" class=\"data row4 col4\" >0.7841</td>\n",
       "                        <td id=\"T_fb4e0_row4_col5\" class=\"data row4 col5\" >0.7844</td>\n",
       "                        <td id=\"T_fb4e0_row4_col6\" class=\"data row4 col6\" >0.5762</td>\n",
       "                        <td id=\"T_fb4e0_row4_col7\" class=\"data row4 col7\" >0.5775</td>\n",
       "                        <td id=\"T_fb4e0_row4_col8\" class=\"data row4 col8\" >0.1500</td>\n",
       "            </tr>\n",
       "            <tr>\n",
       "                        <th id=\"T_fb4e0_level0_row5\" class=\"row_heading level0 row5\" >rf</th>\n",
       "                        <td id=\"T_fb4e0_row5_col0\" class=\"data row5 col0\" >Random Forest Classifier</td>\n",
       "                        <td id=\"T_fb4e0_row5_col1\" class=\"data row5 col1\" >0.7759</td>\n",
       "                        <td id=\"T_fb4e0_row5_col2\" class=\"data row5 col2\" >0.8428</td>\n",
       "                        <td id=\"T_fb4e0_row5_col3\" class=\"data row5 col3\" >0.7832</td>\n",
       "                        <td id=\"T_fb4e0_row5_col4\" class=\"data row5 col4\" >0.7671</td>\n",
       "                        <td id=\"T_fb4e0_row5_col5\" class=\"data row5 col5\" >0.7732</td>\n",
       "                        <td id=\"T_fb4e0_row5_col6\" class=\"data row5 col6\" >0.5518</td>\n",
       "                        <td id=\"T_fb4e0_row5_col7\" class=\"data row5 col7\" >0.5547</td>\n",
       "                        <td id=\"T_fb4e0_row5_col8\" class=\"data row5 col8\" >0.0750</td>\n",
       "            </tr>\n",
       "            <tr>\n",
       "                        <th id=\"T_fb4e0_level0_row6\" class=\"row_heading level0 row6\" >nb</th>\n",
       "                        <td id=\"T_fb4e0_row6_col0\" class=\"data row6 col0\" >Naive Bayes</td>\n",
       "                        <td id=\"T_fb4e0_row6_col1\" class=\"data row6 col1\" >0.7599</td>\n",
       "                        <td id=\"T_fb4e0_row6_col2\" class=\"data row6 col2\" >0.8318</td>\n",
       "                        <td id=\"T_fb4e0_row6_col3\" class=\"data row6 col3\" >0.7684</td>\n",
       "                        <td id=\"T_fb4e0_row6_col4\" class=\"data row6 col4\" >0.7504</td>\n",
       "                        <td id=\"T_fb4e0_row6_col5\" class=\"data row6 col5\" >0.7582</td>\n",
       "                        <td id=\"T_fb4e0_row6_col6\" class=\"data row6 col6\" >0.5199</td>\n",
       "                        <td id=\"T_fb4e0_row6_col7\" class=\"data row6 col7\" >0.5215</td>\n",
       "                        <td id=\"T_fb4e0_row6_col8\" class=\"data row6 col8\" >0.0070</td>\n",
       "            </tr>\n",
       "            <tr>\n",
       "                        <th id=\"T_fb4e0_level0_row7\" class=\"row_heading level0 row7\" >knn</th>\n",
       "                        <td id=\"T_fb4e0_row7_col0\" class=\"data row7 col0\" >K Neighbors Classifier</td>\n",
       "                        <td id=\"T_fb4e0_row7_col1\" class=\"data row7 col1\" >0.7776</td>\n",
       "                        <td id=\"T_fb4e0_row7_col2\" class=\"data row7 col2\" >0.8261</td>\n",
       "                        <td id=\"T_fb4e0_row7_col3\" class=\"data row7 col3\" >0.7684</td>\n",
       "                        <td id=\"T_fb4e0_row7_col4\" class=\"data row7 col4\" >0.7747</td>\n",
       "                        <td id=\"T_fb4e0_row7_col5\" class=\"data row7 col5\" >0.7709</td>\n",
       "                        <td id=\"T_fb4e0_row7_col6\" class=\"data row7 col6\" >0.5547</td>\n",
       "                        <td id=\"T_fb4e0_row7_col7\" class=\"data row7 col7\" >0.5556</td>\n",
       "                        <td id=\"T_fb4e0_row7_col8\" class=\"data row7 col8\" >0.0090</td>\n",
       "            </tr>\n",
       "            <tr>\n",
       "                        <th id=\"T_fb4e0_level0_row8\" class=\"row_heading level0 row8\" >et</th>\n",
       "                        <td id=\"T_fb4e0_row8_col0\" class=\"data row8 col0\" >Extra Trees Classifier</td>\n",
       "                        <td id=\"T_fb4e0_row8_col1\" class=\"data row8 col1\" >0.7477</td>\n",
       "                        <td id=\"T_fb4e0_row8_col2\" class=\"data row8 col2\" >0.8038</td>\n",
       "                        <td id=\"T_fb4e0_row8_col3\" class=\"data row8 col3\" >0.7292</td>\n",
       "                        <td id=\"T_fb4e0_row8_col4\" class=\"data row8 col4\" >0.7510</td>\n",
       "                        <td id=\"T_fb4e0_row8_col5\" class=\"data row8 col5\" >0.7390</td>\n",
       "                        <td id=\"T_fb4e0_row8_col6\" class=\"data row8 col6\" >0.4949</td>\n",
       "                        <td id=\"T_fb4e0_row8_col7\" class=\"data row8 col7\" >0.4963</td>\n",
       "                        <td id=\"T_fb4e0_row8_col8\" class=\"data row8 col8\" >0.0640</td>\n",
       "            </tr>\n",
       "            <tr>\n",
       "                        <th id=\"T_fb4e0_level0_row9\" class=\"row_heading level0 row9\" >dt</th>\n",
       "                        <td id=\"T_fb4e0_row9_col0\" class=\"data row9 col0\" >Decision Tree Classifier</td>\n",
       "                        <td id=\"T_fb4e0_row9_col1\" class=\"data row9 col1\" >0.7372</td>\n",
       "                        <td id=\"T_fb4e0_row9_col2\" class=\"data row9 col2\" >0.7489</td>\n",
       "                        <td id=\"T_fb4e0_row9_col3\" class=\"data row9 col3\" >0.7078</td>\n",
       "                        <td id=\"T_fb4e0_row9_col4\" class=\"data row9 col4\" >0.7431</td>\n",
       "                        <td id=\"T_fb4e0_row9_col5\" class=\"data row9 col5\" >0.7232</td>\n",
       "                        <td id=\"T_fb4e0_row9_col6\" class=\"data row9 col6\" >0.4736</td>\n",
       "                        <td id=\"T_fb4e0_row9_col7\" class=\"data row9 col7\" >0.4759</td>\n",
       "                        <td id=\"T_fb4e0_row9_col8\" class=\"data row9 col8\" >0.0060</td>\n",
       "            </tr>\n",
       "            <tr>\n",
       "                        <th id=\"T_fb4e0_level0_row10\" class=\"row_heading level0 row10\" >qda</th>\n",
       "                        <td id=\"T_fb4e0_row10_col0\" class=\"data row10 col0\" >Quadratic Discriminant Analysis</td>\n",
       "                        <td id=\"T_fb4e0_row10_col1\" class=\"data row10 col1\" >0.6369</td>\n",
       "                        <td id=\"T_fb4e0_row10_col2\" class=\"data row10 col2\" >0.6361</td>\n",
       "                        <td id=\"T_fb4e0_row10_col3\" class=\"data row10 col3\" >0.6066</td>\n",
       "                        <td id=\"T_fb4e0_row10_col4\" class=\"data row10 col4\" >0.5977</td>\n",
       "                        <td id=\"T_fb4e0_row10_col5\" class=\"data row10 col5\" >0.5832</td>\n",
       "                        <td id=\"T_fb4e0_row10_col6\" class=\"data row10 col6\" >0.2724</td>\n",
       "                        <td id=\"T_fb4e0_row10_col7\" class=\"data row10 col7\" >0.2841</td>\n",
       "                        <td id=\"T_fb4e0_row10_col8\" class=\"data row10 col8\" >0.0090</td>\n",
       "            </tr>\n",
       "            <tr>\n",
       "                        <th id=\"T_fb4e0_level0_row11\" class=\"row_heading level0 row11\" >dummy</th>\n",
       "                        <td id=\"T_fb4e0_row11_col0\" class=\"data row11 col0\" >Dummy Classifier</td>\n",
       "                        <td id=\"T_fb4e0_row11_col1\" class=\"data row11 col1\" >0.5115</td>\n",
       "                        <td id=\"T_fb4e0_row11_col2\" class=\"data row11 col2\" >0.5000</td>\n",
       "                        <td id=\"T_fb4e0_row11_col3\" class=\"data row11 col3\" >0.0000</td>\n",
       "                        <td id=\"T_fb4e0_row11_col4\" class=\"data row11 col4\" >0.0000</td>\n",
       "                        <td id=\"T_fb4e0_row11_col5\" class=\"data row11 col5\" >0.0000</td>\n",
       "                        <td id=\"T_fb4e0_row11_col6\" class=\"data row11 col6\" >0.0000</td>\n",
       "                        <td id=\"T_fb4e0_row11_col7\" class=\"data row11 col7\" >0.0000</td>\n",
       "                        <td id=\"T_fb4e0_row11_col8\" class=\"data row11 col8\" >0.0060</td>\n",
       "            </tr>\n",
       "            <tr>\n",
       "                        <th id=\"T_fb4e0_level0_row12\" class=\"row_heading level0 row12\" >svm</th>\n",
       "                        <td id=\"T_fb4e0_row12_col0\" class=\"data row12 col0\" >SVM - Linear Kernel</td>\n",
       "                        <td id=\"T_fb4e0_row12_col1\" class=\"data row12 col1\" >0.6509</td>\n",
       "                        <td id=\"T_fb4e0_row12_col2\" class=\"data row12 col2\" >0.0000</td>\n",
       "                        <td id=\"T_fb4e0_row12_col3\" class=\"data row12 col3\" >0.5275</td>\n",
       "                        <td id=\"T_fb4e0_row12_col4\" class=\"data row12 col4\" >0.5239</td>\n",
       "                        <td id=\"T_fb4e0_row12_col5\" class=\"data row12 col5\" >0.4787</td>\n",
       "                        <td id=\"T_fb4e0_row12_col6\" class=\"data row12 col6\" >0.2954</td>\n",
       "                        <td id=\"T_fb4e0_row12_col7\" class=\"data row12 col7\" >0.3284</td>\n",
       "                        <td id=\"T_fb4e0_row12_col8\" class=\"data row12 col8\" >0.0060</td>\n",
       "            </tr>\n",
       "            <tr>\n",
       "                        <th id=\"T_fb4e0_level0_row13\" class=\"row_heading level0 row13\" >ridge</th>\n",
       "                        <td id=\"T_fb4e0_row13_col0\" class=\"data row13 col0\" >Ridge Classifier</td>\n",
       "                        <td id=\"T_fb4e0_row13_col1\" class=\"data row13 col1\" >0.8093</td>\n",
       "                        <td id=\"T_fb4e0_row13_col2\" class=\"data row13 col2\" >0.0000</td>\n",
       "                        <td id=\"T_fb4e0_row13_col3\" class=\"data row13 col3\" >0.8118</td>\n",
       "                        <td id=\"T_fb4e0_row13_col4\" class=\"data row13 col4\" >0.8025</td>\n",
       "                        <td id=\"T_fb4e0_row13_col5\" class=\"data row13 col5\" >0.8063</td>\n",
       "                        <td id=\"T_fb4e0_row13_col6\" class=\"data row13 col6\" >0.6185</td>\n",
       "                        <td id=\"T_fb4e0_row13_col7\" class=\"data row13 col7\" >0.6199</td>\n",
       "                        <td id=\"T_fb4e0_row13_col8\" class=\"data row13 col8\" >0.0080</td>\n",
       "            </tr>\n",
       "    </tbody></table>"
      ],
      "text/plain": [
       "<pandas.io.formats.style.Styler at 0x260dc930400>"
      ]
     },
     "metadata": {},
     "output_type": "display_data"
    }
   ],
   "source": [
    "best_model = compare_models(sort='AUC')"
   ]
  },
  {
   "cell_type": "code",
   "execution_count": 391,
   "id": "587d19a3",
   "metadata": {},
   "outputs": [
    {
     "data": {
      "text/html": [
       "<style  type=\"text/css\" >\n",
       "#T_058ec_row10_col0,#T_058ec_row10_col1,#T_058ec_row10_col2,#T_058ec_row10_col3,#T_058ec_row10_col4,#T_058ec_row10_col5,#T_058ec_row10_col6{\n",
       "            background:  yellow;\n",
       "        }</style><table id=\"T_058ec_\" ><thead>    <tr>        <th class=\"blank level0\" ></th>        <th class=\"col_heading level0 col0\" >Accuracy</th>        <th class=\"col_heading level0 col1\" >AUC</th>        <th class=\"col_heading level0 col2\" >Recall</th>        <th class=\"col_heading level0 col3\" >Prec.</th>        <th class=\"col_heading level0 col4\" >F1</th>        <th class=\"col_heading level0 col5\" >Kappa</th>        <th class=\"col_heading level0 col6\" >MCC</th>    </tr></thead><tbody>\n",
       "                <tr>\n",
       "                        <th id=\"T_058ec_level0_row0\" class=\"row_heading level0 row0\" >0</th>\n",
       "                        <td id=\"T_058ec_row0_col0\" class=\"data row0 col0\" >0.8596</td>\n",
       "                        <td id=\"T_058ec_row0_col1\" class=\"data row0 col1\" >0.9397</td>\n",
       "                        <td id=\"T_058ec_row0_col2\" class=\"data row0 col2\" >0.8571</td>\n",
       "                        <td id=\"T_058ec_row0_col3\" class=\"data row0 col3\" >0.8571</td>\n",
       "                        <td id=\"T_058ec_row0_col4\" class=\"data row0 col4\" >0.8571</td>\n",
       "                        <td id=\"T_058ec_row0_col5\" class=\"data row0 col5\" >0.7192</td>\n",
       "                        <td id=\"T_058ec_row0_col6\" class=\"data row0 col6\" >0.7192</td>\n",
       "            </tr>\n",
       "            <tr>\n",
       "                        <th id=\"T_058ec_level0_row1\" class=\"row_heading level0 row1\" >1</th>\n",
       "                        <td id=\"T_058ec_row1_col0\" class=\"data row1 col0\" >0.8596</td>\n",
       "                        <td id=\"T_058ec_row1_col1\" class=\"data row1 col1\" >0.8658</td>\n",
       "                        <td id=\"T_058ec_row1_col2\" class=\"data row1 col2\" >0.8214</td>\n",
       "                        <td id=\"T_058ec_row1_col3\" class=\"data row1 col3\" >0.8846</td>\n",
       "                        <td id=\"T_058ec_row1_col4\" class=\"data row1 col4\" >0.8519</td>\n",
       "                        <td id=\"T_058ec_row1_col5\" class=\"data row1 col5\" >0.7189</td>\n",
       "                        <td id=\"T_058ec_row1_col6\" class=\"data row1 col6\" >0.7206</td>\n",
       "            </tr>\n",
       "            <tr>\n",
       "                        <th id=\"T_058ec_level0_row2\" class=\"row_heading level0 row2\" >2</th>\n",
       "                        <td id=\"T_058ec_row2_col0\" class=\"data row2 col0\" >0.7719</td>\n",
       "                        <td id=\"T_058ec_row2_col1\" class=\"data row2 col1\" >0.8676</td>\n",
       "                        <td id=\"T_058ec_row2_col2\" class=\"data row2 col2\" >0.7857</td>\n",
       "                        <td id=\"T_058ec_row2_col3\" class=\"data row2 col3\" >0.7586</td>\n",
       "                        <td id=\"T_058ec_row2_col4\" class=\"data row2 col4\" >0.7719</td>\n",
       "                        <td id=\"T_058ec_row2_col5\" class=\"data row2 col5\" >0.5440</td>\n",
       "                        <td id=\"T_058ec_row2_col6\" class=\"data row2 col6\" >0.5443</td>\n",
       "            </tr>\n",
       "            <tr>\n",
       "                        <th id=\"T_058ec_level0_row3\" class=\"row_heading level0 row3\" >3</th>\n",
       "                        <td id=\"T_058ec_row3_col0\" class=\"data row3 col0\" >0.7719</td>\n",
       "                        <td id=\"T_058ec_row3_col1\" class=\"data row3 col1\" >0.8534</td>\n",
       "                        <td id=\"T_058ec_row3_col2\" class=\"data row3 col2\" >0.8214</td>\n",
       "                        <td id=\"T_058ec_row3_col3\" class=\"data row3 col3\" >0.7419</td>\n",
       "                        <td id=\"T_058ec_row3_col4\" class=\"data row3 col4\" >0.7797</td>\n",
       "                        <td id=\"T_058ec_row3_col5\" class=\"data row3 col5\" >0.5446</td>\n",
       "                        <td id=\"T_058ec_row3_col6\" class=\"data row3 col6\" >0.5476</td>\n",
       "            </tr>\n",
       "            <tr>\n",
       "                        <th id=\"T_058ec_level0_row4\" class=\"row_heading level0 row4\" >4</th>\n",
       "                        <td id=\"T_058ec_row4_col0\" class=\"data row4 col0\" >0.8596</td>\n",
       "                        <td id=\"T_058ec_row4_col1\" class=\"data row4 col1\" >0.8590</td>\n",
       "                        <td id=\"T_058ec_row4_col2\" class=\"data row4 col2\" >0.8929</td>\n",
       "                        <td id=\"T_058ec_row4_col3\" class=\"data row4 col3\" >0.8333</td>\n",
       "                        <td id=\"T_058ec_row4_col4\" class=\"data row4 col4\" >0.8621</td>\n",
       "                        <td id=\"T_058ec_row4_col5\" class=\"data row4 col5\" >0.7196</td>\n",
       "                        <td id=\"T_058ec_row4_col6\" class=\"data row4 col6\" >0.7213</td>\n",
       "            </tr>\n",
       "            <tr>\n",
       "                        <th id=\"T_058ec_level0_row5\" class=\"row_heading level0 row5\" >5</th>\n",
       "                        <td id=\"T_058ec_row5_col0\" class=\"data row5 col0\" >0.8246</td>\n",
       "                        <td id=\"T_058ec_row5_col1\" class=\"data row5 col1\" >0.9107</td>\n",
       "                        <td id=\"T_058ec_row5_col2\" class=\"data row5 col2\" >0.7500</td>\n",
       "                        <td id=\"T_058ec_row5_col3\" class=\"data row5 col3\" >0.8750</td>\n",
       "                        <td id=\"T_058ec_row5_col4\" class=\"data row5 col4\" >0.8077</td>\n",
       "                        <td id=\"T_058ec_row5_col5\" class=\"data row5 col5\" >0.6481</td>\n",
       "                        <td id=\"T_058ec_row5_col6\" class=\"data row5 col6\" >0.6547</td>\n",
       "            </tr>\n",
       "            <tr>\n",
       "                        <th id=\"T_058ec_level0_row6\" class=\"row_heading level0 row6\" >6</th>\n",
       "                        <td id=\"T_058ec_row6_col0\" class=\"data row6 col0\" >0.8772</td>\n",
       "                        <td id=\"T_058ec_row6_col1\" class=\"data row6 col1\" >0.9372</td>\n",
       "                        <td id=\"T_058ec_row6_col2\" class=\"data row6 col2\" >0.9286</td>\n",
       "                        <td id=\"T_058ec_row6_col3\" class=\"data row6 col3\" >0.8387</td>\n",
       "                        <td id=\"T_058ec_row6_col4\" class=\"data row6 col4\" >0.8814</td>\n",
       "                        <td id=\"T_058ec_row6_col5\" class=\"data row6 col5\" >0.7548</td>\n",
       "                        <td id=\"T_058ec_row6_col6\" class=\"data row6 col6\" >0.7590</td>\n",
       "            </tr>\n",
       "            <tr>\n",
       "                        <th id=\"T_058ec_level0_row7\" class=\"row_heading level0 row7\" >7</th>\n",
       "                        <td id=\"T_058ec_row7_col0\" class=\"data row7 col0\" >0.7857</td>\n",
       "                        <td id=\"T_058ec_row7_col1\" class=\"data row7 col1\" >0.8793</td>\n",
       "                        <td id=\"T_058ec_row7_col2\" class=\"data row7 col2\" >0.7407</td>\n",
       "                        <td id=\"T_058ec_row7_col3\" class=\"data row7 col3\" >0.8000</td>\n",
       "                        <td id=\"T_058ec_row7_col4\" class=\"data row7 col4\" >0.7692</td>\n",
       "                        <td id=\"T_058ec_row7_col5\" class=\"data row7 col5\" >0.5698</td>\n",
       "                        <td id=\"T_058ec_row7_col6\" class=\"data row7 col6\" >0.5713</td>\n",
       "            </tr>\n",
       "            <tr>\n",
       "                        <th id=\"T_058ec_level0_row8\" class=\"row_heading level0 row8\" >8</th>\n",
       "                        <td id=\"T_058ec_row8_col0\" class=\"data row8 col0\" >0.8036</td>\n",
       "                        <td id=\"T_058ec_row8_col1\" class=\"data row8 col1\" >0.8972</td>\n",
       "                        <td id=\"T_058ec_row8_col2\" class=\"data row8 col2\" >0.7778</td>\n",
       "                        <td id=\"T_058ec_row8_col3\" class=\"data row8 col3\" >0.8077</td>\n",
       "                        <td id=\"T_058ec_row8_col4\" class=\"data row8 col4\" >0.7925</td>\n",
       "                        <td id=\"T_058ec_row8_col5\" class=\"data row8 col5\" >0.6061</td>\n",
       "                        <td id=\"T_058ec_row8_col6\" class=\"data row8 col6\" >0.6065</td>\n",
       "            </tr>\n",
       "            <tr>\n",
       "                        <th id=\"T_058ec_level0_row9\" class=\"row_heading level0 row9\" >9</th>\n",
       "                        <td id=\"T_058ec_row9_col0\" class=\"data row9 col0\" >0.7321</td>\n",
       "                        <td id=\"T_058ec_row9_col1\" class=\"data row9 col1\" >0.8384</td>\n",
       "                        <td id=\"T_058ec_row9_col2\" class=\"data row9 col2\" >0.7037</td>\n",
       "                        <td id=\"T_058ec_row9_col3\" class=\"data row9 col3\" >0.7308</td>\n",
       "                        <td id=\"T_058ec_row9_col4\" class=\"data row9 col4\" >0.7170</td>\n",
       "                        <td id=\"T_058ec_row9_col5\" class=\"data row9 col5\" >0.4629</td>\n",
       "                        <td id=\"T_058ec_row9_col6\" class=\"data row9 col6\" >0.4632</td>\n",
       "            </tr>\n",
       "            <tr>\n",
       "                        <th id=\"T_058ec_level0_row10\" class=\"row_heading level0 row10\" >Mean</th>\n",
       "                        <td id=\"T_058ec_row10_col0\" class=\"data row10 col0\" >0.8146</td>\n",
       "                        <td id=\"T_058ec_row10_col1\" class=\"data row10 col1\" >0.8848</td>\n",
       "                        <td id=\"T_058ec_row10_col2\" class=\"data row10 col2\" >0.8079</td>\n",
       "                        <td id=\"T_058ec_row10_col3\" class=\"data row10 col3\" >0.8128</td>\n",
       "                        <td id=\"T_058ec_row10_col4\" class=\"data row10 col4\" >0.8090</td>\n",
       "                        <td id=\"T_058ec_row10_col5\" class=\"data row10 col5\" >0.6288</td>\n",
       "                        <td id=\"T_058ec_row10_col6\" class=\"data row10 col6\" >0.6308</td>\n",
       "            </tr>\n",
       "            <tr>\n",
       "                        <th id=\"T_058ec_level0_row11\" class=\"row_heading level0 row11\" >SD</th>\n",
       "                        <td id=\"T_058ec_row11_col0\" class=\"data row11 col0\" >0.0464</td>\n",
       "                        <td id=\"T_058ec_row11_col1\" class=\"data row11 col1\" >0.0333</td>\n",
       "                        <td id=\"T_058ec_row11_col2\" class=\"data row11 col2\" >0.0669</td>\n",
       "                        <td id=\"T_058ec_row11_col3\" class=\"data row11 col3\" >0.0519</td>\n",
       "                        <td id=\"T_058ec_row11_col4\" class=\"data row11 col4\" >0.0498</td>\n",
       "                        <td id=\"T_058ec_row11_col5\" class=\"data row11 col5\" >0.0930</td>\n",
       "                        <td id=\"T_058ec_row11_col6\" class=\"data row11 col6\" >0.0936</td>\n",
       "            </tr>\n",
       "    </tbody></table>"
      ],
      "text/plain": [
       "<pandas.io.formats.style.Styler at 0x260d5083400>"
      ]
     },
     "metadata": {},
     "output_type": "display_data"
    }
   ],
   "source": [
    "tuned_best_model = tune_model(best_model)"
   ]
  },
  {
   "cell_type": "code",
   "execution_count": 392,
   "id": "a78a81e4",
   "metadata": {},
   "outputs": [
    {
     "data": {
      "image/png": "[encoded data removed]",
      "text/plain": [
       "<Figure size 576x396 with 1 Axes>"
      ]
     },
     "metadata": {},
     "output_type": "display_data"
    }
   ],
   "source": [
    "plot_model(tuned_best_model, plot = 'auc')"
   ]
  },
  {
   "cell_type": "code",
   "execution_count": 393,
   "id": "0ac296ec",
   "metadata": {},
   "outputs": [
    {
     "data": {
      "image/png": "[encoded data removed]",
      "text/plain": [
       "<Figure size 800x500 with 1 Axes>"
      ]
     },
     "metadata": {},
     "output_type": "display_data"
    }
   ],
   "source": [
    "plot_model(tuned_best_model, plot = 'feature')"
   ]
  },
  {
   "cell_type": "code",
   "execution_count": 394,
   "id": "5f504c22",
   "metadata": {},
   "outputs": [
    {
     "data": {
      "image/png": "[encoded data removed]",
      "text/plain": [
       "<Figure size 576x396 with 1 Axes>"
      ]
     },
     "metadata": {},
     "output_type": "display_data"
    }
   ],
   "source": [
    "plot_model(tuned_best_model, plot = 'confusion_matrix')"
   ]
  }
 ],
 "metadata": {
  "kernelspec": {
   "display_name": "Python 3",
   "language": "python",
   "name": "python3"
  },
  "language_info": {
   "codemirror_mode": {
    "name": "ipython",
    "version": 3
   },
   "file_extension": ".py",
   "mimetype": "text/x-python",
   "name": "python",
   "nbconvert_exporter": "python",
   "pygments_lexer": "ipython3",
   "version": "3.8.8"
  }
 },
 "nbformat": 4,
 "nbformat_minor": 5
}
